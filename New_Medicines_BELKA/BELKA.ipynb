{
  "cells": [
    {
      "cell_type": "markdown",
      "source": [
        "Необходимо разработать модель машинного обучения для прогнозирования связывающей способности малых молекул с определенными белками, что поможет разработке лекарств для фармацевтической промышленности. Необходимо предсказать, какие лекарственно-подобные малые молекулы (химические вещества) будут связываться с тремя возможными белками (HSA, sEH, BRD4)."
      ],
      "metadata": {
        "id": "ExMbNvk36lFk"
      },
      "id": "ExMbNvk36lFk"
    },
    {
      "cell_type": "code",
      "execution_count": null,
      "id": "db130229",
      "metadata": {
        "execution": {
          "iopub.execute_input": "2024-07-01T17:54:30.248258Z",
          "iopub.status.busy": "2024-07-01T17:54:30.247828Z",
          "iopub.status.idle": "2024-07-01T17:54:49.041377Z",
          "shell.execute_reply": "2024-07-01T17:54:49.039918Z"
        },
        "papermill": {
          "duration": 18.807706,
          "end_time": "2024-07-01T17:54:49.044318",
          "exception": false,
          "start_time": "2024-07-01T17:54:30.236612",
          "status": "completed"
        },
        "tags": [],
        "id": "db130229",
        "outputId": "501bd9cc-6f7e-4eb2-dc2c-785652264189"
      },
      "outputs": [
        {
          "name": "stdout",
          "output_type": "stream",
          "text": [
            "Collecting rdkit\r\n",
            "  Downloading rdkit-2024.3.1-cp310-cp310-manylinux_2_17_x86_64.manylinux2014_x86_64.whl.metadata (3.9 kB)\r\n",
            "Requirement already satisfied: numpy in /opt/conda/lib/python3.10/site-packages (from rdkit) (1.26.4)\r\n",
            "Requirement already satisfied: Pillow in /opt/conda/lib/python3.10/site-packages (from rdkit) (9.5.0)\r\n",
            "Downloading rdkit-2024.3.1-cp310-cp310-manylinux_2_17_x86_64.manylinux2014_x86_64.whl (35.1 MB)\r\n",
            "\u001b[2K   \u001b[90m━━━━━━━━━━━━━━━━━━━━━━━━━━━━━━━━━━━━━━━━\u001b[0m \u001b[32m35.1/35.1 MB\u001b[0m \u001b[31m36.6 MB/s\u001b[0m eta \u001b[36m0:00:00\u001b[0m\r\n",
            "\u001b[?25hInstalling collected packages: rdkit\r\n",
            "Successfully installed rdkit-2024.3.1\r\n"
          ]
        }
      ],
      "source": [
        "!pip install rdkit"
      ]
    },
    {
      "cell_type": "code",
      "execution_count": null,
      "id": "6adfde60",
      "metadata": {
        "execution": {
          "iopub.execute_input": "2024-07-01T17:54:49.066709Z",
          "iopub.status.busy": "2024-07-01T17:54:49.065723Z",
          "iopub.status.idle": "2024-07-01T17:55:05.065375Z",
          "shell.execute_reply": "2024-07-01T17:55:05.064182Z"
        },
        "papermill": {
          "duration": 16.013607,
          "end_time": "2024-07-01T17:55:05.068080",
          "exception": false,
          "start_time": "2024-07-01T17:54:49.054473",
          "status": "completed"
        },
        "tags": [],
        "id": "6adfde60",
        "outputId": "45268d3b-ad2e-44eb-bbe7-fc6bfdbf8781"
      },
      "outputs": [
        {
          "name": "stdout",
          "output_type": "stream",
          "text": [
            "Collecting duckdb\r\n",
            "  Downloading duckdb-1.0.0-cp310-cp310-manylinux_2_17_x86_64.manylinux2014_x86_64.whl.metadata (762 bytes)\r\n",
            "Downloading duckdb-1.0.0-cp310-cp310-manylinux_2_17_x86_64.manylinux2014_x86_64.whl (18.5 MB)\r\n",
            "\u001b[2K   \u001b[90m━━━━━━━━━━━━━━━━━━━━━━━━━━━━━━━━━━━━━━━━\u001b[0m \u001b[32m18.5/18.5 MB\u001b[0m \u001b[31m62.4 MB/s\u001b[0m eta \u001b[36m0:00:00\u001b[0m\r\n",
            "\u001b[?25hInstalling collected packages: duckdb\r\n",
            "Successfully installed duckdb-1.0.0\r\n"
          ]
        }
      ],
      "source": [
        "!pip install duckdb"
      ]
    },
    {
      "cell_type": "markdown",
      "source": [
        "Всего в тренировочной базе данных 295 246 830 наблюдений, 1 589 906 (0.54%) из них по казывают, что химические соединения связываются с одним из трех белков.\n",
        "\n",
        "Как будет показано ниже, в базе данных есть формулы целой молекулы (столбец molecule_smiles), а также трех \"концов\" молекулы, которые непосредственно соединяются с белками (столбцы buildingblock1_smiles, buildingblock2_smiles, buildingblock3_smiles).\n",
        "buildingblock1_smiles содержит 270 уникальных соединений.\n",
        "buildingblock2_smiles - 692 уникальных соединения.\n",
        "buildingblock3_smiles - 692 уникальное соединение.\n",
        "\n",
        "См.подробнее https://www.kaggle.com/competitions/leash-BELKA/discussion/491394\n",
        "\n",
        "Такой большой обьем наблюдений трудно обработать, поэтому загрузим только часть данных - по 200 000 наблюдений для каждого белка, выбранных случайным образом. Половина из них будет с таргетом 0 (соединения нет), половина - с таргетом 1 (соединение есть). Для каждого из трех белков (HSA, sEH, BRD4) построим свою модель."
      ],
      "metadata": {
        "id": "9TsiD7COAoJ1"
      },
      "id": "9TsiD7COAoJ1"
    },
    {
      "cell_type": "markdown",
      "source": [
        "**Белок HSA**"
      ],
      "metadata": {
        "id": "GNy3BrPgFaEh"
      },
      "id": "GNy3BrPgFaEh"
    },
    {
      "cell_type": "code",
      "execution_count": null,
      "id": "593e8d58",
      "metadata": {
        "execution": {
          "iopub.execute_input": "2024-07-01T17:55:05.092157Z",
          "iopub.status.busy": "2024-07-01T17:55:05.091287Z",
          "iopub.status.idle": "2024-07-01T17:55:55.137629Z",
          "shell.execute_reply": "2024-07-01T17:55:55.136449Z"
        },
        "papermill": {
          "duration": 50.061202,
          "end_time": "2024-07-01T17:55:55.140306",
          "exception": false,
          "start_time": "2024-07-01T17:55:05.079104",
          "status": "completed"
        },
        "tags": [],
        "colab": {
          "referenced_widgets": [
            "87a3998ba9834cbe9bc43dca81c9627a"
          ]
        },
        "id": "593e8d58",
        "outputId": "f89d62f7-88c6-4bc1-841b-451aff5a2541"
      },
      "outputs": [
        {
          "data": {
            "application/vnd.jupyter.widget-view+json": {
              "model_id": "87a3998ba9834cbe9bc43dca81c9627a",
              "version_major": 2,
              "version_minor": 0
            },
            "text/plain": [
              "FloatProgress(value=0.0, layout=Layout(width='auto'), style=ProgressStyle(bar_color='black'))"
            ]
          },
          "metadata": {},
          "output_type": "display_data"
        }
      ],
      "source": [
        "#protein HSA\n",
        "\n",
        "import duckdb\n",
        "import pandas as pd\n",
        "\n",
        "\n",
        "train_path = '/kaggle/input/leash-BELKA/train.parquet'\n",
        "test_path = '/kaggle/input/leash-BELKA/test.parquet'\n",
        "\n",
        "con = duckdb.connect()\n",
        "\n",
        "df = con.query(f\"\"\"(SELECT *\n",
        "                        FROM parquet_scan('{train_path}')\n",
        "                        WHERE binds = 0 AND protein_name='HSA'\n",
        "                        ORDER BY random()\n",
        "                        LIMIT 100000)\n",
        "                        UNION ALL\n",
        "                        (SELECT *\n",
        "                        FROM parquet_scan('{train_path}')\n",
        "                        WHERE binds = 1 AND protein_name='HSA'\n",
        "                        ORDER BY random()\n",
        "                        LIMIT 100000)\"\"\").df()\n",
        "\n",
        "con.close()"
      ]
    },
    {
      "cell_type": "code",
      "execution_count": null,
      "id": "b468ad94",
      "metadata": {
        "execution": {
          "iopub.execute_input": "2024-07-01T17:55:55.164114Z",
          "iopub.status.busy": "2024-07-01T17:55:55.163545Z",
          "iopub.status.idle": "2024-07-01T17:55:55.188588Z",
          "shell.execute_reply": "2024-07-01T17:55:55.187256Z"
        },
        "papermill": {
          "duration": 0.040216,
          "end_time": "2024-07-01T17:55:55.191516",
          "exception": false,
          "start_time": "2024-07-01T17:55:55.151300",
          "status": "completed"
        },
        "tags": [],
        "id": "b468ad94",
        "outputId": "9f9b93d8-86bb-4488-f9d4-3fcbd275aade"
      },
      "outputs": [
        {
          "data": {
            "text/html": [
              "<div>\n",
              "<style scoped>\n",
              "    .dataframe tbody tr th:only-of-type {\n",
              "        vertical-align: middle;\n",
              "    }\n",
              "\n",
              "    .dataframe tbody tr th {\n",
              "        vertical-align: top;\n",
              "    }\n",
              "\n",
              "    .dataframe thead th {\n",
              "        text-align: right;\n",
              "    }\n",
              "</style>\n",
              "<table border=\"1\" class=\"dataframe\">\n",
              "  <thead>\n",
              "    <tr style=\"text-align: right;\">\n",
              "      <th></th>\n",
              "      <th>id</th>\n",
              "      <th>buildingblock1_smiles</th>\n",
              "      <th>buildingblock2_smiles</th>\n",
              "      <th>buildingblock3_smiles</th>\n",
              "      <th>molecule_smiles</th>\n",
              "      <th>protein_name</th>\n",
              "      <th>binds</th>\n",
              "    </tr>\n",
              "  </thead>\n",
              "  <tbody>\n",
              "    <tr>\n",
              "      <th>0</th>\n",
              "      <td>269790811</td>\n",
              "      <td>O=C(O)C[C@H](Cc1ccc(F)cc1)NC(=O)OCC1c2ccccc2-c...</td>\n",
              "      <td>Cn1ncc2cc(N)ccc21</td>\n",
              "      <td>CC(C)c1nc(N)sc1Br</td>\n",
              "      <td>CC(C)c1nc(Nc2nc(Nc3ccc4c(cnn4C)c3)nc(N[C@H](CC...</td>\n",
              "      <td>HSA</td>\n",
              "      <td>0</td>\n",
              "    </tr>\n",
              "    <tr>\n",
              "      <th>1</th>\n",
              "      <td>107216476</td>\n",
              "      <td>O=C(N[C@@H](Cc1ccsc1)C(=O)O)OCC1c2ccccc2-c2ccc...</td>\n",
              "      <td>Cc1sc(N)c(C#N)c1C</td>\n",
              "      <td>Cl.NCCN1C(=O)SC(=Cc2cccs2)C1=O</td>\n",
              "      <td>Cc1sc(Nc2nc(NCCN3C(=O)SC(=Cc4cccs4)C3=O)nc(N[C...</td>\n",
              "      <td>HSA</td>\n",
              "      <td>0</td>\n",
              "    </tr>\n",
              "    <tr>\n",
              "      <th>2</th>\n",
              "      <td>122974909</td>\n",
              "      <td>O=C(N[C@H](Cc1ccc(Cl)cc1)C(=O)O)OCC1c2ccccc2-c...</td>\n",
              "      <td>Nc1ccc2c(c1)CNCC2</td>\n",
              "      <td>Nc1ccc(Cl)cc1F</td>\n",
              "      <td>O=C(N[Dy])[C@@H](Cc1ccc(Cl)cc1)Nc1nc(Nc2ccc3c(...</td>\n",
              "      <td>HSA</td>\n",
              "      <td>0</td>\n",
              "    </tr>\n",
              "    <tr>\n",
              "      <th>3</th>\n",
              "      <td>38002264</td>\n",
              "      <td>COc1ccc([C@H](NC(=O)OCC2c3ccccc3-c3ccccc32)C(=...</td>\n",
              "      <td>Nc1ccc2c(c1)COC2=O</td>\n",
              "      <td>CN1CC(CN)CC1=O</td>\n",
              "      <td>COc1ccc([C@H](Nc2nc(NCC3CC(=O)N(C)C3)nc(Nc3ccc...</td>\n",
              "      <td>HSA</td>\n",
              "      <td>0</td>\n",
              "    </tr>\n",
              "    <tr>\n",
              "      <th>4</th>\n",
              "      <td>164396305</td>\n",
              "      <td>O=C(Nc1cc(C(=O)O)ccc1Br)OCC1c2ccccc2-c2ccccc21</td>\n",
              "      <td>Nc1cccc(-n2cncn2)c1</td>\n",
              "      <td>N#Cc1c[nH]nc1N</td>\n",
              "      <td>N#Cc1c[nH]nc1Nc1nc(Nc2cccc(-n3cncn3)c2)nc(Nc2c...</td>\n",
              "      <td>HSA</td>\n",
              "      <td>0</td>\n",
              "    </tr>\n",
              "  </tbody>\n",
              "</table>\n",
              "</div>"
            ],
            "text/plain": [
              "          id                              buildingblock1_smiles  \\\n",
              "0  269790811  O=C(O)C[C@H](Cc1ccc(F)cc1)NC(=O)OCC1c2ccccc2-c...   \n",
              "1  107216476  O=C(N[C@@H](Cc1ccsc1)C(=O)O)OCC1c2ccccc2-c2ccc...   \n",
              "2  122974909  O=C(N[C@H](Cc1ccc(Cl)cc1)C(=O)O)OCC1c2ccccc2-c...   \n",
              "3   38002264  COc1ccc([C@H](NC(=O)OCC2c3ccccc3-c3ccccc32)C(=...   \n",
              "4  164396305     O=C(Nc1cc(C(=O)O)ccc1Br)OCC1c2ccccc2-c2ccccc21   \n",
              "\n",
              "  buildingblock2_smiles           buildingblock3_smiles  \\\n",
              "0     Cn1ncc2cc(N)ccc21               CC(C)c1nc(N)sc1Br   \n",
              "1     Cc1sc(N)c(C#N)c1C  Cl.NCCN1C(=O)SC(=Cc2cccs2)C1=O   \n",
              "2     Nc1ccc2c(c1)CNCC2                  Nc1ccc(Cl)cc1F   \n",
              "3    Nc1ccc2c(c1)COC2=O                  CN1CC(CN)CC1=O   \n",
              "4   Nc1cccc(-n2cncn2)c1                  N#Cc1c[nH]nc1N   \n",
              "\n",
              "                                     molecule_smiles protein_name  binds  \n",
              "0  CC(C)c1nc(Nc2nc(Nc3ccc4c(cnn4C)c3)nc(N[C@H](CC...          HSA      0  \n",
              "1  Cc1sc(Nc2nc(NCCN3C(=O)SC(=Cc4cccs4)C3=O)nc(N[C...          HSA      0  \n",
              "2  O=C(N[Dy])[C@@H](Cc1ccc(Cl)cc1)Nc1nc(Nc2ccc3c(...          HSA      0  \n",
              "3  COc1ccc([C@H](Nc2nc(NCC3CC(=O)N(C)C3)nc(Nc3ccc...          HSA      0  \n",
              "4  N#Cc1c[nH]nc1Nc1nc(Nc2cccc(-n3cncn3)c2)nc(Nc2c...          HSA      0  "
            ]
          },
          "execution_count": 4,
          "metadata": {},
          "output_type": "execute_result"
        }
      ],
      "source": [
        "df.head()"
      ]
    },
    {
      "cell_type": "markdown",
      "source": [
        "Так как химические формулы соединений записаны буквами, представим их в числовом виде. Для этого воспользуемся библиотекой Chem. В результате перекодировки получается разреженная матрица, представленная в виде 0 и 1."
      ],
      "metadata": {
        "id": "sTEbwYEAFlwz"
      },
      "id": "sTEbwYEAFlwz"
    },
    {
      "cell_type": "code",
      "execution_count": null,
      "id": "01e139e4",
      "metadata": {
        "execution": {
          "iopub.execute_input": "2024-07-01T17:55:55.216615Z",
          "iopub.status.busy": "2024-07-01T17:55:55.215683Z",
          "iopub.status.idle": "2024-07-01T18:01:41.228229Z",
          "shell.execute_reply": "2024-07-01T18:01:41.226921Z"
        },
        "papermill": {
          "duration": 346.040589,
          "end_time": "2024-07-01T18:01:41.243719",
          "exception": false,
          "start_time": "2024-07-01T17:55:55.203130",
          "status": "completed"
        },
        "tags": [],
        "id": "01e139e4",
        "outputId": "08f1cd15-f416-4808-cd75-f0708f37de60"
      },
      "outputs": [
        {
          "name": "stdout",
          "output_type": "stream",
          "text": [
            "CPU times: user 5min 38s, sys: 7.17 s, total: 5min 45s\n",
            "Wall time: 5min 46s\n"
          ]
        }
      ],
      "source": [
        "%%time\n",
        "\n",
        "from rdkit import Chem\n",
        "from rdkit.Chem import AllChem\n",
        "from rdkit.Chem import rdFingerprintGenerator\n",
        "from sklearn.ensemble import RandomForestClassifier\n",
        "from sklearn.model_selection import train_test_split\n",
        "from sklearn.metrics import average_precision_score\n",
        "from sklearn.preprocessing import OneHotEncoder\n",
        "\n",
        "\n",
        "df['molecule'] = df['molecule_smiles'].apply(Chem.MolFromSmiles)\n",
        "\n",
        "\n",
        "def generate_ecfp(molecule, radius=2, bits=1024):\n",
        "    if molecule is None:\n",
        "        return None\n",
        "    morgan_fp_gen = rdFingerprintGenerator.GetMorganGenerator(includeChirality=True, radius=radius, fpSize=bits)\n",
        "    return list(morgan_fp_gen.GetFingerprint(molecule))\n",
        "\n",
        "\n",
        "df['ecfp'] = df['molecule'].apply(generate_ecfp)"
      ]
    },
    {
      "cell_type": "code",
      "execution_count": null,
      "id": "ebd75786",
      "metadata": {
        "execution": {
          "iopub.execute_input": "2024-07-01T18:01:41.268452Z",
          "iopub.status.busy": "2024-07-01T18:01:41.268038Z",
          "iopub.status.idle": "2024-07-01T18:01:41.430617Z",
          "shell.execute_reply": "2024-07-01T18:01:41.429076Z"
        },
        "papermill": {
          "duration": 0.178174,
          "end_time": "2024-07-01T18:01:41.433368",
          "exception": false,
          "start_time": "2024-07-01T18:01:41.255194",
          "status": "completed"
        },
        "tags": [],
        "id": "ebd75786",
        "outputId": "a3cdeb03-202f-4c0a-8788-7e8a8f9b8d33"
      },
      "outputs": [
        {
          "name": "stdout",
          "output_type": "stream",
          "text": [
            "CPU times: user 149 ms, sys: 4.99 ms, total: 154 ms\n",
            "Wall time: 155 ms\n"
          ]
        }
      ],
      "source": [
        "%%time\n",
        "\n",
        "RANDOM_STATE=12345\n",
        "\n",
        "X = df['ecfp'].tolist()\n",
        "y = df['binds'].tolist()\n",
        "\n",
        "X_train, X_test, y_train, y_test = train_test_split(X, y, test_size=0.2, random_state=RANDOM_STATE)"
      ]
    },
    {
      "cell_type": "code",
      "execution_count": null,
      "id": "82982b3b",
      "metadata": {
        "execution": {
          "iopub.execute_input": "2024-07-01T18:01:41.461952Z",
          "iopub.status.busy": "2024-07-01T18:01:41.461544Z",
          "iopub.status.idle": "2024-07-01T18:01:41.469986Z",
          "shell.execute_reply": "2024-07-01T18:01:41.468557Z"
        },
        "papermill": {
          "duration": 0.027574,
          "end_time": "2024-07-01T18:01:41.473017",
          "exception": false,
          "start_time": "2024-07-01T18:01:41.445443",
          "status": "completed"
        },
        "tags": [],
        "id": "82982b3b",
        "outputId": "90557ada-876a-4c56-faf2-28e337615e68"
      },
      "outputs": [
        {
          "data": {
            "text/plain": [
              "160000"
            ]
          },
          "execution_count": 7,
          "metadata": {},
          "output_type": "execute_result"
        }
      ],
      "source": [
        "len(X_train)"
      ]
    },
    {
      "cell_type": "markdown",
      "source": [
        "Лучшую эффективность на метрике f1 показала модель XGBClassifier. Подберем оптимальные параметры с помощью RandomizedSearchCV."
      ],
      "metadata": {
        "id": "fvzoj53gGp2c"
      },
      "id": "fvzoj53gGp2c"
    },
    {
      "cell_type": "code",
      "execution_count": null,
      "id": "116df1e4",
      "metadata": {
        "_kg_hide-output": false,
        "execution": {
          "iopub.execute_input": "2024-07-01T18:01:41.525886Z",
          "iopub.status.busy": "2024-07-01T18:01:41.525476Z",
          "iopub.status.idle": "2024-07-01T19:48:33.670699Z",
          "shell.execute_reply": "2024-07-01T19:48:33.668159Z"
        },
        "papermill": {
          "duration": 6412.177564,
          "end_time": "2024-07-01T19:48:33.689298",
          "exception": false,
          "start_time": "2024-07-01T18:01:41.511734",
          "status": "completed"
        },
        "tags": [],
        "id": "116df1e4",
        "outputId": "6e5a75c8-191a-4bdb-b08a-f2d15b146f50"
      },
      "outputs": [
        {
          "name": "stdout",
          "output_type": "stream",
          "text": [
            "f1, xgb1: 0.8675313153848553\n",
            "Оптимальные значения параметров: {'subsample': 0.3, 'n_estimators': 238, 'min_child_weight': 5, 'max_depth': 12, 'learning_rate': 0.05, 'colsample_bytree': 0.5}\n",
            "CPU times: user 4h 30min, sys: 1min 29s, total: 4h 31min 29s\n",
            "Wall time: 1h 46min 52s\n"
          ]
        }
      ],
      "source": [
        "%%time\n",
        "\n",
        "from sklearn.model_selection import RandomizedSearchCV\n",
        "import xgboost as xgb\n",
        "\n",
        "xgb_model = RandomizedSearchCV(estimator=xgb.XGBClassifier(random_state=RANDOM_STATE), param_distributions={\n",
        "    'n_estimators': range(10, 400),\n",
        "    'learning_rate': [0.01, 0.05],\n",
        "    'subsample': [0.3, 0.9],\n",
        "    'max_depth': range(2, 15),\n",
        "    'colsample_bytree': [0.4, 0.5],\n",
        "    'min_child_weight': range(1, 10)\n",
        "}, scoring='f1', random_state=RANDOM_STATE, cv=5)\n",
        "\n",
        "xgb_model_fit = xgb_model.fit(X_train, y_train)\n",
        "xgb_model_rmse = xgb_model_fit.best_score_\n",
        "\n",
        "print('f1, xgb1:', abs(xgb_model_rmse))\n",
        "print('Оптимальные значения параметров:', xgb_model_fit.best_params_)"
      ]
    },
    {
      "cell_type": "markdown",
      "source": [
        "**Белок sEH**\n",
        "\n",
        " Сделаем те же преобразования для белка sEH."
      ],
      "metadata": {
        "id": "rN2ltb8yMNUe"
      },
      "id": "rN2ltb8yMNUe"
    },
    {
      "cell_type": "code",
      "execution_count": null,
      "id": "3665ee92",
      "metadata": {
        "execution": {
          "iopub.execute_input": "2024-07-01T19:48:33.741081Z",
          "iopub.status.busy": "2024-07-01T19:48:33.738488Z",
          "iopub.status.idle": "2024-07-01T19:49:35.337784Z",
          "shell.execute_reply": "2024-07-01T19:49:35.336590Z"
        },
        "papermill": {
          "duration": 61.627006,
          "end_time": "2024-07-01T19:49:35.351161",
          "exception": false,
          "start_time": "2024-07-01T19:48:33.724155",
          "status": "completed"
        },
        "tags": [],
        "colab": {
          "referenced_widgets": [
            "ce567f24934340959cb0e9e872635ee0"
          ]
        },
        "id": "3665ee92",
        "outputId": "cb9d269b-2fc7-4bf0-90d4-546b2bc3e4a2"
      },
      "outputs": [
        {
          "data": {
            "application/vnd.jupyter.widget-view+json": {
              "model_id": "ce567f24934340959cb0e9e872635ee0",
              "version_major": 2,
              "version_minor": 0
            },
            "text/plain": [
              "FloatProgress(value=0.0, layout=Layout(width='auto'), style=ProgressStyle(bar_color='black'))"
            ]
          },
          "metadata": {},
          "output_type": "display_data"
        },
        {
          "name": "stdout",
          "output_type": "stream",
          "text": [
            "CPU times: user 2min 29s, sys: 15.7 s, total: 2min 45s\n",
            "Wall time: 1min 1s\n"
          ]
        }
      ],
      "source": [
        "%%time\n",
        "\n",
        "#protein sEH\n",
        "\n",
        "con = duckdb.connect()\n",
        "\n",
        "df = con.query(f\"\"\"(SELECT *\n",
        "                        FROM parquet_scan('{train_path}')\n",
        "                        WHERE binds = 0 AND protein_name='sEH'\n",
        "                        ORDER BY random()\n",
        "                        LIMIT 100000)\n",
        "                        UNION ALL\n",
        "                        (SELECT *\n",
        "                        FROM parquet_scan('{train_path}')\n",
        "                        WHERE binds = 1 AND protein_name='sEH'\n",
        "                        ORDER BY random()\n",
        "                        LIMIT 100000)\"\"\").df()\n",
        "\n",
        "con.close()"
      ]
    },
    {
      "cell_type": "code",
      "execution_count": null,
      "id": "f953a659",
      "metadata": {
        "execution": {
          "iopub.execute_input": "2024-07-01T19:49:35.377077Z",
          "iopub.status.busy": "2024-07-01T19:49:35.376643Z",
          "iopub.status.idle": "2024-07-01T19:55:12.734464Z",
          "shell.execute_reply": "2024-07-01T19:55:12.733111Z"
        },
        "papermill": {
          "duration": 337.386173,
          "end_time": "2024-07-01T19:55:12.749310",
          "exception": false,
          "start_time": "2024-07-01T19:49:35.363137",
          "status": "completed"
        },
        "tags": [],
        "id": "f953a659",
        "outputId": "8879f0fe-5733-49b9-bb3e-cac96fac7ae6"
      },
      "outputs": [
        {
          "name": "stdout",
          "output_type": "stream",
          "text": [
            "CPU times: user 5min 33s, sys: 4.1 s, total: 5min 37s\n",
            "Wall time: 5min 37s\n"
          ]
        }
      ],
      "source": [
        "%%time\n",
        "\n",
        "df['molecule'] = df['molecule_smiles'].apply(Chem.MolFromSmiles)\n",
        "df['ecfp'] = df['molecule'].apply(generate_ecfp)"
      ]
    },
    {
      "cell_type": "code",
      "execution_count": null,
      "id": "d9a37215",
      "metadata": {
        "execution": {
          "iopub.execute_input": "2024-07-01T19:55:12.777734Z",
          "iopub.status.busy": "2024-07-01T19:55:12.776736Z",
          "iopub.status.idle": "2024-07-01T19:55:12.802507Z",
          "shell.execute_reply": "2024-07-01T19:55:12.800917Z"
        },
        "papermill": {
          "duration": 0.043684,
          "end_time": "2024-07-01T19:55:12.805672",
          "exception": false,
          "start_time": "2024-07-01T19:55:12.761988",
          "status": "completed"
        },
        "tags": [],
        "id": "d9a37215",
        "outputId": "b8145051-8d99-4432-b8e0-cd44f61fc9c1"
      },
      "outputs": [
        {
          "data": {
            "text/html": [
              "<div>\n",
              "<style scoped>\n",
              "    .dataframe tbody tr th:only-of-type {\n",
              "        vertical-align: middle;\n",
              "    }\n",
              "\n",
              "    .dataframe tbody tr th {\n",
              "        vertical-align: top;\n",
              "    }\n",
              "\n",
              "    .dataframe thead th {\n",
              "        text-align: right;\n",
              "    }\n",
              "</style>\n",
              "<table border=\"1\" class=\"dataframe\">\n",
              "  <thead>\n",
              "    <tr style=\"text-align: right;\">\n",
              "      <th></th>\n",
              "      <th>id</th>\n",
              "      <th>buildingblock1_smiles</th>\n",
              "      <th>buildingblock2_smiles</th>\n",
              "      <th>buildingblock3_smiles</th>\n",
              "      <th>molecule_smiles</th>\n",
              "      <th>protein_name</th>\n",
              "      <th>binds</th>\n",
              "      <th>molecule</th>\n",
              "      <th>ecfp</th>\n",
              "    </tr>\n",
              "  </thead>\n",
              "  <tbody>\n",
              "    <tr>\n",
              "      <th>0</th>\n",
              "      <td>121091438</td>\n",
              "      <td>O=C(N[C@H](Cc1ccc(Cl)c(Cl)c1)C(=O)O)OCC1c2cccc...</td>\n",
              "      <td>CNC(=O)c1cc(Oc2ccc(N)cc2)ccn1</td>\n",
              "      <td>Cl.NCC12CC3CC(CC(C3)C1)C2</td>\n",
              "      <td>CNC(=O)c1cc(Oc2ccc(Nc3nc(NCC45CC6CC(CC(C6)C4)C...</td>\n",
              "      <td>sEH</td>\n",
              "      <td>0</td>\n",
              "      <td>&lt;rdkit.Chem.rdchem.Mol object at 0x78b33e922d50&gt;</td>\n",
              "      <td>[0, 1, 0, 0, 0, 0, 0, 0, 0, 0, 0, 0, 0, 0, 0, ...</td>\n",
              "    </tr>\n",
              "    <tr>\n",
              "      <th>1</th>\n",
              "      <td>113242058</td>\n",
              "      <td>O=C(N[C@H](C(=O)O)C1CCCC1)OCC1c2ccccc2-c2ccccc21</td>\n",
              "      <td>Nc1nc(-c2cccc([N+](=O)[O-])c2)cs1</td>\n",
              "      <td>COc1cncc(N)c1</td>\n",
              "      <td>COc1cncc(Nc2nc(Nc3nc(-c4cccc([N+](=O)[O-])c4)c...</td>\n",
              "      <td>sEH</td>\n",
              "      <td>0</td>\n",
              "      <td>&lt;rdkit.Chem.rdchem.Mol object at 0x78b33e922ce0&gt;</td>\n",
              "      <td>[0, 1, 0, 0, 1, 0, 0, 0, 0, 0, 0, 0, 0, 0, 0, ...</td>\n",
              "    </tr>\n",
              "    <tr>\n",
              "      <th>2</th>\n",
              "      <td>169517018</td>\n",
              "      <td>O=C(Nc1cc(Cl)ccc1C(=O)O)OCC1c2ccccc2-c2ccccc21</td>\n",
              "      <td>Cl.NCc1cccc2cc[nH]c12</td>\n",
              "      <td>Cc1cc(N)n[nH]1</td>\n",
              "      <td>Cc1cc(Nc2nc(NCc3cccc4cc[nH]c34)nc(Nc3cc(Cl)ccc...</td>\n",
              "      <td>sEH</td>\n",
              "      <td>0</td>\n",
              "      <td>&lt;rdkit.Chem.rdchem.Mol object at 0x78b33e922c70&gt;</td>\n",
              "      <td>[0, 0, 0, 0, 0, 0, 0, 0, 0, 0, 0, 0, 0, 0, 0, ...</td>\n",
              "    </tr>\n",
              "    <tr>\n",
              "      <th>3</th>\n",
              "      <td>187452530</td>\n",
              "      <td>O=C(Nc1ccc(C(=O)O)cc1)OCC1c2ccccc2-c2ccccc21</td>\n",
              "      <td>CC(CN)c1c(Cl)cccc1Cl</td>\n",
              "      <td>N#Cc1c(N)sc2c1CCCC2</td>\n",
              "      <td>CC(CNc1nc(Nc2ccc(C(=O)N[Dy])cc2)nc(Nc2sc3c(c2C...</td>\n",
              "      <td>sEH</td>\n",
              "      <td>0</td>\n",
              "      <td>&lt;rdkit.Chem.rdchem.Mol object at 0x78b33e922c00&gt;</td>\n",
              "      <td>[0, 1, 0, 0, 1, 0, 0, 0, 0, 0, 0, 0, 0, 0, 0, ...</td>\n",
              "    </tr>\n",
              "    <tr>\n",
              "      <th>4</th>\n",
              "      <td>149006306</td>\n",
              "      <td>O=C(Nc1c(F)cc(Br)cc1C(=O)O)OCC1c2ccccc2-c2ccccc21</td>\n",
              "      <td>Nc1c2ccccc2nc2ccccc12</td>\n",
              "      <td>Cl.NCc1nnc2ncccn12</td>\n",
              "      <td>O=C(N[Dy])c1cc(Br)cc(F)c1Nc1nc(NCc2nnc3ncccn23...</td>\n",
              "      <td>sEH</td>\n",
              "      <td>0</td>\n",
              "      <td>&lt;rdkit.Chem.rdchem.Mol object at 0x78b33e922b90&gt;</td>\n",
              "      <td>[1, 0, 0, 0, 0, 0, 0, 0, 0, 0, 0, 0, 0, 0, 0, ...</td>\n",
              "    </tr>\n",
              "  </tbody>\n",
              "</table>\n",
              "</div>"
            ],
            "text/plain": [
              "          id                              buildingblock1_smiles  \\\n",
              "0  121091438  O=C(N[C@H](Cc1ccc(Cl)c(Cl)c1)C(=O)O)OCC1c2cccc...   \n",
              "1  113242058   O=C(N[C@H](C(=O)O)C1CCCC1)OCC1c2ccccc2-c2ccccc21   \n",
              "2  169517018     O=C(Nc1cc(Cl)ccc1C(=O)O)OCC1c2ccccc2-c2ccccc21   \n",
              "3  187452530       O=C(Nc1ccc(C(=O)O)cc1)OCC1c2ccccc2-c2ccccc21   \n",
              "4  149006306  O=C(Nc1c(F)cc(Br)cc1C(=O)O)OCC1c2ccccc2-c2ccccc21   \n",
              "\n",
              "               buildingblock2_smiles      buildingblock3_smiles  \\\n",
              "0      CNC(=O)c1cc(Oc2ccc(N)cc2)ccn1  Cl.NCC12CC3CC(CC(C3)C1)C2   \n",
              "1  Nc1nc(-c2cccc([N+](=O)[O-])c2)cs1              COc1cncc(N)c1   \n",
              "2              Cl.NCc1cccc2cc[nH]c12             Cc1cc(N)n[nH]1   \n",
              "3               CC(CN)c1c(Cl)cccc1Cl        N#Cc1c(N)sc2c1CCCC2   \n",
              "4              Nc1c2ccccc2nc2ccccc12         Cl.NCc1nnc2ncccn12   \n",
              "\n",
              "                                     molecule_smiles protein_name  binds  \\\n",
              "0  CNC(=O)c1cc(Oc2ccc(Nc3nc(NCC45CC6CC(CC(C6)C4)C...          sEH      0   \n",
              "1  COc1cncc(Nc2nc(Nc3nc(-c4cccc([N+](=O)[O-])c4)c...          sEH      0   \n",
              "2  Cc1cc(Nc2nc(NCc3cccc4cc[nH]c34)nc(Nc3cc(Cl)ccc...          sEH      0   \n",
              "3  CC(CNc1nc(Nc2ccc(C(=O)N[Dy])cc2)nc(Nc2sc3c(c2C...          sEH      0   \n",
              "4  O=C(N[Dy])c1cc(Br)cc(F)c1Nc1nc(NCc2nnc3ncccn23...          sEH      0   \n",
              "\n",
              "                                           molecule  \\\n",
              "0  <rdkit.Chem.rdchem.Mol object at 0x78b33e922d50>   \n",
              "1  <rdkit.Chem.rdchem.Mol object at 0x78b33e922ce0>   \n",
              "2  <rdkit.Chem.rdchem.Mol object at 0x78b33e922c70>   \n",
              "3  <rdkit.Chem.rdchem.Mol object at 0x78b33e922c00>   \n",
              "4  <rdkit.Chem.rdchem.Mol object at 0x78b33e922b90>   \n",
              "\n",
              "                                                ecfp  \n",
              "0  [0, 1, 0, 0, 0, 0, 0, 0, 0, 0, 0, 0, 0, 0, 0, ...  \n",
              "1  [0, 1, 0, 0, 1, 0, 0, 0, 0, 0, 0, 0, 0, 0, 0, ...  \n",
              "2  [0, 0, 0, 0, 0, 0, 0, 0, 0, 0, 0, 0, 0, 0, 0, ...  \n",
              "3  [0, 1, 0, 0, 1, 0, 0, 0, 0, 0, 0, 0, 0, 0, 0, ...  \n",
              "4  [1, 0, 0, 0, 0, 0, 0, 0, 0, 0, 0, 0, 0, 0, 0, ...  "
            ]
          },
          "execution_count": 11,
          "metadata": {},
          "output_type": "execute_result"
        }
      ],
      "source": [
        "df.head()"
      ]
    },
    {
      "cell_type": "code",
      "execution_count": null,
      "id": "66dc76cc",
      "metadata": {
        "execution": {
          "iopub.execute_input": "2024-07-01T19:55:12.833802Z",
          "iopub.status.busy": "2024-07-01T19:55:12.832781Z",
          "iopub.status.idle": "2024-07-01T19:55:12.991453Z",
          "shell.execute_reply": "2024-07-01T19:55:12.989966Z"
        },
        "papermill": {
          "duration": 0.175515,
          "end_time": "2024-07-01T19:55:12.994105",
          "exception": false,
          "start_time": "2024-07-01T19:55:12.818590",
          "status": "completed"
        },
        "tags": [],
        "id": "66dc76cc",
        "outputId": "67702b81-833c-4cec-f817-86b165b433df"
      },
      "outputs": [
        {
          "name": "stdout",
          "output_type": "stream",
          "text": [
            "CPU times: user 146 ms, sys: 5 ms, total: 151 ms\n",
            "Wall time: 150 ms\n"
          ]
        }
      ],
      "source": [
        "%%time\n",
        "\n",
        "X2 = df['ecfp'].tolist()\n",
        "y2 = df['binds'].tolist()\n",
        "\n",
        "X2_train, X2_test, y2_train, y2_test = train_test_split(X2, y2, test_size=0.2, random_state=RANDOM_STATE)"
      ]
    },
    {
      "cell_type": "code",
      "execution_count": null,
      "id": "200a5374",
      "metadata": {
        "execution": {
          "iopub.execute_input": "2024-07-01T19:55:13.025904Z",
          "iopub.status.busy": "2024-07-01T19:55:13.025483Z",
          "iopub.status.idle": "2024-07-01T21:40:18.450729Z",
          "shell.execute_reply": "2024-07-01T21:40:18.448344Z"
        },
        "papermill": {
          "duration": 6305.471324,
          "end_time": "2024-07-01T21:40:18.482445",
          "exception": false,
          "start_time": "2024-07-01T19:55:13.011121",
          "status": "completed"
        },
        "tags": [],
        "id": "200a5374",
        "outputId": "86c7f9a1-932c-4629-ad68-78ff6f5c16f5"
      },
      "outputs": [
        {
          "name": "stdout",
          "output_type": "stream",
          "text": [
            "f1, xgb2: 0.9661108516031319\n",
            "Оптимальные значения параметров: {'subsample': 0.3, 'n_estimators': 238, 'min_child_weight': 5, 'max_depth': 12, 'learning_rate': 0.05, 'colsample_bytree': 0.5}\n",
            "CPU times: user 4h 23min 24s, sys: 1min 24s, total: 4h 24min 49s\n",
            "Wall time: 1h 45min 5s\n"
          ]
        }
      ],
      "source": [
        "%%time\n",
        "\n",
        "xgb_model2 = RandomizedSearchCV(estimator=xgb.XGBClassifier(random_state=RANDOM_STATE), param_distributions={\n",
        "    'n_estimators': range(10, 400),\n",
        "    'learning_rate': [0.01, 0.05],\n",
        "    'subsample': [0.3, 0.9],\n",
        "    'max_depth': range(2, 15),\n",
        "    'colsample_bytree': [0.4, 0.5],\n",
        "    'min_child_weight': range(1, 10)\n",
        "}, scoring='f1', random_state=RANDOM_STATE, cv=5)\n",
        "\n",
        "xgb_model_fit2 = xgb_model2.fit(X2_train, y2_train)\n",
        "xgb_model_rmse2 = xgb_model_fit2.best_score_\n",
        "\n",
        "print('f1, xgb2:', abs(xgb_model_rmse2))\n",
        "print('Оптимальные значения параметров:', xgb_model_fit2.best_params_)"
      ]
    },
    {
      "cell_type": "markdown",
      "source": [
        "**Белок BRD4**"
      ],
      "metadata": {
        "id": "un_JSO5_Mdzh"
      },
      "id": "un_JSO5_Mdzh"
    },
    {
      "cell_type": "code",
      "execution_count": null,
      "id": "59615272",
      "metadata": {
        "execution": {
          "iopub.execute_input": "2024-07-01T21:40:18.512535Z",
          "iopub.status.busy": "2024-07-01T21:40:18.512045Z",
          "iopub.status.idle": "2024-07-01T21:41:00.222623Z",
          "shell.execute_reply": "2024-07-01T21:41:00.220920Z"
        },
        "papermill": {
          "duration": 41.729833,
          "end_time": "2024-07-01T21:41:00.225477",
          "exception": false,
          "start_time": "2024-07-01T21:40:18.495644",
          "status": "completed"
        },
        "tags": [],
        "colab": {
          "referenced_widgets": [
            "aeb5b0170bc34bd285213bd23b37488a"
          ]
        },
        "id": "59615272",
        "outputId": "26e78df3-f586-4f24-afde-2e1367cd76e6"
      },
      "outputs": [
        {
          "data": {
            "application/vnd.jupyter.widget-view+json": {
              "model_id": "aeb5b0170bc34bd285213bd23b37488a",
              "version_major": 2,
              "version_minor": 0
            },
            "text/plain": [
              "FloatProgress(value=0.0, layout=Layout(width='auto'), style=ProgressStyle(bar_color='black'))"
            ]
          },
          "metadata": {},
          "output_type": "display_data"
        },
        {
          "name": "stdout",
          "output_type": "stream",
          "text": [
            "CPU times: user 2min 27s, sys: 12.1 s, total: 2min 40s\n",
            "Wall time: 41.7 s\n"
          ]
        }
      ],
      "source": [
        "%%time\n",
        "\n",
        "#protein BRD4\n",
        "\n",
        "con = duckdb.connect()\n",
        "\n",
        "df = con.query(f\"\"\"(SELECT *\n",
        "                        FROM parquet_scan('{train_path}')\n",
        "                        WHERE binds = 0 AND protein_name='BRD4'\n",
        "                        ORDER BY random()\n",
        "                        LIMIT 100000)\n",
        "                        UNION ALL\n",
        "                        (SELECT *\n",
        "                        FROM parquet_scan('{train_path}')\n",
        "                        WHERE binds = 1 AND protein_name='BRD4'\n",
        "                        ORDER BY random()\n",
        "                        LIMIT 100000)\"\"\").df()\n",
        "\n",
        "con.close()"
      ]
    },
    {
      "cell_type": "code",
      "execution_count": null,
      "id": "f6b982ce",
      "metadata": {
        "execution": {
          "iopub.execute_input": "2024-07-01T21:41:00.256157Z",
          "iopub.status.busy": "2024-07-01T21:41:00.255676Z",
          "iopub.status.idle": "2024-07-01T21:47:11.360885Z",
          "shell.execute_reply": "2024-07-01T21:47:11.359537Z"
        },
        "papermill": {
          "duration": 371.140111,
          "end_time": "2024-07-01T21:47:11.379577",
          "exception": false,
          "start_time": "2024-07-01T21:41:00.239466",
          "status": "completed"
        },
        "tags": [],
        "id": "f6b982ce",
        "outputId": "3f42a5c1-5dd6-4ac9-abac-a3cad0c6720e"
      },
      "outputs": [
        {
          "name": "stdout",
          "output_type": "stream",
          "text": [
            "CPU times: user 5min 53s, sys: 17.5 s, total: 6min 10s\n",
            "Wall time: 6min 11s\n"
          ]
        }
      ],
      "source": [
        "%%time\n",
        "\n",
        "df['molecule'] = df['molecule_smiles'].apply(Chem.MolFromSmiles)\n",
        "df['ecfp'] = df['molecule'].apply(generate_ecfp)"
      ]
    },
    {
      "cell_type": "code",
      "execution_count": null,
      "id": "a0d07762",
      "metadata": {
        "execution": {
          "iopub.execute_input": "2024-07-01T21:47:11.408579Z",
          "iopub.status.busy": "2024-07-01T21:47:11.408126Z",
          "iopub.status.idle": "2024-07-01T21:47:11.432678Z",
          "shell.execute_reply": "2024-07-01T21:47:11.431555Z"
        },
        "papermill": {
          "duration": 0.042489,
          "end_time": "2024-07-01T21:47:11.435213",
          "exception": false,
          "start_time": "2024-07-01T21:47:11.392724",
          "status": "completed"
        },
        "tags": [],
        "id": "a0d07762",
        "outputId": "a9af96aa-2440-4be0-c0e5-5292805fa407"
      },
      "outputs": [
        {
          "data": {
            "text/html": [
              "<div>\n",
              "<style scoped>\n",
              "    .dataframe tbody tr th:only-of-type {\n",
              "        vertical-align: middle;\n",
              "    }\n",
              "\n",
              "    .dataframe tbody tr th {\n",
              "        vertical-align: top;\n",
              "    }\n",
              "\n",
              "    .dataframe thead th {\n",
              "        text-align: right;\n",
              "    }\n",
              "</style>\n",
              "<table border=\"1\" class=\"dataframe\">\n",
              "  <thead>\n",
              "    <tr style=\"text-align: right;\">\n",
              "      <th></th>\n",
              "      <th>id</th>\n",
              "      <th>buildingblock1_smiles</th>\n",
              "      <th>buildingblock2_smiles</th>\n",
              "      <th>buildingblock3_smiles</th>\n",
              "      <th>molecule_smiles</th>\n",
              "      <th>protein_name</th>\n",
              "      <th>binds</th>\n",
              "      <th>molecule</th>\n",
              "      <th>ecfp</th>\n",
              "    </tr>\n",
              "  </thead>\n",
              "  <tbody>\n",
              "    <tr>\n",
              "      <th>0</th>\n",
              "      <td>110331171</td>\n",
              "      <td>O=C(N[C@@H]1CC[C@H](C(=O)O)C1)OCC1c2ccccc2-c2c...</td>\n",
              "      <td>COc1ncc(N)cc1C(F)(F)F</td>\n",
              "      <td>Cc1cc(CN)c(C)s1</td>\n",
              "      <td>COc1ncc(Nc2nc(NCc3cc(C)sc3C)nc(N[C@@H]3CC[C@H]...</td>\n",
              "      <td>BRD4</td>\n",
              "      <td>0</td>\n",
              "      <td>&lt;rdkit.Chem.rdchem.Mol object at 0x78b33e98eb20&gt;</td>\n",
              "      <td>[0, 0, 0, 0, 0, 0, 0, 0, 0, 0, 0, 0, 0, 0, 0, ...</td>\n",
              "    </tr>\n",
              "    <tr>\n",
              "      <th>1</th>\n",
              "      <td>254805894</td>\n",
              "      <td>O=C(O)C[C@@H](Cc1cccs1)NC(=O)OCC1c2ccccc2-c2cc...</td>\n",
              "      <td>Nc1ccc2c(c1)CNCC2</td>\n",
              "      <td>NCc1cnns1</td>\n",
              "      <td>O=C(C[C@@H](Cc1cccs1)Nc1nc(NCc2cnns2)nc(Nc2ccc...</td>\n",
              "      <td>BRD4</td>\n",
              "      <td>0</td>\n",
              "      <td>&lt;rdkit.Chem.rdchem.Mol object at 0x78b33e98ec70&gt;</td>\n",
              "      <td>[0, 1, 0, 0, 0, 0, 0, 0, 0, 0, 0, 0, 0, 0, 1, ...</td>\n",
              "    </tr>\n",
              "    <tr>\n",
              "      <th>2</th>\n",
              "      <td>40515147</td>\n",
              "      <td>COc1nccc(C(=O)O)c1NC(=O)OCC1c2ccccc2-c2ccccc21</td>\n",
              "      <td>COC(C)(CN)C1CC1</td>\n",
              "      <td>Cl.NCC(=O)NC1CCC1</td>\n",
              "      <td>COc1nccc(C(=O)N[Dy])c1Nc1nc(NCC(=O)NC2CCC2)nc(...</td>\n",
              "      <td>BRD4</td>\n",
              "      <td>0</td>\n",
              "      <td>&lt;rdkit.Chem.rdchem.Mol object at 0x78b2e6ebb450&gt;</td>\n",
              "      <td>[0, 0, 0, 0, 1, 0, 0, 0, 0, 0, 0, 0, 0, 1, 0, ...</td>\n",
              "    </tr>\n",
              "    <tr>\n",
              "      <th>3</th>\n",
              "      <td>178292508</td>\n",
              "      <td>O=C(Nc1cc([N+](=O)[O-])ccc1C(=O)O)OCC1c2ccccc2...</td>\n",
              "      <td>N#Cc1ccc(N)c([N+](=O)[O-])c1</td>\n",
              "      <td>COc1ccc(CN)c(C)c1OC</td>\n",
              "      <td>COc1ccc(CNc2nc(Nc3cc([N+](=O)[O-])ccc3C(=O)N[D...</td>\n",
              "      <td>BRD4</td>\n",
              "      <td>0</td>\n",
              "      <td>&lt;rdkit.Chem.rdchem.Mol object at 0x78b2e6ebb4c0&gt;</td>\n",
              "      <td>[0, 0, 0, 0, 0, 0, 0, 0, 0, 0, 0, 0, 0, 0, 0, ...</td>\n",
              "    </tr>\n",
              "    <tr>\n",
              "      <th>4</th>\n",
              "      <td>92273424</td>\n",
              "      <td>O=C(N[C@@H](Cc1cc(F)c(F)c(F)c1)C(=O)O)OCC1c2cc...</td>\n",
              "      <td>NCCC1CSC1</td>\n",
              "      <td>CC(C)c1nc(N)sc1Br</td>\n",
              "      <td>CC(C)c1nc(Nc2nc(NCCC3CSC3)nc(N[C@@H](Cc3cc(F)c...</td>\n",
              "      <td>BRD4</td>\n",
              "      <td>0</td>\n",
              "      <td>&lt;rdkit.Chem.rdchem.Mol object at 0x78b2e6ebb530&gt;</td>\n",
              "      <td>[0, 1, 0, 0, 0, 0, 0, 0, 0, 0, 0, 0, 0, 0, 0, ...</td>\n",
              "    </tr>\n",
              "  </tbody>\n",
              "</table>\n",
              "</div>"
            ],
            "text/plain": [
              "          id                              buildingblock1_smiles  \\\n",
              "0  110331171  O=C(N[C@@H]1CC[C@H](C(=O)O)C1)OCC1c2ccccc2-c2c...   \n",
              "1  254805894  O=C(O)C[C@@H](Cc1cccs1)NC(=O)OCC1c2ccccc2-c2cc...   \n",
              "2   40515147     COc1nccc(C(=O)O)c1NC(=O)OCC1c2ccccc2-c2ccccc21   \n",
              "3  178292508  O=C(Nc1cc([N+](=O)[O-])ccc1C(=O)O)OCC1c2ccccc2...   \n",
              "4   92273424  O=C(N[C@@H](Cc1cc(F)c(F)c(F)c1)C(=O)O)OCC1c2cc...   \n",
              "\n",
              "          buildingblock2_smiles buildingblock3_smiles  \\\n",
              "0         COc1ncc(N)cc1C(F)(F)F       Cc1cc(CN)c(C)s1   \n",
              "1             Nc1ccc2c(c1)CNCC2             NCc1cnns1   \n",
              "2               COC(C)(CN)C1CC1     Cl.NCC(=O)NC1CCC1   \n",
              "3  N#Cc1ccc(N)c([N+](=O)[O-])c1   COc1ccc(CN)c(C)c1OC   \n",
              "4                     NCCC1CSC1     CC(C)c1nc(N)sc1Br   \n",
              "\n",
              "                                     molecule_smiles protein_name  binds  \\\n",
              "0  COc1ncc(Nc2nc(NCc3cc(C)sc3C)nc(N[C@@H]3CC[C@H]...         BRD4      0   \n",
              "1  O=C(C[C@@H](Cc1cccs1)Nc1nc(NCc2cnns2)nc(Nc2ccc...         BRD4      0   \n",
              "2  COc1nccc(C(=O)N[Dy])c1Nc1nc(NCC(=O)NC2CCC2)nc(...         BRD4      0   \n",
              "3  COc1ccc(CNc2nc(Nc3cc([N+](=O)[O-])ccc3C(=O)N[D...         BRD4      0   \n",
              "4  CC(C)c1nc(Nc2nc(NCCC3CSC3)nc(N[C@@H](Cc3cc(F)c...         BRD4      0   \n",
              "\n",
              "                                           molecule  \\\n",
              "0  <rdkit.Chem.rdchem.Mol object at 0x78b33e98eb20>   \n",
              "1  <rdkit.Chem.rdchem.Mol object at 0x78b33e98ec70>   \n",
              "2  <rdkit.Chem.rdchem.Mol object at 0x78b2e6ebb450>   \n",
              "3  <rdkit.Chem.rdchem.Mol object at 0x78b2e6ebb4c0>   \n",
              "4  <rdkit.Chem.rdchem.Mol object at 0x78b2e6ebb530>   \n",
              "\n",
              "                                                ecfp  \n",
              "0  [0, 0, 0, 0, 0, 0, 0, 0, 0, 0, 0, 0, 0, 0, 0, ...  \n",
              "1  [0, 1, 0, 0, 0, 0, 0, 0, 0, 0, 0, 0, 0, 0, 1, ...  \n",
              "2  [0, 0, 0, 0, 1, 0, 0, 0, 0, 0, 0, 0, 0, 1, 0, ...  \n",
              "3  [0, 0, 0, 0, 0, 0, 0, 0, 0, 0, 0, 0, 0, 0, 0, ...  \n",
              "4  [0, 1, 0, 0, 0, 0, 0, 0, 0, 0, 0, 0, 0, 0, 0, ...  "
            ]
          },
          "execution_count": 16,
          "metadata": {},
          "output_type": "execute_result"
        }
      ],
      "source": [
        "df.head()"
      ]
    },
    {
      "cell_type": "code",
      "execution_count": null,
      "id": "4e515bfc",
      "metadata": {
        "execution": {
          "iopub.execute_input": "2024-07-01T21:47:11.465611Z",
          "iopub.status.busy": "2024-07-01T21:47:11.464915Z",
          "iopub.status.idle": "2024-07-01T21:47:11.631080Z",
          "shell.execute_reply": "2024-07-01T21:47:11.629734Z"
        },
        "papermill": {
          "duration": 0.184507,
          "end_time": "2024-07-01T21:47:11.633674",
          "exception": false,
          "start_time": "2024-07-01T21:47:11.449167",
          "status": "completed"
        },
        "tags": [],
        "id": "4e515bfc",
        "outputId": "cf07a4ce-d1f5-4721-9600-ac67a40d0e52"
      },
      "outputs": [
        {
          "name": "stdout",
          "output_type": "stream",
          "text": [
            "CPU times: user 154 ms, sys: 3.99 ms, total: 158 ms\n",
            "Wall time: 157 ms\n"
          ]
        }
      ],
      "source": [
        "%%time\n",
        "\n",
        "X3 = df['ecfp'].tolist()\n",
        "y3 = df['binds'].tolist()\n",
        "\n",
        "X3_train, X3_test, y3_train, y3_test = train_test_split(X3, y3, test_size=0.2, random_state=RANDOM_STATE)"
      ]
    },
    {
      "cell_type": "code",
      "execution_count": null,
      "id": "645fbb0a",
      "metadata": {
        "execution": {
          "iopub.execute_input": "2024-07-01T21:47:11.663795Z",
          "iopub.status.busy": "2024-07-01T21:47:11.663353Z",
          "iopub.status.idle": "2024-07-01T23:34:58.131310Z",
          "shell.execute_reply": "2024-07-01T23:34:58.127585Z"
        },
        "papermill": {
          "duration": 6466.50004,
          "end_time": "2024-07-01T23:34:58.148161",
          "exception": false,
          "start_time": "2024-07-01T21:47:11.648121",
          "status": "completed"
        },
        "tags": [],
        "id": "645fbb0a",
        "outputId": "c8853ac0-1801-44b5-d82d-e33e12618254"
      },
      "outputs": [
        {
          "name": "stdout",
          "output_type": "stream",
          "text": [
            "f1, xgb3: 0.9275279606523575\n",
            "Оптимальные значения параметров: {'subsample': 0.3, 'n_estimators': 238, 'min_child_weight': 5, 'max_depth': 12, 'learning_rate': 0.05, 'colsample_bytree': 0.5}\n",
            "CPU times: user 4h 34min 45s, sys: 1min 21s, total: 4h 36min 6s\n",
            "Wall time: 1h 47min 46s\n"
          ]
        }
      ],
      "source": [
        "%%time\n",
        "\n",
        "xgb_model3 = RandomizedSearchCV(estimator=xgb.XGBClassifier(random_state=RANDOM_STATE), param_distributions={\n",
        "    'n_estimators': range(10, 400),\n",
        "    'learning_rate': [0.01, 0.05],\n",
        "    'subsample': [0.3, 0.9],\n",
        "    'max_depth': range(2, 15),\n",
        "    'colsample_bytree': [0.4, 0.5],\n",
        "    'min_child_weight': range(1, 10)\n",
        "}, scoring='f1', random_state=RANDOM_STATE, cv=5)\n",
        "\n",
        "xgb_model_fit3 = xgb_model3.fit(X3_train, y3_train)\n",
        "xgb_model_rmse3 = xgb_model_fit3.best_score_\n",
        "\n",
        "print('f1, xgb3:', abs(xgb_model_rmse3))\n",
        "print('Оптимальные значения параметров:', xgb_model_fit3.best_params_)"
      ]
    },
    {
      "cell_type": "markdown",
      "source": [
        "**Тестовая выборка**\n",
        "\n",
        "В тестовом наборе данных 1,67 млн. наблюдений. Будем загружать их порциями по 100 тыс. наблюдений. Для каждого белка используем свою модель. В качестве предсказания возьмем вероятность соединения с этим белком."
      ],
      "metadata": {
        "id": "Cq26AS0NMl4N"
      },
      "id": "Cq26AS0NMl4N"
    },
    {
      "cell_type": "code",
      "execution_count": null,
      "id": "03385168",
      "metadata": {
        "execution": {
          "iopub.execute_input": "2024-07-01T23:34:58.235684Z",
          "iopub.status.busy": "2024-07-01T23:34:58.234877Z",
          "iopub.status.idle": "2024-07-02T00:32:59.091529Z",
          "shell.execute_reply": "2024-07-02T00:32:59.089319Z"
        },
        "papermill": {
          "duration": 3480.89181,
          "end_time": "2024-07-02T00:32:59.108936",
          "exception": false,
          "start_time": "2024-07-01T23:34:58.217126",
          "status": "completed"
        },
        "tags": [],
        "id": "03385168",
        "outputId": "7b4f3f37-bfa4-4848-ea98-9c6c440fafea"
      },
      "outputs": [
        {
          "name": "stdout",
          "output_type": "stream",
          "text": [
            "CPU times: user 1h 3s, sys: 23.6 s, total: 1h 27s\n",
            "Wall time: 57min 57s\n"
          ]
        }
      ],
      "source": [
        "%%time\n",
        "import os\n",
        "\n",
        "\n",
        "\n",
        "test_file = '/kaggle/input/leash-BELKA/test.csv'\n",
        "output_file = 'submission.csv'\n",
        "\n",
        "def probabilities_final(row):\n",
        "\n",
        "    protein = row['protein_name']\n",
        "\n",
        "    if protein == 'HSA':\n",
        "        return row['HSA']\n",
        "    elif protein == 'sEH':\n",
        "        return row['sEH']\n",
        "    elif protein == 'BRD4':\n",
        "        return row['BRD4']\n",
        "    else:\n",
        "        return 0\n",
        "\n",
        "\n",
        "for df_test in pd.read_csv(test_file, chunksize=100000):\n",
        "\n",
        "\n",
        "    df_test['molecule'] = df_test['molecule_smiles'].apply(Chem.MolFromSmiles)\n",
        "    df_test['ecfp'] = df_test['molecule'].apply(generate_ecfp)\n",
        "\n",
        "\n",
        "    X_test = df_test['ecfp'].tolist()\n",
        "\n",
        "\n",
        "    df_test['HSA'] = xgb_model.predict_proba(X_test)[:, 1]\n",
        "    df_test['sEH'] = xgb_model2.predict_proba(X_test)[:, 1]\n",
        "    df_test['BRD4'] = xgb_model3.predict_proba(X_test)[:, 1]\n",
        "\n",
        "    df_test['binds'] =  df_test.apply(probabilities_final, axis=1)\n",
        "\n",
        "\n",
        "    output_df = pd.DataFrame({'id': df_test['id'], 'binds': df_test['binds']})\n",
        "\n",
        "\n",
        "    output_df.to_csv(output_file, index=False, mode='a', header=not os.path.exists(output_file))"
      ]
    },
    {
      "cell_type": "markdown",
      "source": [
        "**Вывод:** Объем тренировочных данных очень велик (больше 296 млн. наблюдений), для построения модели использовалась только часть данных.\n",
        "\n",
        "Удалось улучшить метрику на тестовой выборке с базовой, равной 0.259, до 0.335. Показатели улучшило увеличение кол-ва наблюденний, на которых строились модели. А также использование трех моделей для каждого белка вместо мультиклассовой одной модели. Было использовано несколько моделей, но лучше всего себя показал XGBClassifier, который использовался в финальных расчетах."
      ],
      "metadata": {
        "id": "ldcf6t0KO5ux"
      },
      "id": "ldcf6t0KO5ux"
    }
  ],
  "metadata": {
    "kaggle": {
      "accelerator": "none",
      "dataSources": [
        {
          "databundleVersionId": 8006601,
          "sourceId": 67356,
          "sourceType": "competition"
        }
      ],
      "dockerImageVersionId": 30732,
      "isGpuEnabled": false,
      "isInternetEnabled": true,
      "language": "python",
      "sourceType": "notebook"
    },
    "kernelspec": {
      "display_name": "Python 3",
      "language": "python",
      "name": "python3"
    },
    "language_info": {
      "codemirror_mode": {
        "name": "ipython",
        "version": 3
      },
      "file_extension": ".py",
      "mimetype": "text/x-python",
      "name": "python",
      "nbconvert_exporter": "python",
      "pygments_lexer": "ipython3",
      "version": "3.10.13"
    },
    "papermill": {
      "default_parameters": {},
      "duration": 23916.268255,
      "end_time": "2024-07-02T00:33:03.420713",
      "environment_variables": {},
      "exception": null,
      "input_path": "__notebook__.ipynb",
      "output_path": "__notebook__.ipynb",
      "parameters": {},
      "start_time": "2024-07-01T17:54:27.152458",
      "version": "2.5.0"
    },
    "colab": {
      "provenance": []
    }
  },
  "nbformat": 4,
  "nbformat_minor": 5
}