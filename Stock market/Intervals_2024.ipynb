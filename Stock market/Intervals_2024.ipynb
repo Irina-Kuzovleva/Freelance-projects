{
 "cells": [
  {
   "cell_type": "markdown",
   "metadata": {
    "id": "kVTXV25jIv5Y"
   },
   "source": [
    "# Загружаем библиотеки"
   ]
  },
  {
   "cell_type": "code",
   "execution_count": 1,
   "metadata": {
    "colab": {
     "base_uri": "https://localhost:8080/"
    },
    "id": "luvJj1aHBedZ",
    "outputId": "84e2bc13-2a17-48b5-9768-d905f9725dd9"
   },
   "outputs": [
    {
     "name": "stdout",
     "output_type": "stream",
     "text": [
      "Requirement already satisfied: pandas_ta in /opt/conda/lib/python3.9/site-packages (0.3.14b0)\r\n",
      "Requirement already satisfied: pandas in /opt/conda/lib/python3.9/site-packages (from pandas_ta) (1.2.4)\r\n",
      "Requirement already satisfied: python-dateutil>=2.7.3 in /opt/conda/lib/python3.9/site-packages (from pandas->pandas_ta) (2.8.1)\r\n",
      "Requirement already satisfied: pytz>=2017.3 in /opt/conda/lib/python3.9/site-packages (from pandas->pandas_ta) (2021.1)\r\n",
      "Requirement already satisfied: numpy>=1.16.5 in /opt/conda/lib/python3.9/site-packages (from pandas->pandas_ta) (1.21.1)\r\n",
      "Requirement already satisfied: six>=1.5 in /opt/conda/lib/python3.9/site-packages (from python-dateutil>=2.7.3->pandas->pandas_ta) (1.16.0)\r\n"
     ]
    }
   ],
   "source": [
    "!pip install pandas_ta"
   ]
  },
  {
   "cell_type": "code",
   "execution_count": 2,
   "metadata": {
    "id": "DDTV8fnsvDMp"
   },
   "outputs": [],
   "source": [
    "import pandas as pd\n",
    "import pandas_ta as ta\n",
    "import numpy as np\n",
    "import math\n",
    "\n",
    "import datetime\n",
    "import dateutil\n",
    "import statistics\n",
    "\n",
    "import matplotlib.pyplot as plt\n",
    "from statsmodels.tsa.seasonal import seasonal_decompose\n",
    "\n",
    "from datetime import datetime as dt\n",
    "from datetime import timedelta, timezone"
   ]
  },
  {
   "cell_type": "code",
   "execution_count": 3,
   "metadata": {
    "id": "DVlaK9xA241a"
   },
   "outputs": [],
   "source": [
    "df=pd.read_csv('agg_ONTUSDT_2024-04-19.csv', sep=',')\n",
    "df.drop('Unnamed: 0', axis= 1 , inplace= True )\n",
    "\n",
    "#указываем цену\n",
    "df['Price_alert'] = 0.3313"
   ]
  },
  {
   "cell_type": "code",
   "execution_count": 4,
   "metadata": {
    "colab": {
     "base_uri": "https://localhost:8080/",
     "height": 452
    },
    "id": "pW41GULQ4dlZ",
    "outputId": "7eb148d8-4de1-46e5-f4c5-489fb770a443"
   },
   "outputs": [
    {
     "data": {
      "text/html": [
       "<div>\n",
       "<style scoped>\n",
       "    .dataframe tbody tr th:only-of-type {\n",
       "        vertical-align: middle;\n",
       "    }\n",
       "\n",
       "    .dataframe tbody tr th {\n",
       "        vertical-align: top;\n",
       "    }\n",
       "\n",
       "    .dataframe thead th {\n",
       "        text-align: right;\n",
       "    }\n",
       "</style>\n",
       "<table border=\"1\" class=\"dataframe\">\n",
       "  <thead>\n",
       "    <tr style=\"text-align: right;\">\n",
       "      <th></th>\n",
       "      <th>Time</th>\n",
       "      <th>Open</th>\n",
       "      <th>High</th>\n",
       "      <th>Low</th>\n",
       "      <th>Close</th>\n",
       "      <th>Volume</th>\n",
       "      <th>Number of trades</th>\n",
       "      <th>Time_alert</th>\n",
       "      <th>Price_alert</th>\n",
       "    </tr>\n",
       "  </thead>\n",
       "  <tbody>\n",
       "    <tr>\n",
       "      <th>0</th>\n",
       "      <td>1713480300000</td>\n",
       "      <td>0.3349</td>\n",
       "      <td>0.3349</td>\n",
       "      <td>0.3348</td>\n",
       "      <td>0.3348</td>\n",
       "      <td>16792.6</td>\n",
       "      <td>3</td>\n",
       "      <td>1713484855000</td>\n",
       "      <td>0.3313</td>\n",
       "    </tr>\n",
       "    <tr>\n",
       "      <th>1</th>\n",
       "      <td>1713480360000</td>\n",
       "      <td>0.3349</td>\n",
       "      <td>0.3356</td>\n",
       "      <td>0.3346</td>\n",
       "      <td>0.3350</td>\n",
       "      <td>188066.7</td>\n",
       "      <td>89</td>\n",
       "      <td>1713484855000</td>\n",
       "      <td>0.3313</td>\n",
       "    </tr>\n",
       "    <tr>\n",
       "      <th>2</th>\n",
       "      <td>1713480420000</td>\n",
       "      <td>0.3351</td>\n",
       "      <td>0.3353</td>\n",
       "      <td>0.3341</td>\n",
       "      <td>0.3341</td>\n",
       "      <td>269036.0</td>\n",
       "      <td>95</td>\n",
       "      <td>1713484855000</td>\n",
       "      <td>0.3313</td>\n",
       "    </tr>\n",
       "    <tr>\n",
       "      <th>3</th>\n",
       "      <td>1713480480000</td>\n",
       "      <td>0.3341</td>\n",
       "      <td>0.3342</td>\n",
       "      <td>0.3333</td>\n",
       "      <td>0.3335</td>\n",
       "      <td>461506.6</td>\n",
       "      <td>89</td>\n",
       "      <td>1713484855000</td>\n",
       "      <td>0.3313</td>\n",
       "    </tr>\n",
       "    <tr>\n",
       "      <th>4</th>\n",
       "      <td>1713480540000</td>\n",
       "      <td>0.3334</td>\n",
       "      <td>0.3337</td>\n",
       "      <td>0.3327</td>\n",
       "      <td>0.3330</td>\n",
       "      <td>360699.7</td>\n",
       "      <td>97</td>\n",
       "      <td>1713484855000</td>\n",
       "      <td>0.3313</td>\n",
       "    </tr>\n",
       "    <tr>\n",
       "      <th>5</th>\n",
       "      <td>1713480600000</td>\n",
       "      <td>0.3331</td>\n",
       "      <td>0.3337</td>\n",
       "      <td>0.3329</td>\n",
       "      <td>0.3333</td>\n",
       "      <td>269642.3</td>\n",
       "      <td>77</td>\n",
       "      <td>1713484855000</td>\n",
       "      <td>0.3313</td>\n",
       "    </tr>\n",
       "    <tr>\n",
       "      <th>6</th>\n",
       "      <td>1713480660000</td>\n",
       "      <td>0.3334</td>\n",
       "      <td>0.3347</td>\n",
       "      <td>0.3334</td>\n",
       "      <td>0.3342</td>\n",
       "      <td>193934.0</td>\n",
       "      <td>85</td>\n",
       "      <td>1713484855000</td>\n",
       "      <td>0.3313</td>\n",
       "    </tr>\n",
       "    <tr>\n",
       "      <th>7</th>\n",
       "      <td>1713480720000</td>\n",
       "      <td>0.3342</td>\n",
       "      <td>0.3345</td>\n",
       "      <td>0.3341</td>\n",
       "      <td>0.3341</td>\n",
       "      <td>172847.2</td>\n",
       "      <td>72</td>\n",
       "      <td>1713484855000</td>\n",
       "      <td>0.3313</td>\n",
       "    </tr>\n",
       "    <tr>\n",
       "      <th>8</th>\n",
       "      <td>1713480780000</td>\n",
       "      <td>0.3340</td>\n",
       "      <td>0.3344</td>\n",
       "      <td>0.3336</td>\n",
       "      <td>0.3338</td>\n",
       "      <td>205432.9</td>\n",
       "      <td>92</td>\n",
       "      <td>1713484855000</td>\n",
       "      <td>0.3313</td>\n",
       "    </tr>\n",
       "    <tr>\n",
       "      <th>9</th>\n",
       "      <td>1713480840000</td>\n",
       "      <td>0.3339</td>\n",
       "      <td>0.3346</td>\n",
       "      <td>0.3323</td>\n",
       "      <td>0.3326</td>\n",
       "      <td>498037.1</td>\n",
       "      <td>145</td>\n",
       "      <td>1713484855000</td>\n",
       "      <td>0.3313</td>\n",
       "    </tr>\n",
       "  </tbody>\n",
       "</table>\n",
       "</div>"
      ],
      "text/plain": [
       "            Time    Open    High     Low   Close    Volume  Number of trades  \\\n",
       "0  1713480300000  0.3349  0.3349  0.3348  0.3348   16792.6                 3   \n",
       "1  1713480360000  0.3349  0.3356  0.3346  0.3350  188066.7                89   \n",
       "2  1713480420000  0.3351  0.3353  0.3341  0.3341  269036.0                95   \n",
       "3  1713480480000  0.3341  0.3342  0.3333  0.3335  461506.6                89   \n",
       "4  1713480540000  0.3334  0.3337  0.3327  0.3330  360699.7                97   \n",
       "5  1713480600000  0.3331  0.3337  0.3329  0.3333  269642.3                77   \n",
       "6  1713480660000  0.3334  0.3347  0.3334  0.3342  193934.0                85   \n",
       "7  1713480720000  0.3342  0.3345  0.3341  0.3341  172847.2                72   \n",
       "8  1713480780000  0.3340  0.3344  0.3336  0.3338  205432.9                92   \n",
       "9  1713480840000  0.3339  0.3346  0.3323  0.3326  498037.1               145   \n",
       "\n",
       "      Time_alert  Price_alert  \n",
       "0  1713484855000       0.3313  \n",
       "1  1713484855000       0.3313  \n",
       "2  1713484855000       0.3313  \n",
       "3  1713484855000       0.3313  \n",
       "4  1713484855000       0.3313  \n",
       "5  1713484855000       0.3313  \n",
       "6  1713484855000       0.3313  \n",
       "7  1713484855000       0.3313  \n",
       "8  1713484855000       0.3313  \n",
       "9  1713484855000       0.3313  "
      ]
     },
     "execution_count": 4,
     "metadata": {},
     "output_type": "execute_result"
    }
   ],
   "source": [
    "df.head(10)"
   ]
  },
  {
   "cell_type": "code",
   "execution_count": 5,
   "metadata": {
    "colab": {
     "base_uri": "https://localhost:8080/"
    },
    "id": "ceDDkfulAho4",
    "outputId": "209b39fc-b61a-463b-cb4e-5e039754be04"
   },
   "outputs": [
    {
     "name": "stdout",
     "output_type": "stream",
     "text": [
      "<class 'pandas.core.frame.DataFrame'>\n",
      "RangeIndex: 256 entries, 0 to 255\n",
      "Data columns (total 9 columns):\n",
      " #   Column            Non-Null Count  Dtype  \n",
      "---  ------            --------------  -----  \n",
      " 0   Time              256 non-null    int64  \n",
      " 1   Open              256 non-null    float64\n",
      " 2   High              256 non-null    float64\n",
      " 3   Low               256 non-null    float64\n",
      " 4   Close             256 non-null    float64\n",
      " 5   Volume            256 non-null    float64\n",
      " 6   Number of trades  256 non-null    int64  \n",
      " 7   Time_alert        256 non-null    int64  \n",
      " 8   Price_alert       256 non-null    float64\n",
      "dtypes: float64(6), int64(3)\n",
      "memory usage: 18.1 KB\n"
     ]
    }
   ],
   "source": [
    "df.info()"
   ]
  },
  {
   "cell_type": "code",
   "execution_count": 6,
   "metadata": {
    "id": "rocA8OfJBUlY"
   },
   "outputs": [],
   "source": [
    "def get_formatted_time(timestamp):\n",
    "    \"\"\"Переврдит метку времени в дату-время МОСКОВСКОЕ!\"\"\"\n",
    "    dt_object = dt.fromtimestamp(float(timestamp) / 1000.0 + 3 * 60 * 60,\n",
    "                                 timezone.utc)\n",
    "    return dt_object\n",
    "\n",
    "def ts2dt(timestamp):\n",
    "    \"\"\"Переврдит метку времени в строку дату-время МОСКОВСКОЕ!\"\"\"\n",
    "    dt_object = dt.fromtimestamp(float(timestamp) / 1000.0 + 3 * 60 * 60,\n",
    "                                 timezone.utc)\n",
    "    time_str = dt_object.strftime(\"%Y-%m-%d %H:%M:%S\").partition(\"+\")[0]\n",
    "    return time_str"
   ]
  },
  {
   "cell_type": "code",
   "execution_count": 7,
   "metadata": {
    "id": "jIvk0ygFBWh7"
   },
   "outputs": [],
   "source": [
    "df['Time'] = df['Time'].apply(ts2dt)\n",
    "df['Time_alert'] = df['Time_alert'].apply(ts2dt)"
   ]
  },
  {
   "cell_type": "code",
   "execution_count": 8,
   "metadata": {
    "colab": {
     "base_uri": "https://localhost:8080/",
     "height": 432
    },
    "id": "ltfi69l9CN5Y",
    "outputId": "6bf970d3-3c04-4701-dd3c-4dc84cc7cd6c"
   },
   "outputs": [
    {
     "data": {
      "text/html": [
       "<div>\n",
       "<style scoped>\n",
       "    .dataframe tbody tr th:only-of-type {\n",
       "        vertical-align: middle;\n",
       "    }\n",
       "\n",
       "    .dataframe tbody tr th {\n",
       "        vertical-align: top;\n",
       "    }\n",
       "\n",
       "    .dataframe thead th {\n",
       "        text-align: right;\n",
       "    }\n",
       "</style>\n",
       "<table border=\"1\" class=\"dataframe\">\n",
       "  <thead>\n",
       "    <tr style=\"text-align: right;\">\n",
       "      <th></th>\n",
       "      <th>Time</th>\n",
       "      <th>Open</th>\n",
       "      <th>High</th>\n",
       "      <th>Low</th>\n",
       "      <th>Close</th>\n",
       "      <th>Volume</th>\n",
       "      <th>Number of trades</th>\n",
       "      <th>Time_alert</th>\n",
       "      <th>Price_alert</th>\n",
       "    </tr>\n",
       "  </thead>\n",
       "  <tbody>\n",
       "    <tr>\n",
       "      <th>0</th>\n",
       "      <td>2024-04-19 01:45:00</td>\n",
       "      <td>0.3349</td>\n",
       "      <td>0.3349</td>\n",
       "      <td>0.3348</td>\n",
       "      <td>0.3348</td>\n",
       "      <td>16792.6</td>\n",
       "      <td>3</td>\n",
       "      <td>2024-04-19 03:00:55</td>\n",
       "      <td>0.3313</td>\n",
       "    </tr>\n",
       "    <tr>\n",
       "      <th>1</th>\n",
       "      <td>2024-04-19 01:46:00</td>\n",
       "      <td>0.3349</td>\n",
       "      <td>0.3356</td>\n",
       "      <td>0.3346</td>\n",
       "      <td>0.3350</td>\n",
       "      <td>188066.7</td>\n",
       "      <td>89</td>\n",
       "      <td>2024-04-19 03:00:55</td>\n",
       "      <td>0.3313</td>\n",
       "    </tr>\n",
       "    <tr>\n",
       "      <th>2</th>\n",
       "      <td>2024-04-19 01:47:00</td>\n",
       "      <td>0.3351</td>\n",
       "      <td>0.3353</td>\n",
       "      <td>0.3341</td>\n",
       "      <td>0.3341</td>\n",
       "      <td>269036.0</td>\n",
       "      <td>95</td>\n",
       "      <td>2024-04-19 03:00:55</td>\n",
       "      <td>0.3313</td>\n",
       "    </tr>\n",
       "    <tr>\n",
       "      <th>3</th>\n",
       "      <td>2024-04-19 01:48:00</td>\n",
       "      <td>0.3341</td>\n",
       "      <td>0.3342</td>\n",
       "      <td>0.3333</td>\n",
       "      <td>0.3335</td>\n",
       "      <td>461506.6</td>\n",
       "      <td>89</td>\n",
       "      <td>2024-04-19 03:00:55</td>\n",
       "      <td>0.3313</td>\n",
       "    </tr>\n",
       "    <tr>\n",
       "      <th>4</th>\n",
       "      <td>2024-04-19 01:49:00</td>\n",
       "      <td>0.3334</td>\n",
       "      <td>0.3337</td>\n",
       "      <td>0.3327</td>\n",
       "      <td>0.3330</td>\n",
       "      <td>360699.7</td>\n",
       "      <td>97</td>\n",
       "      <td>2024-04-19 03:00:55</td>\n",
       "      <td>0.3313</td>\n",
       "    </tr>\n",
       "  </tbody>\n",
       "</table>\n",
       "</div>"
      ],
      "text/plain": [
       "                  Time    Open    High     Low   Close    Volume  \\\n",
       "0  2024-04-19 01:45:00  0.3349  0.3349  0.3348  0.3348   16792.6   \n",
       "1  2024-04-19 01:46:00  0.3349  0.3356  0.3346  0.3350  188066.7   \n",
       "2  2024-04-19 01:47:00  0.3351  0.3353  0.3341  0.3341  269036.0   \n",
       "3  2024-04-19 01:48:00  0.3341  0.3342  0.3333  0.3335  461506.6   \n",
       "4  2024-04-19 01:49:00  0.3334  0.3337  0.3327  0.3330  360699.7   \n",
       "\n",
       "   Number of trades           Time_alert  Price_alert  \n",
       "0                 3  2024-04-19 03:00:55       0.3313  \n",
       "1                89  2024-04-19 03:00:55       0.3313  \n",
       "2                95  2024-04-19 03:00:55       0.3313  \n",
       "3                89  2024-04-19 03:00:55       0.3313  \n",
       "4                97  2024-04-19 03:00:55       0.3313  "
      ]
     },
     "execution_count": 8,
     "metadata": {},
     "output_type": "execute_result"
    }
   ],
   "source": [
    "df.head()"
   ]
  },
  {
   "cell_type": "code",
   "execution_count": 9,
   "metadata": {
    "colab": {
     "base_uri": "https://localhost:8080/"
    },
    "id": "8Vp1qJbnSvo4",
    "outputId": "68b442ed-2368-43d8-9ec6-4e1509322210"
   },
   "outputs": [
    {
     "name": "stdout",
     "output_type": "stream",
     "text": [
      "<class 'pandas.core.frame.DataFrame'>\n",
      "RangeIndex: 256 entries, 0 to 255\n",
      "Data columns (total 9 columns):\n",
      " #   Column            Non-Null Count  Dtype  \n",
      "---  ------            --------------  -----  \n",
      " 0   Time              256 non-null    object \n",
      " 1   Open              256 non-null    float64\n",
      " 2   High              256 non-null    float64\n",
      " 3   Low               256 non-null    float64\n",
      " 4   Close             256 non-null    float64\n",
      " 5   Volume            256 non-null    float64\n",
      " 6   Number of trades  256 non-null    int64  \n",
      " 7   Time_alert        256 non-null    object \n",
      " 8   Price_alert       256 non-null    float64\n",
      "dtypes: float64(6), int64(1), object(2)\n",
      "memory usage: 18.1+ KB\n"
     ]
    }
   ],
   "source": [
    "df.info()"
   ]
  },
  {
   "cell_type": "code",
   "execution_count": 10,
   "metadata": {
    "id": "uphV1qZxSzvQ"
   },
   "outputs": [],
   "source": [
    "df['Time']=pd.to_datetime(df['Time'])\n",
    "df['Time_alert']=pd.to_datetime(df['Time_alert']).dt.round('1T')"
   ]
  },
  {
   "cell_type": "code",
   "execution_count": 11,
   "metadata": {
    "colab": {
     "base_uri": "https://localhost:8080/"
    },
    "id": "ZRzuiCtLTLdS",
    "outputId": "3b24316d-69c5-4d4a-e4ba-5acdcab33b45"
   },
   "outputs": [
    {
     "name": "stdout",
     "output_type": "stream",
     "text": [
      "<class 'pandas.core.frame.DataFrame'>\n",
      "RangeIndex: 256 entries, 0 to 255\n",
      "Data columns (total 9 columns):\n",
      " #   Column            Non-Null Count  Dtype         \n",
      "---  ------            --------------  -----         \n",
      " 0   Time              256 non-null    datetime64[ns]\n",
      " 1   Open              256 non-null    float64       \n",
      " 2   High              256 non-null    float64       \n",
      " 3   Low               256 non-null    float64       \n",
      " 4   Close             256 non-null    float64       \n",
      " 5   Volume            256 non-null    float64       \n",
      " 6   Number of trades  256 non-null    int64         \n",
      " 7   Time_alert        256 non-null    datetime64[ns]\n",
      " 8   Price_alert       256 non-null    float64       \n",
      "dtypes: datetime64[ns](2), float64(6), int64(1)\n",
      "memory usage: 18.1 KB\n"
     ]
    }
   ],
   "source": [
    "df.info()"
   ]
  },
  {
   "cell_type": "code",
   "execution_count": 12,
   "metadata": {
    "colab": {
     "base_uri": "https://localhost:8080/",
     "height": 432
    },
    "id": "47ANnj2-TOc6",
    "outputId": "ed84b374-735f-413e-8dd8-b549e5cbe0fd"
   },
   "outputs": [
    {
     "data": {
      "text/html": [
       "<div>\n",
       "<style scoped>\n",
       "    .dataframe tbody tr th:only-of-type {\n",
       "        vertical-align: middle;\n",
       "    }\n",
       "\n",
       "    .dataframe tbody tr th {\n",
       "        vertical-align: top;\n",
       "    }\n",
       "\n",
       "    .dataframe thead th {\n",
       "        text-align: right;\n",
       "    }\n",
       "</style>\n",
       "<table border=\"1\" class=\"dataframe\">\n",
       "  <thead>\n",
       "    <tr style=\"text-align: right;\">\n",
       "      <th></th>\n",
       "      <th>Time</th>\n",
       "      <th>Open</th>\n",
       "      <th>High</th>\n",
       "      <th>Low</th>\n",
       "      <th>Close</th>\n",
       "      <th>Volume</th>\n",
       "      <th>Number of trades</th>\n",
       "      <th>Time_alert</th>\n",
       "      <th>Price_alert</th>\n",
       "    </tr>\n",
       "  </thead>\n",
       "  <tbody>\n",
       "    <tr>\n",
       "      <th>0</th>\n",
       "      <td>2024-04-19 01:45:00</td>\n",
       "      <td>0.3349</td>\n",
       "      <td>0.3349</td>\n",
       "      <td>0.3348</td>\n",
       "      <td>0.3348</td>\n",
       "      <td>16792.6</td>\n",
       "      <td>3</td>\n",
       "      <td>2024-04-19 03:01:00</td>\n",
       "      <td>0.3313</td>\n",
       "    </tr>\n",
       "    <tr>\n",
       "      <th>1</th>\n",
       "      <td>2024-04-19 01:46:00</td>\n",
       "      <td>0.3349</td>\n",
       "      <td>0.3356</td>\n",
       "      <td>0.3346</td>\n",
       "      <td>0.3350</td>\n",
       "      <td>188066.7</td>\n",
       "      <td>89</td>\n",
       "      <td>2024-04-19 03:01:00</td>\n",
       "      <td>0.3313</td>\n",
       "    </tr>\n",
       "    <tr>\n",
       "      <th>2</th>\n",
       "      <td>2024-04-19 01:47:00</td>\n",
       "      <td>0.3351</td>\n",
       "      <td>0.3353</td>\n",
       "      <td>0.3341</td>\n",
       "      <td>0.3341</td>\n",
       "      <td>269036.0</td>\n",
       "      <td>95</td>\n",
       "      <td>2024-04-19 03:01:00</td>\n",
       "      <td>0.3313</td>\n",
       "    </tr>\n",
       "    <tr>\n",
       "      <th>3</th>\n",
       "      <td>2024-04-19 01:48:00</td>\n",
       "      <td>0.3341</td>\n",
       "      <td>0.3342</td>\n",
       "      <td>0.3333</td>\n",
       "      <td>0.3335</td>\n",
       "      <td>461506.6</td>\n",
       "      <td>89</td>\n",
       "      <td>2024-04-19 03:01:00</td>\n",
       "      <td>0.3313</td>\n",
       "    </tr>\n",
       "    <tr>\n",
       "      <th>4</th>\n",
       "      <td>2024-04-19 01:49:00</td>\n",
       "      <td>0.3334</td>\n",
       "      <td>0.3337</td>\n",
       "      <td>0.3327</td>\n",
       "      <td>0.3330</td>\n",
       "      <td>360699.7</td>\n",
       "      <td>97</td>\n",
       "      <td>2024-04-19 03:01:00</td>\n",
       "      <td>0.3313</td>\n",
       "    </tr>\n",
       "  </tbody>\n",
       "</table>\n",
       "</div>"
      ],
      "text/plain": [
       "                 Time    Open    High     Low   Close    Volume  \\\n",
       "0 2024-04-19 01:45:00  0.3349  0.3349  0.3348  0.3348   16792.6   \n",
       "1 2024-04-19 01:46:00  0.3349  0.3356  0.3346  0.3350  188066.7   \n",
       "2 2024-04-19 01:47:00  0.3351  0.3353  0.3341  0.3341  269036.0   \n",
       "3 2024-04-19 01:48:00  0.3341  0.3342  0.3333  0.3335  461506.6   \n",
       "4 2024-04-19 01:49:00  0.3334  0.3337  0.3327  0.3330  360699.7   \n",
       "\n",
       "   Number of trades          Time_alert  Price_alert  \n",
       "0                 3 2024-04-19 03:01:00       0.3313  \n",
       "1                89 2024-04-19 03:01:00       0.3313  \n",
       "2                95 2024-04-19 03:01:00       0.3313  \n",
       "3                89 2024-04-19 03:01:00       0.3313  \n",
       "4                97 2024-04-19 03:01:00       0.3313  "
      ]
     },
     "execution_count": 12,
     "metadata": {},
     "output_type": "execute_result"
    }
   ],
   "source": [
    "df.head()"
   ]
  },
  {
   "cell_type": "markdown",
   "metadata": {
    "id": "Y24g-urTaZ2s"
   },
   "source": [
    "## Скользящее среднее, скользящее стандартное отклонение"
   ]
  },
  {
   "cell_type": "code",
   "execution_count": 13,
   "metadata": {
    "id": "FXC7YAOnT6d0"
   },
   "outputs": [],
   "source": [
    "df['Av_price'] = (df['High']+df['Low'])/2\n",
    "df['Rolling_mean'] = df['Av_price'].rolling(5).mean() #скользящее среднее\n",
    "df['Rolling_std'] = df['Av_price'].rolling(5).std() #скользящее стандартное отклонение"
   ]
  },
  {
   "cell_type": "code",
   "execution_count": 14,
   "metadata": {
    "colab": {
     "base_uri": "https://localhost:8080/",
     "height": 469
    },
    "id": "ODgz2MNMVIdT",
    "outputId": "7bd89ad3-9f65-4e76-ecd3-0557db0d173a"
   },
   "outputs": [
    {
     "data": {
      "text/html": [
       "<div>\n",
       "<style scoped>\n",
       "    .dataframe tbody tr th:only-of-type {\n",
       "        vertical-align: middle;\n",
       "    }\n",
       "\n",
       "    .dataframe tbody tr th {\n",
       "        vertical-align: top;\n",
       "    }\n",
       "\n",
       "    .dataframe thead th {\n",
       "        text-align: right;\n",
       "    }\n",
       "</style>\n",
       "<table border=\"1\" class=\"dataframe\">\n",
       "  <thead>\n",
       "    <tr style=\"text-align: right;\">\n",
       "      <th></th>\n",
       "      <th>Time</th>\n",
       "      <th>Open</th>\n",
       "      <th>High</th>\n",
       "      <th>Low</th>\n",
       "      <th>Close</th>\n",
       "      <th>Volume</th>\n",
       "      <th>Number of trades</th>\n",
       "      <th>Time_alert</th>\n",
       "      <th>Price_alert</th>\n",
       "      <th>Av_price</th>\n",
       "      <th>Rolling_mean</th>\n",
       "      <th>Rolling_std</th>\n",
       "    </tr>\n",
       "  </thead>\n",
       "  <tbody>\n",
       "    <tr>\n",
       "      <th>0</th>\n",
       "      <td>2024-04-19 01:45:00</td>\n",
       "      <td>0.3349</td>\n",
       "      <td>0.3349</td>\n",
       "      <td>0.3348</td>\n",
       "      <td>0.3348</td>\n",
       "      <td>16792.6</td>\n",
       "      <td>3</td>\n",
       "      <td>2024-04-19 03:01:00</td>\n",
       "      <td>0.3313</td>\n",
       "      <td>0.33485</td>\n",
       "      <td>NaN</td>\n",
       "      <td>NaN</td>\n",
       "    </tr>\n",
       "    <tr>\n",
       "      <th>1</th>\n",
       "      <td>2024-04-19 01:46:00</td>\n",
       "      <td>0.3349</td>\n",
       "      <td>0.3356</td>\n",
       "      <td>0.3346</td>\n",
       "      <td>0.3350</td>\n",
       "      <td>188066.7</td>\n",
       "      <td>89</td>\n",
       "      <td>2024-04-19 03:01:00</td>\n",
       "      <td>0.3313</td>\n",
       "      <td>0.33510</td>\n",
       "      <td>NaN</td>\n",
       "      <td>NaN</td>\n",
       "    </tr>\n",
       "    <tr>\n",
       "      <th>2</th>\n",
       "      <td>2024-04-19 01:47:00</td>\n",
       "      <td>0.3351</td>\n",
       "      <td>0.3353</td>\n",
       "      <td>0.3341</td>\n",
       "      <td>0.3341</td>\n",
       "      <td>269036.0</td>\n",
       "      <td>95</td>\n",
       "      <td>2024-04-19 03:01:00</td>\n",
       "      <td>0.3313</td>\n",
       "      <td>0.33470</td>\n",
       "      <td>NaN</td>\n",
       "      <td>NaN</td>\n",
       "    </tr>\n",
       "    <tr>\n",
       "      <th>3</th>\n",
       "      <td>2024-04-19 01:48:00</td>\n",
       "      <td>0.3341</td>\n",
       "      <td>0.3342</td>\n",
       "      <td>0.3333</td>\n",
       "      <td>0.3335</td>\n",
       "      <td>461506.6</td>\n",
       "      <td>89</td>\n",
       "      <td>2024-04-19 03:01:00</td>\n",
       "      <td>0.3313</td>\n",
       "      <td>0.33375</td>\n",
       "      <td>NaN</td>\n",
       "      <td>NaN</td>\n",
       "    </tr>\n",
       "    <tr>\n",
       "      <th>4</th>\n",
       "      <td>2024-04-19 01:49:00</td>\n",
       "      <td>0.3334</td>\n",
       "      <td>0.3337</td>\n",
       "      <td>0.3327</td>\n",
       "      <td>0.3330</td>\n",
       "      <td>360699.7</td>\n",
       "      <td>97</td>\n",
       "      <td>2024-04-19 03:01:00</td>\n",
       "      <td>0.3313</td>\n",
       "      <td>0.33320</td>\n",
       "      <td>0.33432</td>\n",
       "      <td>0.000808</td>\n",
       "    </tr>\n",
       "  </tbody>\n",
       "</table>\n",
       "</div>"
      ],
      "text/plain": [
       "                 Time    Open    High     Low   Close    Volume  \\\n",
       "0 2024-04-19 01:45:00  0.3349  0.3349  0.3348  0.3348   16792.6   \n",
       "1 2024-04-19 01:46:00  0.3349  0.3356  0.3346  0.3350  188066.7   \n",
       "2 2024-04-19 01:47:00  0.3351  0.3353  0.3341  0.3341  269036.0   \n",
       "3 2024-04-19 01:48:00  0.3341  0.3342  0.3333  0.3335  461506.6   \n",
       "4 2024-04-19 01:49:00  0.3334  0.3337  0.3327  0.3330  360699.7   \n",
       "\n",
       "   Number of trades          Time_alert  Price_alert  Av_price  Rolling_mean  \\\n",
       "0                 3 2024-04-19 03:01:00       0.3313   0.33485           NaN   \n",
       "1                89 2024-04-19 03:01:00       0.3313   0.33510           NaN   \n",
       "2                95 2024-04-19 03:01:00       0.3313   0.33470           NaN   \n",
       "3                89 2024-04-19 03:01:00       0.3313   0.33375           NaN   \n",
       "4                97 2024-04-19 03:01:00       0.3313   0.33320       0.33432   \n",
       "\n",
       "   Rolling_std  \n",
       "0          NaN  \n",
       "1          NaN  \n",
       "2          NaN  \n",
       "3          NaN  \n",
       "4     0.000808  "
      ]
     },
     "execution_count": 14,
     "metadata": {},
     "output_type": "execute_result"
    }
   ],
   "source": [
    "df.head()"
   ]
  },
  {
   "cell_type": "code",
   "execution_count": 15,
   "metadata": {
    "colab": {
     "base_uri": "https://localhost:8080/",
     "height": 497
    },
    "id": "9EtOoWMbVURy",
    "outputId": "532c2dab-a861-4bf9-c7eb-fd3644fd3acd"
   },
   "outputs": [
    {
     "data": {
      "image/png": "[encoded data removed]",
      "text/plain": [
       "<Figure size 432x288 with 1 Axes>"
      ]
     },
     "metadata": {
      "needs_background": "light"
     },
     "output_type": "display_data"
    }
   ],
   "source": [
    "alert_time=df.loc[0,'Time_alert']\n",
    "alert_price=df.loc[0,'Price_alert']\n",
    "plt.plot(df['Time'], df['Close'])\n",
    "plt.plot(df['Time'], df['Rolling_mean'])\n",
    "plt.figsize=(20, 30)\n",
    "plt.xlabel('Time')\n",
    "plt.xticks(rotation=90)\n",
    "plt.legend('')\n",
    "plt.ylabel('Price')\n",
    "plt.scatter(alert_time, alert_price, color='orange', s=40, marker='o');"
   ]
  },
  {
   "cell_type": "code",
   "execution_count": 16,
   "metadata": {
    "colab": {
     "base_uri": "https://localhost:8080/",
     "height": 497
    },
    "id": "QcadjpmIeTTf",
    "outputId": "998304e5-ab16-4481-87f1-9a5e272b978b"
   },
   "outputs": [
    {
     "data": {
      "image/png": "[encoded data removed]",
      "text/plain": [
       "<Figure size 432x288 with 1 Axes>"
      ]
     },
     "metadata": {
      "needs_background": "light"
     },
     "output_type": "display_data"
    }
   ],
   "source": [
    "plt.plot(df['Time'], df['Rolling_std'])\n",
    "plt.xlabel('Time')\n",
    "plt.xticks(rotation=90)\n",
    "plt.legend('')\n",
    "plt.ylabel('Price');"
   ]
  },
  {
   "cell_type": "markdown",
   "metadata": {
    "id": "AHQ6O0Qwa5KB"
   },
   "source": [
    "## Цена начала отрезка, цена окончания отрезка (до точки alert)"
   ]
  },
  {
   "cell_type": "code",
   "execution_count": 17,
   "metadata": {
    "id": "ePSlpk8NM7FM"
   },
   "outputs": [],
   "source": [
    "def start_rolling_mean(row):\n",
    "\n",
    "  time_alert=df.loc[0,'Time_alert']\n",
    "\n",
    "  if row['Time'] <= (time_alert-pd.Timedelta(minutes=15)):\n",
    "    return df.loc[4,'Rolling_mean']\n",
    "\n"
   ]
  },
  {
   "cell_type": "code",
   "execution_count": 18,
   "metadata": {
    "id": "sDOtcPPUHyoE"
   },
   "outputs": [],
   "source": [
    "df['Start_rolling_mean'] = df.apply(start_rolling_mean, axis=1)"
   ]
  },
  {
   "cell_type": "code",
   "execution_count": 19,
   "metadata": {
    "id": "gRB5zh2BQSkf"
   },
   "outputs": [],
   "source": [
    "def end_rolling_mean(row):\n",
    "\n",
    "  time_alert=df.loc[0,'Time_alert']\n",
    "\n",
    "  if row['Time'] <= (time_alert-pd.Timedelta(minutes=15)):\n",
    "        index_time = df.index [df['Time'] == (time_alert-pd.Timedelta(minutes=15))].tolist()\n",
    "        return df.loc[index_time,'Rolling_mean']"
   ]
  },
  {
   "cell_type": "code",
   "execution_count": 20,
   "metadata": {
    "id": "xNNhnomVQmBU"
   },
   "outputs": [],
   "source": [
    "df['End_rolling_mean'] = df.apply(end_rolling_mean, axis=1)"
   ]
  },
  {
   "cell_type": "markdown",
   "metadata": {
    "id": "1UTqUxVQdQp-"
   },
   "source": [
    "## RSI индекс относительной силы"
   ]
  },
  {
   "cell_type": "code",
   "execution_count": 21,
   "metadata": {
    "id": "g0cszDZmPr7n"
   },
   "outputs": [],
   "source": [
    "df['RSI'] = ta.rsi(df['Close'], length = 5)"
   ]
  },
  {
   "cell_type": "code",
   "execution_count": 22,
   "metadata": {
    "colab": {
     "base_uri": "https://localhost:8080/",
     "height": 469
    },
    "id": "-iXYSvpTKXcP",
    "outputId": "1766e37e-91b7-4334-8ae9-33e683e370ec"
   },
   "outputs": [
    {
     "data": {
      "text/html": [
       "<div>\n",
       "<style scoped>\n",
       "    .dataframe tbody tr th:only-of-type {\n",
       "        vertical-align: middle;\n",
       "    }\n",
       "\n",
       "    .dataframe tbody tr th {\n",
       "        vertical-align: top;\n",
       "    }\n",
       "\n",
       "    .dataframe thead th {\n",
       "        text-align: right;\n",
       "    }\n",
       "</style>\n",
       "<table border=\"1\" class=\"dataframe\">\n",
       "  <thead>\n",
       "    <tr style=\"text-align: right;\">\n",
       "      <th></th>\n",
       "      <th>Time</th>\n",
       "      <th>Open</th>\n",
       "      <th>High</th>\n",
       "      <th>Low</th>\n",
       "      <th>Close</th>\n",
       "      <th>Volume</th>\n",
       "      <th>Number of trades</th>\n",
       "      <th>Time_alert</th>\n",
       "      <th>Price_alert</th>\n",
       "      <th>Av_price</th>\n",
       "      <th>Rolling_mean</th>\n",
       "      <th>Rolling_std</th>\n",
       "      <th>Start_rolling_mean</th>\n",
       "      <th>End_rolling_mean</th>\n",
       "      <th>RSI</th>\n",
       "    </tr>\n",
       "  </thead>\n",
       "  <tbody>\n",
       "    <tr>\n",
       "      <th>0</th>\n",
       "      <td>2024-04-19 01:45:00</td>\n",
       "      <td>0.3349</td>\n",
       "      <td>0.3349</td>\n",
       "      <td>0.3348</td>\n",
       "      <td>0.3348</td>\n",
       "      <td>16792.6</td>\n",
       "      <td>3</td>\n",
       "      <td>2024-04-19 03:01:00</td>\n",
       "      <td>0.3313</td>\n",
       "      <td>0.33485</td>\n",
       "      <td>NaN</td>\n",
       "      <td>NaN</td>\n",
       "      <td>0.33432</td>\n",
       "      <td>0.32923</td>\n",
       "      <td>NaN</td>\n",
       "    </tr>\n",
       "    <tr>\n",
       "      <th>1</th>\n",
       "      <td>2024-04-19 01:46:00</td>\n",
       "      <td>0.3349</td>\n",
       "      <td>0.3356</td>\n",
       "      <td>0.3346</td>\n",
       "      <td>0.3350</td>\n",
       "      <td>188066.7</td>\n",
       "      <td>89</td>\n",
       "      <td>2024-04-19 03:01:00</td>\n",
       "      <td>0.3313</td>\n",
       "      <td>0.33510</td>\n",
       "      <td>NaN</td>\n",
       "      <td>NaN</td>\n",
       "      <td>0.33432</td>\n",
       "      <td>0.32923</td>\n",
       "      <td>NaN</td>\n",
       "    </tr>\n",
       "    <tr>\n",
       "      <th>2</th>\n",
       "      <td>2024-04-19 01:47:00</td>\n",
       "      <td>0.3351</td>\n",
       "      <td>0.3353</td>\n",
       "      <td>0.3341</td>\n",
       "      <td>0.3341</td>\n",
       "      <td>269036.0</td>\n",
       "      <td>95</td>\n",
       "      <td>2024-04-19 03:01:00</td>\n",
       "      <td>0.3313</td>\n",
       "      <td>0.33470</td>\n",
       "      <td>NaN</td>\n",
       "      <td>NaN</td>\n",
       "      <td>0.33432</td>\n",
       "      <td>0.32923</td>\n",
       "      <td>NaN</td>\n",
       "    </tr>\n",
       "    <tr>\n",
       "      <th>3</th>\n",
       "      <td>2024-04-19 01:48:00</td>\n",
       "      <td>0.3341</td>\n",
       "      <td>0.3342</td>\n",
       "      <td>0.3333</td>\n",
       "      <td>0.3335</td>\n",
       "      <td>461506.6</td>\n",
       "      <td>89</td>\n",
       "      <td>2024-04-19 03:01:00</td>\n",
       "      <td>0.3313</td>\n",
       "      <td>0.33375</td>\n",
       "      <td>NaN</td>\n",
       "      <td>NaN</td>\n",
       "      <td>0.33432</td>\n",
       "      <td>0.32923</td>\n",
       "      <td>NaN</td>\n",
       "    </tr>\n",
       "    <tr>\n",
       "      <th>4</th>\n",
       "      <td>2024-04-19 01:49:00</td>\n",
       "      <td>0.3334</td>\n",
       "      <td>0.3337</td>\n",
       "      <td>0.3327</td>\n",
       "      <td>0.3330</td>\n",
       "      <td>360699.7</td>\n",
       "      <td>97</td>\n",
       "      <td>2024-04-19 03:01:00</td>\n",
       "      <td>0.3313</td>\n",
       "      <td>0.33320</td>\n",
       "      <td>0.33432</td>\n",
       "      <td>0.000808</td>\n",
       "      <td>0.33432</td>\n",
       "      <td>0.32923</td>\n",
       "      <td>NaN</td>\n",
       "    </tr>\n",
       "  </tbody>\n",
       "</table>\n",
       "</div>"
      ],
      "text/plain": [
       "                 Time    Open    High     Low   Close    Volume  \\\n",
       "0 2024-04-19 01:45:00  0.3349  0.3349  0.3348  0.3348   16792.6   \n",
       "1 2024-04-19 01:46:00  0.3349  0.3356  0.3346  0.3350  188066.7   \n",
       "2 2024-04-19 01:47:00  0.3351  0.3353  0.3341  0.3341  269036.0   \n",
       "3 2024-04-19 01:48:00  0.3341  0.3342  0.3333  0.3335  461506.6   \n",
       "4 2024-04-19 01:49:00  0.3334  0.3337  0.3327  0.3330  360699.7   \n",
       "\n",
       "   Number of trades          Time_alert  Price_alert  Av_price  Rolling_mean  \\\n",
       "0                 3 2024-04-19 03:01:00       0.3313   0.33485           NaN   \n",
       "1                89 2024-04-19 03:01:00       0.3313   0.33510           NaN   \n",
       "2                95 2024-04-19 03:01:00       0.3313   0.33470           NaN   \n",
       "3                89 2024-04-19 03:01:00       0.3313   0.33375           NaN   \n",
       "4                97 2024-04-19 03:01:00       0.3313   0.33320       0.33432   \n",
       "\n",
       "   Rolling_std  Start_rolling_mean  End_rolling_mean  RSI  \n",
       "0          NaN             0.33432           0.32923  NaN  \n",
       "1          NaN             0.33432           0.32923  NaN  \n",
       "2          NaN             0.33432           0.32923  NaN  \n",
       "3          NaN             0.33432           0.32923  NaN  \n",
       "4     0.000808             0.33432           0.32923  NaN  "
      ]
     },
     "execution_count": 22,
     "metadata": {},
     "output_type": "execute_result"
    }
   ],
   "source": [
    "df.head()"
   ]
  },
  {
   "cell_type": "code",
   "execution_count": 23,
   "metadata": {
    "colab": {
     "base_uri": "https://localhost:8080/",
     "height": 497
    },
    "id": "3Thwm56kRx0n",
    "outputId": "c83abd89-b449-49bf-f75f-6d7b4edcfb1d"
   },
   "outputs": [
    {
     "data": {
      "image/png": "[encoded data removed]",
      "text/plain": [
       "<Figure size 432x288 with 1 Axes>"
      ]
     },
     "metadata": {
      "needs_background": "light"
     },
     "output_type": "display_data"
    }
   ],
   "source": [
    "alert_time=df.loc[0,'Time_alert']\n",
    "alert_price=df.loc[0,'Price_alert']\n",
    "plt.plot(df['Time'], df['RSI'])\n",
    "plt.figsize=(20, 30)\n",
    "plt.xlabel('Time')\n",
    "plt.xticks(rotation=90)\n",
    "plt.legend('')\n",
    "plt.ylabel('Price')\n",
    "plt.scatter(alert_time, alert_price, color='orange', s=40, marker='o');"
   ]
  },
  {
   "cell_type": "markdown",
   "metadata": {
    "id": "PG07TXWTcxp9"
   },
   "source": [
    "## Определение направления движения. Абсолютное изменение цены"
   ]
  },
  {
   "cell_type": "code",
   "execution_count": 24,
   "metadata": {
    "id": "lly4enESpEZL"
   },
   "outputs": [],
   "source": [
    "df['Lag_price'] = df['Av_price'].shift(1)\n",
    "df['Diff_price'] = ((df['Av_price'] - df['Lag_price'])/df['Lag_price'])*100"
   ]
  },
  {
   "cell_type": "code",
   "execution_count": 25,
   "metadata": {
    "colab": {
     "base_uri": "https://localhost:8080/",
     "height": 469
    },
    "id": "kG4JTTfNm7p_",
    "outputId": "7212eb72-1bc8-4356-8e25-272f2741f042"
   },
   "outputs": [
    {
     "data": {
      "text/html": [
       "<div>\n",
       "<style scoped>\n",
       "    .dataframe tbody tr th:only-of-type {\n",
       "        vertical-align: middle;\n",
       "    }\n",
       "\n",
       "    .dataframe tbody tr th {\n",
       "        vertical-align: top;\n",
       "    }\n",
       "\n",
       "    .dataframe thead th {\n",
       "        text-align: right;\n",
       "    }\n",
       "</style>\n",
       "<table border=\"1\" class=\"dataframe\">\n",
       "  <thead>\n",
       "    <tr style=\"text-align: right;\">\n",
       "      <th></th>\n",
       "      <th>Time</th>\n",
       "      <th>Open</th>\n",
       "      <th>High</th>\n",
       "      <th>Low</th>\n",
       "      <th>Close</th>\n",
       "      <th>Volume</th>\n",
       "      <th>Number of trades</th>\n",
       "      <th>Time_alert</th>\n",
       "      <th>Price_alert</th>\n",
       "      <th>Av_price</th>\n",
       "      <th>Rolling_mean</th>\n",
       "      <th>Rolling_std</th>\n",
       "      <th>Start_rolling_mean</th>\n",
       "      <th>End_rolling_mean</th>\n",
       "      <th>RSI</th>\n",
       "      <th>Lag_price</th>\n",
       "      <th>Diff_price</th>\n",
       "    </tr>\n",
       "  </thead>\n",
       "  <tbody>\n",
       "    <tr>\n",
       "      <th>0</th>\n",
       "      <td>2024-04-19 01:45:00</td>\n",
       "      <td>0.3349</td>\n",
       "      <td>0.3349</td>\n",
       "      <td>0.3348</td>\n",
       "      <td>0.3348</td>\n",
       "      <td>16792.6</td>\n",
       "      <td>3</td>\n",
       "      <td>2024-04-19 03:01:00</td>\n",
       "      <td>0.3313</td>\n",
       "      <td>0.33485</td>\n",
       "      <td>NaN</td>\n",
       "      <td>NaN</td>\n",
       "      <td>0.33432</td>\n",
       "      <td>0.32923</td>\n",
       "      <td>NaN</td>\n",
       "      <td>NaN</td>\n",
       "      <td>NaN</td>\n",
       "    </tr>\n",
       "    <tr>\n",
       "      <th>1</th>\n",
       "      <td>2024-04-19 01:46:00</td>\n",
       "      <td>0.3349</td>\n",
       "      <td>0.3356</td>\n",
       "      <td>0.3346</td>\n",
       "      <td>0.3350</td>\n",
       "      <td>188066.7</td>\n",
       "      <td>89</td>\n",
       "      <td>2024-04-19 03:01:00</td>\n",
       "      <td>0.3313</td>\n",
       "      <td>0.33510</td>\n",
       "      <td>NaN</td>\n",
       "      <td>NaN</td>\n",
       "      <td>0.33432</td>\n",
       "      <td>0.32923</td>\n",
       "      <td>NaN</td>\n",
       "      <td>0.33485</td>\n",
       "      <td>0.074660</td>\n",
       "    </tr>\n",
       "    <tr>\n",
       "      <th>2</th>\n",
       "      <td>2024-04-19 01:47:00</td>\n",
       "      <td>0.3351</td>\n",
       "      <td>0.3353</td>\n",
       "      <td>0.3341</td>\n",
       "      <td>0.3341</td>\n",
       "      <td>269036.0</td>\n",
       "      <td>95</td>\n",
       "      <td>2024-04-19 03:01:00</td>\n",
       "      <td>0.3313</td>\n",
       "      <td>0.33470</td>\n",
       "      <td>NaN</td>\n",
       "      <td>NaN</td>\n",
       "      <td>0.33432</td>\n",
       "      <td>0.32923</td>\n",
       "      <td>NaN</td>\n",
       "      <td>0.33510</td>\n",
       "      <td>-0.119367</td>\n",
       "    </tr>\n",
       "    <tr>\n",
       "      <th>3</th>\n",
       "      <td>2024-04-19 01:48:00</td>\n",
       "      <td>0.3341</td>\n",
       "      <td>0.3342</td>\n",
       "      <td>0.3333</td>\n",
       "      <td>0.3335</td>\n",
       "      <td>461506.6</td>\n",
       "      <td>89</td>\n",
       "      <td>2024-04-19 03:01:00</td>\n",
       "      <td>0.3313</td>\n",
       "      <td>0.33375</td>\n",
       "      <td>NaN</td>\n",
       "      <td>NaN</td>\n",
       "      <td>0.33432</td>\n",
       "      <td>0.32923</td>\n",
       "      <td>NaN</td>\n",
       "      <td>0.33470</td>\n",
       "      <td>-0.283836</td>\n",
       "    </tr>\n",
       "    <tr>\n",
       "      <th>4</th>\n",
       "      <td>2024-04-19 01:49:00</td>\n",
       "      <td>0.3334</td>\n",
       "      <td>0.3337</td>\n",
       "      <td>0.3327</td>\n",
       "      <td>0.3330</td>\n",
       "      <td>360699.7</td>\n",
       "      <td>97</td>\n",
       "      <td>2024-04-19 03:01:00</td>\n",
       "      <td>0.3313</td>\n",
       "      <td>0.33320</td>\n",
       "      <td>0.33432</td>\n",
       "      <td>0.000808</td>\n",
       "      <td>0.33432</td>\n",
       "      <td>0.32923</td>\n",
       "      <td>NaN</td>\n",
       "      <td>0.33375</td>\n",
       "      <td>-0.164794</td>\n",
       "    </tr>\n",
       "  </tbody>\n",
       "</table>\n",
       "</div>"
      ],
      "text/plain": [
       "                 Time    Open    High     Low   Close    Volume  \\\n",
       "0 2024-04-19 01:45:00  0.3349  0.3349  0.3348  0.3348   16792.6   \n",
       "1 2024-04-19 01:46:00  0.3349  0.3356  0.3346  0.3350  188066.7   \n",
       "2 2024-04-19 01:47:00  0.3351  0.3353  0.3341  0.3341  269036.0   \n",
       "3 2024-04-19 01:48:00  0.3341  0.3342  0.3333  0.3335  461506.6   \n",
       "4 2024-04-19 01:49:00  0.3334  0.3337  0.3327  0.3330  360699.7   \n",
       "\n",
       "   Number of trades          Time_alert  Price_alert  Av_price  Rolling_mean  \\\n",
       "0                 3 2024-04-19 03:01:00       0.3313   0.33485           NaN   \n",
       "1                89 2024-04-19 03:01:00       0.3313   0.33510           NaN   \n",
       "2                95 2024-04-19 03:01:00       0.3313   0.33470           NaN   \n",
       "3                89 2024-04-19 03:01:00       0.3313   0.33375           NaN   \n",
       "4                97 2024-04-19 03:01:00       0.3313   0.33320       0.33432   \n",
       "\n",
       "   Rolling_std  Start_rolling_mean  End_rolling_mean  RSI  Lag_price  \\\n",
       "0          NaN             0.33432           0.32923  NaN        NaN   \n",
       "1          NaN             0.33432           0.32923  NaN    0.33485   \n",
       "2          NaN             0.33432           0.32923  NaN    0.33510   \n",
       "3          NaN             0.33432           0.32923  NaN    0.33470   \n",
       "4     0.000808             0.33432           0.32923  NaN    0.33375   \n",
       "\n",
       "   Diff_price  \n",
       "0         NaN  \n",
       "1    0.074660  \n",
       "2   -0.119367  \n",
       "3   -0.283836  \n",
       "4   -0.164794  "
      ]
     },
     "execution_count": 25,
     "metadata": {},
     "output_type": "execute_result"
    }
   ],
   "source": [
    "df.head()"
   ]
  },
  {
   "cell_type": "markdown",
   "metadata": {
    "id": "QxxerQkcp0hb"
   },
   "source": [
    "## Vortex"
   ]
  },
  {
   "cell_type": "code",
   "execution_count": 26,
   "metadata": {
    "id": "9Xbyu668pvaL"
   },
   "outputs": [],
   "source": [
    "vortex = ta.vortex(high=df['High'], low=df['Low'], close=df['Close'], window=5)"
   ]
  },
  {
   "cell_type": "code",
   "execution_count": 27,
   "metadata": {
    "colab": {
     "base_uri": "https://localhost:8080/",
     "height": 1000
    },
    "id": "VXFGQUJlqO0B",
    "outputId": "75dd66b4-34c1-4846-9a03-c0576756775a"
   },
   "outputs": [
    {
     "data": {
      "text/html": [
       "<div>\n",
       "<style scoped>\n",
       "    .dataframe tbody tr th:only-of-type {\n",
       "        vertical-align: middle;\n",
       "    }\n",
       "\n",
       "    .dataframe tbody tr th {\n",
       "        vertical-align: top;\n",
       "    }\n",
       "\n",
       "    .dataframe thead th {\n",
       "        text-align: right;\n",
       "    }\n",
       "</style>\n",
       "<table border=\"1\" class=\"dataframe\">\n",
       "  <thead>\n",
       "    <tr style=\"text-align: right;\">\n",
       "      <th></th>\n",
       "      <th>Time</th>\n",
       "      <th>Open</th>\n",
       "      <th>High</th>\n",
       "      <th>Low</th>\n",
       "      <th>Close</th>\n",
       "      <th>Volume</th>\n",
       "      <th>Number of trades</th>\n",
       "      <th>Time_alert</th>\n",
       "      <th>Price_alert</th>\n",
       "      <th>Av_price</th>\n",
       "      <th>Rolling_mean</th>\n",
       "      <th>Rolling_std</th>\n",
       "      <th>Start_rolling_mean</th>\n",
       "      <th>End_rolling_mean</th>\n",
       "      <th>RSI</th>\n",
       "      <th>Lag_price</th>\n",
       "      <th>Diff_price</th>\n",
       "      <th>VTXP_14</th>\n",
       "      <th>VTXM_14</th>\n",
       "    </tr>\n",
       "  </thead>\n",
       "  <tbody>\n",
       "    <tr>\n",
       "      <th>0</th>\n",
       "      <td>2024-04-19 01:45:00</td>\n",
       "      <td>0.3349</td>\n",
       "      <td>0.3349</td>\n",
       "      <td>0.3348</td>\n",
       "      <td>0.3348</td>\n",
       "      <td>16792.6</td>\n",
       "      <td>3</td>\n",
       "      <td>2024-04-19 03:01:00</td>\n",
       "      <td>0.3313</td>\n",
       "      <td>0.33485</td>\n",
       "      <td>NaN</td>\n",
       "      <td>NaN</td>\n",
       "      <td>0.33432</td>\n",
       "      <td>0.32923</td>\n",
       "      <td>NaN</td>\n",
       "      <td>NaN</td>\n",
       "      <td>NaN</td>\n",
       "      <td>NaN</td>\n",
       "      <td>NaN</td>\n",
       "    </tr>\n",
       "    <tr>\n",
       "      <th>1</th>\n",
       "      <td>2024-04-19 01:46:00</td>\n",
       "      <td>0.3349</td>\n",
       "      <td>0.3356</td>\n",
       "      <td>0.3346</td>\n",
       "      <td>0.3350</td>\n",
       "      <td>188066.7</td>\n",
       "      <td>89</td>\n",
       "      <td>2024-04-19 03:01:00</td>\n",
       "      <td>0.3313</td>\n",
       "      <td>0.33510</td>\n",
       "      <td>NaN</td>\n",
       "      <td>NaN</td>\n",
       "      <td>0.33432</td>\n",
       "      <td>0.32923</td>\n",
       "      <td>NaN</td>\n",
       "      <td>0.33485</td>\n",
       "      <td>0.074660</td>\n",
       "      <td>NaN</td>\n",
       "      <td>NaN</td>\n",
       "    </tr>\n",
       "    <tr>\n",
       "      <th>2</th>\n",
       "      <td>2024-04-19 01:47:00</td>\n",
       "      <td>0.3351</td>\n",
       "      <td>0.3353</td>\n",
       "      <td>0.3341</td>\n",
       "      <td>0.3341</td>\n",
       "      <td>269036.0</td>\n",
       "      <td>95</td>\n",
       "      <td>2024-04-19 03:01:00</td>\n",
       "      <td>0.3313</td>\n",
       "      <td>0.33470</td>\n",
       "      <td>NaN</td>\n",
       "      <td>NaN</td>\n",
       "      <td>0.33432</td>\n",
       "      <td>0.32923</td>\n",
       "      <td>NaN</td>\n",
       "      <td>0.33510</td>\n",
       "      <td>-0.119367</td>\n",
       "      <td>NaN</td>\n",
       "      <td>NaN</td>\n",
       "    </tr>\n",
       "    <tr>\n",
       "      <th>3</th>\n",
       "      <td>2024-04-19 01:48:00</td>\n",
       "      <td>0.3341</td>\n",
       "      <td>0.3342</td>\n",
       "      <td>0.3333</td>\n",
       "      <td>0.3335</td>\n",
       "      <td>461506.6</td>\n",
       "      <td>89</td>\n",
       "      <td>2024-04-19 03:01:00</td>\n",
       "      <td>0.3313</td>\n",
       "      <td>0.33375</td>\n",
       "      <td>NaN</td>\n",
       "      <td>NaN</td>\n",
       "      <td>0.33432</td>\n",
       "      <td>0.32923</td>\n",
       "      <td>NaN</td>\n",
       "      <td>0.33470</td>\n",
       "      <td>-0.283836</td>\n",
       "      <td>NaN</td>\n",
       "      <td>NaN</td>\n",
       "    </tr>\n",
       "    <tr>\n",
       "      <th>4</th>\n",
       "      <td>2024-04-19 01:49:00</td>\n",
       "      <td>0.3334</td>\n",
       "      <td>0.3337</td>\n",
       "      <td>0.3327</td>\n",
       "      <td>0.3330</td>\n",
       "      <td>360699.7</td>\n",
       "      <td>97</td>\n",
       "      <td>2024-04-19 03:01:00</td>\n",
       "      <td>0.3313</td>\n",
       "      <td>0.33320</td>\n",
       "      <td>0.33432</td>\n",
       "      <td>0.000808</td>\n",
       "      <td>0.33432</td>\n",
       "      <td>0.32923</td>\n",
       "      <td>NaN</td>\n",
       "      <td>0.33375</td>\n",
       "      <td>-0.164794</td>\n",
       "      <td>NaN</td>\n",
       "      <td>NaN</td>\n",
       "    </tr>\n",
       "    <tr>\n",
       "      <th>5</th>\n",
       "      <td>2024-04-19 01:50:00</td>\n",
       "      <td>0.3331</td>\n",
       "      <td>0.3337</td>\n",
       "      <td>0.3329</td>\n",
       "      <td>0.3333</td>\n",
       "      <td>269642.3</td>\n",
       "      <td>77</td>\n",
       "      <td>2024-04-19 03:01:00</td>\n",
       "      <td>0.3313</td>\n",
       "      <td>0.33330</td>\n",
       "      <td>0.33401</td>\n",
       "      <td>0.000850</td>\n",
       "      <td>0.33432</td>\n",
       "      <td>0.32923</td>\n",
       "      <td>23.477919</td>\n",
       "      <td>0.33320</td>\n",
       "      <td>0.030012</td>\n",
       "      <td>NaN</td>\n",
       "      <td>NaN</td>\n",
       "    </tr>\n",
       "    <tr>\n",
       "      <th>6</th>\n",
       "      <td>2024-04-19 01:51:00</td>\n",
       "      <td>0.3334</td>\n",
       "      <td>0.3347</td>\n",
       "      <td>0.3334</td>\n",
       "      <td>0.3342</td>\n",
       "      <td>193934.0</td>\n",
       "      <td>85</td>\n",
       "      <td>2024-04-19 03:01:00</td>\n",
       "      <td>0.3313</td>\n",
       "      <td>0.33405</td>\n",
       "      <td>0.33380</td>\n",
       "      <td>0.000609</td>\n",
       "      <td>0.33432</td>\n",
       "      <td>0.32923</td>\n",
       "      <td>54.762839</td>\n",
       "      <td>0.33330</td>\n",
       "      <td>0.225023</td>\n",
       "      <td>NaN</td>\n",
       "      <td>NaN</td>\n",
       "    </tr>\n",
       "    <tr>\n",
       "      <th>7</th>\n",
       "      <td>2024-04-19 01:52:00</td>\n",
       "      <td>0.3342</td>\n",
       "      <td>0.3345</td>\n",
       "      <td>0.3341</td>\n",
       "      <td>0.3341</td>\n",
       "      <td>172847.2</td>\n",
       "      <td>72</td>\n",
       "      <td>2024-04-19 03:01:00</td>\n",
       "      <td>0.3313</td>\n",
       "      <td>0.33430</td>\n",
       "      <td>0.33372</td>\n",
       "      <td>0.000472</td>\n",
       "      <td>0.33432</td>\n",
       "      <td>0.32923</td>\n",
       "      <td>51.820342</td>\n",
       "      <td>0.33405</td>\n",
       "      <td>0.074839</td>\n",
       "      <td>NaN</td>\n",
       "      <td>NaN</td>\n",
       "    </tr>\n",
       "    <tr>\n",
       "      <th>8</th>\n",
       "      <td>2024-04-19 01:53:00</td>\n",
       "      <td>0.3340</td>\n",
       "      <td>0.3344</td>\n",
       "      <td>0.3336</td>\n",
       "      <td>0.3338</td>\n",
       "      <td>205432.9</td>\n",
       "      <td>92</td>\n",
       "      <td>2024-04-19 03:01:00</td>\n",
       "      <td>0.3313</td>\n",
       "      <td>0.33400</td>\n",
       "      <td>0.33377</td>\n",
       "      <td>0.000489</td>\n",
       "      <td>0.33432</td>\n",
       "      <td>0.32923</td>\n",
       "      <td>43.129934</td>\n",
       "      <td>0.33430</td>\n",
       "      <td>-0.089740</td>\n",
       "      <td>NaN</td>\n",
       "      <td>NaN</td>\n",
       "    </tr>\n",
       "    <tr>\n",
       "      <th>9</th>\n",
       "      <td>2024-04-19 01:54:00</td>\n",
       "      <td>0.3339</td>\n",
       "      <td>0.3346</td>\n",
       "      <td>0.3323</td>\n",
       "      <td>0.3326</td>\n",
       "      <td>498037.1</td>\n",
       "      <td>145</td>\n",
       "      <td>2024-04-19 03:01:00</td>\n",
       "      <td>0.3313</td>\n",
       "      <td>0.33345</td>\n",
       "      <td>0.33382</td>\n",
       "      <td>0.000425</td>\n",
       "      <td>0.33432</td>\n",
       "      <td>0.32923</td>\n",
       "      <td>23.459138</td>\n",
       "      <td>0.33400</td>\n",
       "      <td>-0.164671</td>\n",
       "      <td>NaN</td>\n",
       "      <td>NaN</td>\n",
       "    </tr>\n",
       "    <tr>\n",
       "      <th>10</th>\n",
       "      <td>2024-04-19 01:55:00</td>\n",
       "      <td>0.3326</td>\n",
       "      <td>0.3333</td>\n",
       "      <td>0.3325</td>\n",
       "      <td>0.3331</td>\n",
       "      <td>213008.5</td>\n",
       "      <td>138</td>\n",
       "      <td>2024-04-19 03:01:00</td>\n",
       "      <td>0.3313</td>\n",
       "      <td>0.33290</td>\n",
       "      <td>0.33374</td>\n",
       "      <td>0.000563</td>\n",
       "      <td>0.33432</td>\n",
       "      <td>0.32923</td>\n",
       "      <td>38.150939</td>\n",
       "      <td>0.33345</td>\n",
       "      <td>-0.164942</td>\n",
       "      <td>NaN</td>\n",
       "      <td>NaN</td>\n",
       "    </tr>\n",
       "    <tr>\n",
       "      <th>11</th>\n",
       "      <td>2024-04-19 01:56:00</td>\n",
       "      <td>0.3331</td>\n",
       "      <td>0.3333</td>\n",
       "      <td>0.3328</td>\n",
       "      <td>0.3332</td>\n",
       "      <td>144959.7</td>\n",
       "      <td>116</td>\n",
       "      <td>2024-04-19 03:01:00</td>\n",
       "      <td>0.3313</td>\n",
       "      <td>0.33305</td>\n",
       "      <td>0.33354</td>\n",
       "      <td>0.000601</td>\n",
       "      <td>0.33432</td>\n",
       "      <td>0.32923</td>\n",
       "      <td>40.982976</td>\n",
       "      <td>0.33290</td>\n",
       "      <td>0.045059</td>\n",
       "      <td>NaN</td>\n",
       "      <td>NaN</td>\n",
       "    </tr>\n",
       "    <tr>\n",
       "      <th>12</th>\n",
       "      <td>2024-04-19 01:57:00</td>\n",
       "      <td>0.3332</td>\n",
       "      <td>0.3335</td>\n",
       "      <td>0.3329</td>\n",
       "      <td>0.3332</td>\n",
       "      <td>158570.5</td>\n",
       "      <td>88</td>\n",
       "      <td>2024-04-19 03:01:00</td>\n",
       "      <td>0.3313</td>\n",
       "      <td>0.33320</td>\n",
       "      <td>0.33332</td>\n",
       "      <td>0.000431</td>\n",
       "      <td>0.33432</td>\n",
       "      <td>0.32923</td>\n",
       "      <td>40.982976</td>\n",
       "      <td>0.33305</td>\n",
       "      <td>0.045038</td>\n",
       "      <td>NaN</td>\n",
       "      <td>NaN</td>\n",
       "    </tr>\n",
       "    <tr>\n",
       "      <th>13</th>\n",
       "      <td>2024-04-19 01:58:00</td>\n",
       "      <td>0.3332</td>\n",
       "      <td>0.3339</td>\n",
       "      <td>0.3332</td>\n",
       "      <td>0.3336</td>\n",
       "      <td>148032.3</td>\n",
       "      <td>72</td>\n",
       "      <td>2024-04-19 03:01:00</td>\n",
       "      <td>0.3313</td>\n",
       "      <td>0.33355</td>\n",
       "      <td>0.33323</td>\n",
       "      <td>0.000271</td>\n",
       "      <td>0.33432</td>\n",
       "      <td>0.32923</td>\n",
       "      <td>54.114647</td>\n",
       "      <td>0.33320</td>\n",
       "      <td>0.105042</td>\n",
       "      <td>NaN</td>\n",
       "      <td>NaN</td>\n",
       "    </tr>\n",
       "    <tr>\n",
       "      <th>14</th>\n",
       "      <td>2024-04-19 01:59:00</td>\n",
       "      <td>0.3336</td>\n",
       "      <td>0.3339</td>\n",
       "      <td>0.3329</td>\n",
       "      <td>0.3329</td>\n",
       "      <td>88534.7</td>\n",
       "      <td>52</td>\n",
       "      <td>2024-04-19 03:01:00</td>\n",
       "      <td>0.3313</td>\n",
       "      <td>0.33340</td>\n",
       "      <td>0.33322</td>\n",
       "      <td>0.000261</td>\n",
       "      <td>0.33432</td>\n",
       "      <td>0.32923</td>\n",
       "      <td>36.398364</td>\n",
       "      <td>0.33355</td>\n",
       "      <td>-0.044971</td>\n",
       "      <td>0.850746</td>\n",
       "      <td>1.067164</td>\n",
       "    </tr>\n",
       "    <tr>\n",
       "      <th>15</th>\n",
       "      <td>2024-04-19 02:00:00</td>\n",
       "      <td>0.3329</td>\n",
       "      <td>0.3334</td>\n",
       "      <td>0.3322</td>\n",
       "      <td>0.3322</td>\n",
       "      <td>358174.5</td>\n",
       "      <td>169</td>\n",
       "      <td>2024-04-19 03:01:00</td>\n",
       "      <td>0.3313</td>\n",
       "      <td>0.33280</td>\n",
       "      <td>0.33320</td>\n",
       "      <td>0.000294</td>\n",
       "      <td>0.33432</td>\n",
       "      <td>0.32923</td>\n",
       "      <td>25.828542</td>\n",
       "      <td>0.33340</td>\n",
       "      <td>-0.179964</td>\n",
       "      <td>0.816176</td>\n",
       "      <td>1.154412</td>\n",
       "    </tr>\n",
       "    <tr>\n",
       "      <th>16</th>\n",
       "      <td>2024-04-19 02:01:00</td>\n",
       "      <td>0.3323</td>\n",
       "      <td>0.3327</td>\n",
       "      <td>0.3314</td>\n",
       "      <td>0.3315</td>\n",
       "      <td>419224.6</td>\n",
       "      <td>171</td>\n",
       "      <td>2024-04-19 03:01:00</td>\n",
       "      <td>0.3313</td>\n",
       "      <td>0.33205</td>\n",
       "      <td>0.33300</td>\n",
       "      <td>0.000601</td>\n",
       "      <td>0.33432</td>\n",
       "      <td>0.32923</td>\n",
       "      <td>18.949899</td>\n",
       "      <td>0.33280</td>\n",
       "      <td>-0.225361</td>\n",
       "      <td>0.795620</td>\n",
       "      <td>1.182482</td>\n",
       "    </tr>\n",
       "    <tr>\n",
       "      <th>17</th>\n",
       "      <td>2024-04-19 02:02:00</td>\n",
       "      <td>0.3314</td>\n",
       "      <td>0.3318</td>\n",
       "      <td>0.3308</td>\n",
       "      <td>0.3308</td>\n",
       "      <td>270903.0</td>\n",
       "      <td>133</td>\n",
       "      <td>2024-04-19 03:01:00</td>\n",
       "      <td>0.3313</td>\n",
       "      <td>0.33130</td>\n",
       "      <td>0.33262</td>\n",
       "      <td>0.000945</td>\n",
       "      <td>0.33432</td>\n",
       "      <td>0.32923</td>\n",
       "      <td>14.217053</td>\n",
       "      <td>0.33205</td>\n",
       "      <td>-0.225870</td>\n",
       "      <td>0.811594</td>\n",
       "      <td>1.166667</td>\n",
       "    </tr>\n",
       "    <tr>\n",
       "      <th>18</th>\n",
       "      <td>2024-04-19 02:03:00</td>\n",
       "      <td>0.3308</td>\n",
       "      <td>0.3314</td>\n",
       "      <td>0.3307</td>\n",
       "      <td>0.3312</td>\n",
       "      <td>298454.0</td>\n",
       "      <td>110</td>\n",
       "      <td>2024-04-19 03:01:00</td>\n",
       "      <td>0.3313</td>\n",
       "      <td>0.33105</td>\n",
       "      <td>0.33212</td>\n",
       "      <td>0.000990</td>\n",
       "      <td>0.33432</td>\n",
       "      <td>0.32923</td>\n",
       "      <td>27.203694</td>\n",
       "      <td>0.33130</td>\n",
       "      <td>-0.075460</td>\n",
       "      <td>0.844444</td>\n",
       "      <td>1.162963</td>\n",
       "    </tr>\n",
       "    <tr>\n",
       "      <th>19</th>\n",
       "      <td>2024-04-19 02:04:00</td>\n",
       "      <td>0.3312</td>\n",
       "      <td>0.3315</td>\n",
       "      <td>0.3308</td>\n",
       "      <td>0.3310</td>\n",
       "      <td>275492.9</td>\n",
       "      <td>94</td>\n",
       "      <td>2024-04-19 03:01:00</td>\n",
       "      <td>0.3313</td>\n",
       "      <td>0.33115</td>\n",
       "      <td>0.33167</td>\n",
       "      <td>0.000744</td>\n",
       "      <td>0.33432</td>\n",
       "      <td>0.32923</td>\n",
       "      <td>24.852215</td>\n",
       "      <td>0.33105</td>\n",
       "      <td>0.030207</td>\n",
       "      <td>0.835821</td>\n",
       "      <td>1.156716</td>\n",
       "    </tr>\n",
       "  </tbody>\n",
       "</table>\n",
       "</div>"
      ],
      "text/plain": [
       "                  Time    Open    High     Low   Close    Volume  \\\n",
       "0  2024-04-19 01:45:00  0.3349  0.3349  0.3348  0.3348   16792.6   \n",
       "1  2024-04-19 01:46:00  0.3349  0.3356  0.3346  0.3350  188066.7   \n",
       "2  2024-04-19 01:47:00  0.3351  0.3353  0.3341  0.3341  269036.0   \n",
       "3  2024-04-19 01:48:00  0.3341  0.3342  0.3333  0.3335  461506.6   \n",
       "4  2024-04-19 01:49:00  0.3334  0.3337  0.3327  0.3330  360699.7   \n",
       "5  2024-04-19 01:50:00  0.3331  0.3337  0.3329  0.3333  269642.3   \n",
       "6  2024-04-19 01:51:00  0.3334  0.3347  0.3334  0.3342  193934.0   \n",
       "7  2024-04-19 01:52:00  0.3342  0.3345  0.3341  0.3341  172847.2   \n",
       "8  2024-04-19 01:53:00  0.3340  0.3344  0.3336  0.3338  205432.9   \n",
       "9  2024-04-19 01:54:00  0.3339  0.3346  0.3323  0.3326  498037.1   \n",
       "10 2024-04-19 01:55:00  0.3326  0.3333  0.3325  0.3331  213008.5   \n",
       "11 2024-04-19 01:56:00  0.3331  0.3333  0.3328  0.3332  144959.7   \n",
       "12 2024-04-19 01:57:00  0.3332  0.3335  0.3329  0.3332  158570.5   \n",
       "13 2024-04-19 01:58:00  0.3332  0.3339  0.3332  0.3336  148032.3   \n",
       "14 2024-04-19 01:59:00  0.3336  0.3339  0.3329  0.3329   88534.7   \n",
       "15 2024-04-19 02:00:00  0.3329  0.3334  0.3322  0.3322  358174.5   \n",
       "16 2024-04-19 02:01:00  0.3323  0.3327  0.3314  0.3315  419224.6   \n",
       "17 2024-04-19 02:02:00  0.3314  0.3318  0.3308  0.3308  270903.0   \n",
       "18 2024-04-19 02:03:00  0.3308  0.3314  0.3307  0.3312  298454.0   \n",
       "19 2024-04-19 02:04:00  0.3312  0.3315  0.3308  0.3310  275492.9   \n",
       "\n",
       "    Number of trades          Time_alert  Price_alert  Av_price  Rolling_mean  \\\n",
       "0                  3 2024-04-19 03:01:00       0.3313   0.33485           NaN   \n",
       "1                 89 2024-04-19 03:01:00       0.3313   0.33510           NaN   \n",
       "2                 95 2024-04-19 03:01:00       0.3313   0.33470           NaN   \n",
       "3                 89 2024-04-19 03:01:00       0.3313   0.33375           NaN   \n",
       "4                 97 2024-04-19 03:01:00       0.3313   0.33320       0.33432   \n",
       "5                 77 2024-04-19 03:01:00       0.3313   0.33330       0.33401   \n",
       "6                 85 2024-04-19 03:01:00       0.3313   0.33405       0.33380   \n",
       "7                 72 2024-04-19 03:01:00       0.3313   0.33430       0.33372   \n",
       "8                 92 2024-04-19 03:01:00       0.3313   0.33400       0.33377   \n",
       "9                145 2024-04-19 03:01:00       0.3313   0.33345       0.33382   \n",
       "10               138 2024-04-19 03:01:00       0.3313   0.33290       0.33374   \n",
       "11               116 2024-04-19 03:01:00       0.3313   0.33305       0.33354   \n",
       "12                88 2024-04-19 03:01:00       0.3313   0.33320       0.33332   \n",
       "13                72 2024-04-19 03:01:00       0.3313   0.33355       0.33323   \n",
       "14                52 2024-04-19 03:01:00       0.3313   0.33340       0.33322   \n",
       "15               169 2024-04-19 03:01:00       0.3313   0.33280       0.33320   \n",
       "16               171 2024-04-19 03:01:00       0.3313   0.33205       0.33300   \n",
       "17               133 2024-04-19 03:01:00       0.3313   0.33130       0.33262   \n",
       "18               110 2024-04-19 03:01:00       0.3313   0.33105       0.33212   \n",
       "19                94 2024-04-19 03:01:00       0.3313   0.33115       0.33167   \n",
       "\n",
       "    Rolling_std  Start_rolling_mean  End_rolling_mean        RSI  Lag_price  \\\n",
       "0           NaN             0.33432           0.32923        NaN        NaN   \n",
       "1           NaN             0.33432           0.32923        NaN    0.33485   \n",
       "2           NaN             0.33432           0.32923        NaN    0.33510   \n",
       "3           NaN             0.33432           0.32923        NaN    0.33470   \n",
       "4      0.000808             0.33432           0.32923        NaN    0.33375   \n",
       "5      0.000850             0.33432           0.32923  23.477919    0.33320   \n",
       "6      0.000609             0.33432           0.32923  54.762839    0.33330   \n",
       "7      0.000472             0.33432           0.32923  51.820342    0.33405   \n",
       "8      0.000489             0.33432           0.32923  43.129934    0.33430   \n",
       "9      0.000425             0.33432           0.32923  23.459138    0.33400   \n",
       "10     0.000563             0.33432           0.32923  38.150939    0.33345   \n",
       "11     0.000601             0.33432           0.32923  40.982976    0.33290   \n",
       "12     0.000431             0.33432           0.32923  40.982976    0.33305   \n",
       "13     0.000271             0.33432           0.32923  54.114647    0.33320   \n",
       "14     0.000261             0.33432           0.32923  36.398364    0.33355   \n",
       "15     0.000294             0.33432           0.32923  25.828542    0.33340   \n",
       "16     0.000601             0.33432           0.32923  18.949899    0.33280   \n",
       "17     0.000945             0.33432           0.32923  14.217053    0.33205   \n",
       "18     0.000990             0.33432           0.32923  27.203694    0.33130   \n",
       "19     0.000744             0.33432           0.32923  24.852215    0.33105   \n",
       "\n",
       "    Diff_price   VTXP_14   VTXM_14  \n",
       "0          NaN       NaN       NaN  \n",
       "1     0.074660       NaN       NaN  \n",
       "2    -0.119367       NaN       NaN  \n",
       "3    -0.283836       NaN       NaN  \n",
       "4    -0.164794       NaN       NaN  \n",
       "5     0.030012       NaN       NaN  \n",
       "6     0.225023       NaN       NaN  \n",
       "7     0.074839       NaN       NaN  \n",
       "8    -0.089740       NaN       NaN  \n",
       "9    -0.164671       NaN       NaN  \n",
       "10   -0.164942       NaN       NaN  \n",
       "11    0.045059       NaN       NaN  \n",
       "12    0.045038       NaN       NaN  \n",
       "13    0.105042       NaN       NaN  \n",
       "14   -0.044971  0.850746  1.067164  \n",
       "15   -0.179964  0.816176  1.154412  \n",
       "16   -0.225361  0.795620  1.182482  \n",
       "17   -0.225870  0.811594  1.166667  \n",
       "18   -0.075460  0.844444  1.162963  \n",
       "19    0.030207  0.835821  1.156716  "
      ]
     },
     "execution_count": 27,
     "metadata": {},
     "output_type": "execute_result"
    }
   ],
   "source": [
    "df = pd.concat([df, vortex], axis=1)\n",
    "df.head(20)"
   ]
  },
  {
   "cell_type": "markdown",
   "metadata": {
    "id": "Nw4bCor2jpO3"
   },
   "source": [
    "## Интервалы 10 минут"
   ]
  },
  {
   "cell_type": "code",
   "execution_count": 28,
   "metadata": {
    "colab": {
     "base_uri": "https://localhost:8080/"
    },
    "id": "Bweu6jbL1n9y",
    "outputId": "a3222e4a-ed3b-4664-9ec1-74027521f975"
   },
   "outputs": [
    {
     "data": {
      "text/plain": [
       "Timestamp('2024-04-19 03:01:00')"
      ]
     },
     "execution_count": 28,
     "metadata": {},
     "output_type": "execute_result"
    }
   ],
   "source": [
    "#точка алерт\n",
    "time_alert=df.loc[0,'Time_alert']\n",
    "time_alert"
   ]
  },
  {
   "cell_type": "code",
   "execution_count": 29,
   "metadata": {
    "colab": {
     "base_uri": "https://localhost:8080/"
    },
    "id": "P1-9SkInsDmv",
    "outputId": "3229873c-0db9-41c6-e8ae-b0db56064d43"
   },
   "outputs": [
    {
     "data": {
      "text/plain": [
       "8"
      ]
     },
     "execution_count": 29,
     "metadata": {},
     "output_type": "execute_result"
    }
   ],
   "source": [
    "x=10 #интервал в минутах\n",
    "c=math.ceil(df.loc[df['Time'].between(time_alert-pd.Timedelta(minutes=300), time_alert-pd.Timedelta(minutes=1))].shape[0]/x)\n",
    "c"
   ]
  },
  {
   "cell_type": "code",
   "execution_count": 30,
   "metadata": {
    "colab": {
     "base_uri": "https://localhost:8080/"
    },
    "id": "gU2uh2KKurME",
    "outputId": "90b65a25-6454-462d-96a8-ba92f263c9d5"
   },
   "outputs": [
    {
     "name": "stdout",
     "output_type": "stream",
     "text": [
      "0.01522865324176571\n",
      "0.027366720422396053\n",
      "-0.08924373076133485\n",
      "0.01967626556762669\n",
      "-0.008969274253398583\n",
      "-0.04205636493603766\n",
      "-0.014928698610828873\n",
      "-0.09266506627012217\n",
      "nan\n"
     ]
    },
    {
     "name": "stderr",
     "output_type": "stream",
     "text": [
      "/tmp/ipykernel_84/4225532489.py:4: RuntimeWarning: invalid value encountered in double_scalars\n",
      "  price_change = df.loc[df['Time'].between(time_alert-pd.Timedelta(minutes=((i+1)*x)), time_alert-pd.Timedelta(minutes=1)-pd.Timedelta(minutes=(i*x)))]['Diff_price'].sum()/df.loc[df['Time'].between(time_alert-pd.Timedelta(minutes=((i+1)*x)), time_alert-pd.Timedelta(minutes=1)-pd.Timedelta(minutes=(i*x)))]['Diff_price'].count()\n"
     ]
    }
   ],
   "source": [
    "# до точки alert\n",
    "for i in range(0, c+1):\n",
    "\n",
    "  price_change = df.loc[df['Time'].between(time_alert-pd.Timedelta(minutes=((i+1)*x)), time_alert-pd.Timedelta(minutes=1)-pd.Timedelta(minutes=(i*x)))]['Diff_price'].sum()/df.loc[df['Time'].between(time_alert-pd.Timedelta(minutes=((i+1)*x)), time_alert-pd.Timedelta(minutes=1)-pd.Timedelta(minutes=(i*x)))]['Diff_price'].count()\n",
    "\n",
    "  if price_change>0.1:\n",
    "    df.loc[df['Time'].between(time_alert-pd.Timedelta(minutes=((i+1)*x)), time_alert-pd.Timedelta(minutes=1)-pd.Timedelta(minutes=(i*x))), 'Up_down']=2\n",
    "    df.loc[df['Time'].between(time_alert-pd.Timedelta(minutes=((i+1)*x)), time_alert-pd.Timedelta(minutes=1)-pd.Timedelta(minutes=(i*x))), 'Price_ch']=price_change\n",
    "\n",
    "  elif price_change<-0.1:\n",
    "    df.loc[df['Time'].between(time_alert-pd.Timedelta(minutes=((i+1)*x)), time_alert-pd.Timedelta(minutes=1)-pd.Timedelta(minutes=(i*x))), 'Up_down']=-2\n",
    "    df.loc[df['Time'].between(time_alert-pd.Timedelta(minutes=((i+1)*x)), time_alert-pd.Timedelta(minutes=1)-pd.Timedelta(minutes=(i*x))), 'Price_ch']=price_change\n",
    "\n",
    "  elif 0.02 <= price_change<=0.1:\n",
    "    df.loc[df['Time'].between(time_alert-pd.Timedelta(minutes=((i+1)*x)), time_alert-pd.Timedelta(minutes=1)-pd.Timedelta(minutes=(i*x))), 'Up_down']=1\n",
    "    df.loc[df['Time'].between(time_alert-pd.Timedelta(minutes=((i+1)*x)), time_alert-pd.Timedelta(minutes=1)-pd.Timedelta(minutes=(i*x))), 'Price_ch']=price_change\n",
    "\n",
    "  elif -0.1 <= price_change<=-0.02:\n",
    "    df.loc[df['Time'].between(time_alert-pd.Timedelta(minutes=((i+1)*x)), time_alert-pd.Timedelta(minutes=1)-pd.Timedelta(minutes=(i*x))), 'Up_down']=-1\n",
    "    df.loc[df['Time'].between(time_alert-pd.Timedelta(minutes=((i+1)*x)), time_alert-pd.Timedelta(minutes=1)-pd.Timedelta(minutes=(i*x))), 'Price_ch']=price_change\n",
    "\n",
    "  else:\n",
    "    df.loc[df['Time'].between(time_alert-pd.Timedelta(minutes=((i+1)*x)), time_alert-pd.Timedelta(minutes=1)-pd.Timedelta(minutes=(i*x))), 'Up_down']=0\n",
    "    df.loc[df['Time'].between(time_alert-pd.Timedelta(minutes=((i+1)*x)), time_alert-pd.Timedelta(minutes=1)-pd.Timedelta(minutes=(i*x))), 'Price_ch']=price_change\n",
    "\n",
    "  print(price_change)"
   ]
  },
  {
   "cell_type": "code",
   "execution_count": 31,
   "metadata": {
    "colab": {
     "base_uri": "https://localhost:8080/"
    },
    "id": "Kq3UCVmZvKGD",
    "outputId": "b24c43d3-a1fa-4aca-b3f2-ddc2b44bef53"
   },
   "outputs": [
    {
     "name": "stdout",
     "output_type": "stream",
     "text": [
      "0.0260986581851389\n",
      "-0.4867099459590247\n",
      "-0.1743599355668004\n",
      "-0.028896554684736953\n",
      "-0.06390251527062629\n",
      "-0.31293716170655383\n",
      "-0.2773266022827062\n",
      "nan\n",
      "nan\n"
     ]
    }
   ],
   "source": [
    "#Vortex\n",
    "\n",
    "for i in range(0, c+1):\n",
    "\n",
    "  vortex_change = df.loc[df['Time'].between(time_alert-pd.Timedelta(minutes=((i+1)*x)), time_alert-pd.Timedelta(minutes=1)-pd.Timedelta(minutes=(i*x)))]['VTXP_14'].mean() - df.loc[df['Time'].between(time_alert-pd.Timedelta(minutes=((i+1)*x)), time_alert-pd.Timedelta(minutes=1)-pd.Timedelta(minutes=(i*x)))]['VTXM_14'].mean()\n",
    "\n",
    "  if vortex_change>0.45:\n",
    "    df.loc[df['Time'].between(time_alert-pd.Timedelta(minutes=((i+1)*x)), time_alert-pd.Timedelta(minutes=1)-pd.Timedelta(minutes=(i*x))), 'Up_down_vortex']=2\n",
    "    df.loc[df['Time'].between(time_alert-pd.Timedelta(minutes=((i+1)*x)), time_alert-pd.Timedelta(minutes=1)-pd.Timedelta(minutes=(i*x))), 'Vortex_ch']=vortex_change\n",
    "\n",
    "  elif vortex_change<-0.45:\n",
    "    df.loc[df['Time'].between(time_alert-pd.Timedelta(minutes=((i+1)*x)), time_alert-pd.Timedelta(minutes=1)-pd.Timedelta(minutes=(i*x))), 'Up_down_vortex']=-2\n",
    "    df.loc[df['Time'].between(time_alert-pd.Timedelta(minutes=((i+1)*x)), time_alert-pd.Timedelta(minutes=1)-pd.Timedelta(minutes=(i*x))), 'Vortex_ch']=vortex_change\n",
    "\n",
    "  elif 0.2 <= vortex_change<=0.45:\n",
    "    df.loc[df['Time'].between(time_alert-pd.Timedelta(minutes=((i+1)*x)), time_alert-pd.Timedelta(minutes=1)-pd.Timedelta(minutes=(i*x))), 'Up_down_vortex']=1\n",
    "    df.loc[df['Time'].between(time_alert-pd.Timedelta(minutes=((i+1)*x)), time_alert-pd.Timedelta(minutes=1)-pd.Timedelta(minutes=(i*x))), 'Vortex_ch']=vortex_change\n",
    "\n",
    "  elif -0.45 <= vortex_change<=-0.2:\n",
    "    df.loc[df['Time'].between(time_alert-pd.Timedelta(minutes=((i+1)*x)), time_alert-pd.Timedelta(minutes=1)-pd.Timedelta(minutes=(i*x))), 'Up_down_vortex']=-1\n",
    "    df.loc[df['Time'].between(time_alert-pd.Timedelta(minutes=((i+1)*x)), time_alert-pd.Timedelta(minutes=1)-pd.Timedelta(minutes=(i*x))), 'Vortex_ch']=vortex_change\n",
    "\n",
    "  else:\n",
    "    df.loc[df['Time'].between(time_alert-pd.Timedelta(minutes=((i+1)*x)), time_alert-pd.Timedelta(minutes=1)-pd.Timedelta(minutes=(i*x))), 'Up_down_vortex']=0\n",
    "    df.loc[df['Time'].between(time_alert-pd.Timedelta(minutes=((i+1)*x)), time_alert-pd.Timedelta(minutes=1)-pd.Timedelta(minutes=(i*x))), 'Vortex_ch']=vortex_change\n",
    "\n",
    "  print(vortex_change)"
   ]
  },
  {
   "cell_type": "markdown",
   "metadata": {
    "id": "ve7ybWqnQdhy"
   },
   "source": [
    "После точки alert"
   ]
  },
  {
   "cell_type": "code",
   "execution_count": 32,
   "metadata": {
    "colab": {
     "base_uri": "https://localhost:8080/"
    },
    "id": "1QNasYJEQYzt",
    "outputId": "8e5c0754-c355-4946-c2be-3ff5344bc5dc"
   },
   "outputs": [
    {
     "data": {
      "text/plain": [
       "18"
      ]
     },
     "execution_count": 32,
     "metadata": {},
     "output_type": "execute_result"
    }
   ],
   "source": [
    "c_after=math.ceil(df.loc[df['Time'].between(time_alert, time_alert+pd.Timedelta(minutes=300))].shape[0]/x)\n",
    "c_after"
   ]
  },
  {
   "cell_type": "code",
   "execution_count": 33,
   "metadata": {
    "colab": {
     "base_uri": "https://localhost:8080/"
    },
    "id": "9H6MSRcTQX7O",
    "outputId": "12a96371-b441-4f10-a6d5-a2ef07e2ec55"
   },
   "outputs": [
    {
     "name": "stdout",
     "output_type": "stream",
     "text": [
      "0.43904914763306685\n",
      "0.3129818079987296\n",
      "0.31750235670121796\n",
      "0.07567076846572225\n",
      "-0.020092600462679425\n",
      "0.04351679389320668\n",
      "-0.10857159543597888\n",
      "0.02266244859184581\n",
      "-0.055496969642952365\n",
      "-0.1518716746251406\n",
      "0.029171294956919325\n",
      "-0.12233561952632989\n",
      "-0.3138035679176634\n",
      "-0.09213296074495009\n",
      "0.10067840481728975\n",
      "0.17229986652960017\n",
      "0.10011036675886537\n",
      "0.3187652592328697\n",
      "nan\n"
     ]
    },
    {
     "name": "stderr",
     "output_type": "stream",
     "text": [
      "/tmp/ipykernel_84/542566709.py:3: RuntimeWarning: invalid value encountered in double_scalars\n",
      "  price_change = df.loc[df['Time'].between(time_alert+pd.Timedelta(minutes=(i*x)), time_alert+pd.Timedelta(minutes=((i+1)*x)))]['Diff_price'].sum()/df.loc[df['Time'].between(time_alert+pd.Timedelta(minutes=(i*x)), time_alert+pd.Timedelta(minutes=((i+1)*x)))]['Diff_price'].count()\n"
     ]
    }
   ],
   "source": [
    "for i in range(0, c_after+1):\n",
    "\n",
    "  price_change = df.loc[df['Time'].between(time_alert+pd.Timedelta(minutes=(i*x)), time_alert+pd.Timedelta(minutes=((i+1)*x)))]['Diff_price'].sum()/df.loc[df['Time'].between(time_alert+pd.Timedelta(minutes=(i*x)), time_alert+pd.Timedelta(minutes=((i+1)*x)))]['Diff_price'].count()\n",
    "\n",
    "  if price_change>0.1:\n",
    "    df.loc[df['Time'].between(time_alert+pd.Timedelta(minutes=(i*x)), time_alert+pd.Timedelta(minutes=((i+1)*x))), 'Up_down']=2\n",
    "    df.loc[df['Time'].between(time_alert+pd.Timedelta(minutes=(i*x)), time_alert+pd.Timedelta(minutes=((i+1)*x))), 'Price_ch']=price_change\n",
    "\n",
    "  elif price_change<-0.1:\n",
    "    df.loc[df['Time'].between(time_alert+pd.Timedelta(minutes=(i*x)), time_alert+pd.Timedelta(minutes=((i+1)*x))), 'Up_down']=-2\n",
    "    df.loc[df['Time'].between(time_alert+pd.Timedelta(minutes=(i*x)), time_alert+pd.Timedelta(minutes=((i+1)*x))), 'Price_ch']=price_change\n",
    "\n",
    "  elif 0.02 <= price_change<=0.1:\n",
    "    df.loc[df['Time'].between(time_alert+pd.Timedelta(minutes=(i*x)), time_alert+pd.Timedelta(minutes=((i+1)*x))), 'Up_down']=1\n",
    "    df.loc[df['Time'].between(time_alert+pd.Timedelta(minutes=(i*x)), time_alert+pd.Timedelta(minutes=((i+1)*x))), 'Price_ch']=price_change\n",
    "\n",
    "  elif -0.1 <= price_change<=-0.02:\n",
    "    df.loc[df['Time'].between(time_alert+pd.Timedelta(minutes=(i*x)), time_alert+pd.Timedelta(minutes=((i+1)*x))), 'Up_down']=-1\n",
    "    df.loc[df['Time'].between(time_alert+pd.Timedelta(minutes=(i*x)), time_alert+pd.Timedelta(minutes=((i+1)*x))), 'Price_ch']=price_change\n",
    "\n",
    "  else:\n",
    "    df.loc[df['Time'].between(time_alert+pd.Timedelta(minutes=(i*x)), time_alert+pd.Timedelta(minutes=((i+1)*x))), 'Up_down']=0\n",
    "    df.loc[df['Time'].between(time_alert+pd.Timedelta(minutes=(i*x)), time_alert+pd.Timedelta(minutes=((i+1)*x))), 'Price_ch']=price_change\n",
    "\n",
    "  print(price_change)"
   ]
  },
  {
   "cell_type": "code",
   "execution_count": 34,
   "metadata": {
    "colab": {
     "base_uri": "https://localhost:8080/"
    },
    "id": "-sFuRgfewNvX",
    "outputId": "746b959b-ade7-4f94-a837-2c14adbc16cc"
   },
   "outputs": [
    {
     "name": "stdout",
     "output_type": "stream",
     "text": [
      "0.6320639779500412\n",
      "0.75625638921168\n",
      "0.6768254213394829\n",
      "0.35371508420747133\n",
      "-0.009002516725820309\n",
      "-0.02739250152914907\n",
      "-0.0898991650265063\n",
      "-0.24641875122655532\n",
      "-0.21835324821962998\n",
      "-0.28354030493105287\n",
      "-0.32468216257908766\n",
      "-0.051136244283414456\n",
      "-0.5284528301688196\n",
      "-0.43995580196120254\n",
      "-0.063018632362692\n",
      "0.27940576247546733\n",
      "0.24780126425551818\n",
      "0.3734473476125285\n",
      "nan\n"
     ]
    }
   ],
   "source": [
    "#Vortex\n",
    "\n",
    "for i in range(0, c_after+1):\n",
    "\n",
    "  vortex_change = df.loc[df['Time'].between(time_alert+pd.Timedelta(minutes=(i*x)), time_alert+pd.Timedelta(minutes=((i+1)*x)))]['VTXP_14'].mean() - df.loc[df['Time'].between(time_alert+pd.Timedelta(minutes=(i*x)), time_alert+pd.Timedelta(minutes=((i+1)*x)))]['VTXM_14'].mean()\n",
    "\n",
    "  if vortex_change>0.45:\n",
    "    df.loc[df['Time'].between(time_alert+pd.Timedelta(minutes=(i*x)), time_alert+pd.Timedelta(minutes=((i+1)*x))), 'Up_down_vortex']=2\n",
    "    df.loc[df['Time'].between(time_alert+pd.Timedelta(minutes=(i*x)), time_alert+pd.Timedelta(minutes=((i+1)*x))), 'Vortex_ch']=vortex_change\n",
    "\n",
    "  elif vortex_change<-0.45:\n",
    "    df.loc[df['Time'].between(time_alert+pd.Timedelta(minutes=(i*x)), time_alert+pd.Timedelta(minutes=((i+1)*x))), 'Up_down_vortex']=-2\n",
    "    df.loc[df['Time'].between(time_alert+pd.Timedelta(minutes=(i*x)), time_alert+pd.Timedelta(minutes=((i+1)*x))), 'Vortex_ch']=vortex_change\n",
    "\n",
    "  elif 0.2 <= vortex_change<=0.45:\n",
    "    df.loc[df['Time'].between(time_alert+pd.Timedelta(minutes=(i*x)), time_alert+pd.Timedelta(minutes=((i+1)*x))), 'Up_down_vortex']=1\n",
    "    df.loc[df['Time'].between(time_alert+pd.Timedelta(minutes=(i*x)), time_alert+pd.Timedelta(minutes=((i+1)*x))), 'Vortex_ch']=vortex_change\n",
    "\n",
    "  elif -0.45 <= vortex_change<=-0.2:\n",
    "    df.loc[df['Time'].between(time_alert+pd.Timedelta(minutes=(i*x)), time_alert+pd.Timedelta(minutes=((i+1)*x))), 'Up_down_vortex']=-1\n",
    "    df.loc[df['Time'].between(time_alert+pd.Timedelta(minutes=(i*x)), time_alert+pd.Timedelta(minutes=((i+1)*x))), 'Vortex_ch']=vortex_change\n",
    "\n",
    "  else:\n",
    "    df.loc[df['Time'].between(time_alert+pd.Timedelta(minutes=(i*x)), time_alert+pd.Timedelta(minutes=((i+1)*x))), 'Up_down_vortex']=0\n",
    "    df.loc[df['Time'].between(time_alert+pd.Timedelta(minutes=(i*x)), time_alert+pd.Timedelta(minutes=((i+1)*x))), 'Vortex_ch']=vortex_change\n",
    "\n",
    "  print(vortex_change)"
   ]
  },
  {
   "cell_type": "code",
   "execution_count": 35,
   "metadata": {
    "colab": {
     "base_uri": "https://localhost:8080/",
     "height": 499
    },
    "id": "I0NZoljP3CX_",
    "outputId": "08c3e0c5-a797-4781-d25a-30af7247eb1d"
   },
   "outputs": [
    {
     "data": {
      "text/html": [
       "<div>\n",
       "<style scoped>\n",
       "    .dataframe tbody tr th:only-of-type {\n",
       "        vertical-align: middle;\n",
       "    }\n",
       "\n",
       "    .dataframe tbody tr th {\n",
       "        vertical-align: top;\n",
       "    }\n",
       "\n",
       "    .dataframe thead th {\n",
       "        text-align: right;\n",
       "    }\n",
       "</style>\n",
       "<table border=\"1\" class=\"dataframe\">\n",
       "  <thead>\n",
       "    <tr style=\"text-align: right;\">\n",
       "      <th></th>\n",
       "      <th>Time</th>\n",
       "      <th>Open</th>\n",
       "      <th>High</th>\n",
       "      <th>Low</th>\n",
       "      <th>Close</th>\n",
       "      <th>Volume</th>\n",
       "      <th>Number of trades</th>\n",
       "      <th>Time_alert</th>\n",
       "      <th>Price_alert</th>\n",
       "      <th>Av_price</th>\n",
       "      <th>...</th>\n",
       "      <th>End_rolling_mean</th>\n",
       "      <th>RSI</th>\n",
       "      <th>Lag_price</th>\n",
       "      <th>Diff_price</th>\n",
       "      <th>VTXP_14</th>\n",
       "      <th>VTXM_14</th>\n",
       "      <th>Up_down</th>\n",
       "      <th>Price_ch</th>\n",
       "      <th>Up_down_vortex</th>\n",
       "      <th>Vortex_ch</th>\n",
       "    </tr>\n",
       "  </thead>\n",
       "  <tbody>\n",
       "    <tr>\n",
       "      <th>0</th>\n",
       "      <td>2024-04-19 01:45:00</td>\n",
       "      <td>0.3349</td>\n",
       "      <td>0.3349</td>\n",
       "      <td>0.3348</td>\n",
       "      <td>0.3348</td>\n",
       "      <td>16792.6</td>\n",
       "      <td>3</td>\n",
       "      <td>2024-04-19 03:01:00</td>\n",
       "      <td>0.3313</td>\n",
       "      <td>0.33485</td>\n",
       "      <td>...</td>\n",
       "      <td>0.32923</td>\n",
       "      <td>NaN</td>\n",
       "      <td>NaN</td>\n",
       "      <td>NaN</td>\n",
       "      <td>NaN</td>\n",
       "      <td>NaN</td>\n",
       "      <td>-1.0</td>\n",
       "      <td>-0.092665</td>\n",
       "      <td>0.0</td>\n",
       "      <td>NaN</td>\n",
       "    </tr>\n",
       "    <tr>\n",
       "      <th>1</th>\n",
       "      <td>2024-04-19 01:46:00</td>\n",
       "      <td>0.3349</td>\n",
       "      <td>0.3356</td>\n",
       "      <td>0.3346</td>\n",
       "      <td>0.3350</td>\n",
       "      <td>188066.7</td>\n",
       "      <td>89</td>\n",
       "      <td>2024-04-19 03:01:00</td>\n",
       "      <td>0.3313</td>\n",
       "      <td>0.33510</td>\n",
       "      <td>...</td>\n",
       "      <td>0.32923</td>\n",
       "      <td>NaN</td>\n",
       "      <td>0.33485</td>\n",
       "      <td>0.074660</td>\n",
       "      <td>NaN</td>\n",
       "      <td>NaN</td>\n",
       "      <td>-1.0</td>\n",
       "      <td>-0.092665</td>\n",
       "      <td>0.0</td>\n",
       "      <td>NaN</td>\n",
       "    </tr>\n",
       "    <tr>\n",
       "      <th>2</th>\n",
       "      <td>2024-04-19 01:47:00</td>\n",
       "      <td>0.3351</td>\n",
       "      <td>0.3353</td>\n",
       "      <td>0.3341</td>\n",
       "      <td>0.3341</td>\n",
       "      <td>269036.0</td>\n",
       "      <td>95</td>\n",
       "      <td>2024-04-19 03:01:00</td>\n",
       "      <td>0.3313</td>\n",
       "      <td>0.33470</td>\n",
       "      <td>...</td>\n",
       "      <td>0.32923</td>\n",
       "      <td>NaN</td>\n",
       "      <td>0.33510</td>\n",
       "      <td>-0.119367</td>\n",
       "      <td>NaN</td>\n",
       "      <td>NaN</td>\n",
       "      <td>-1.0</td>\n",
       "      <td>-0.092665</td>\n",
       "      <td>0.0</td>\n",
       "      <td>NaN</td>\n",
       "    </tr>\n",
       "    <tr>\n",
       "      <th>3</th>\n",
       "      <td>2024-04-19 01:48:00</td>\n",
       "      <td>0.3341</td>\n",
       "      <td>0.3342</td>\n",
       "      <td>0.3333</td>\n",
       "      <td>0.3335</td>\n",
       "      <td>461506.6</td>\n",
       "      <td>89</td>\n",
       "      <td>2024-04-19 03:01:00</td>\n",
       "      <td>0.3313</td>\n",
       "      <td>0.33375</td>\n",
       "      <td>...</td>\n",
       "      <td>0.32923</td>\n",
       "      <td>NaN</td>\n",
       "      <td>0.33470</td>\n",
       "      <td>-0.283836</td>\n",
       "      <td>NaN</td>\n",
       "      <td>NaN</td>\n",
       "      <td>-1.0</td>\n",
       "      <td>-0.092665</td>\n",
       "      <td>0.0</td>\n",
       "      <td>NaN</td>\n",
       "    </tr>\n",
       "    <tr>\n",
       "      <th>4</th>\n",
       "      <td>2024-04-19 01:49:00</td>\n",
       "      <td>0.3334</td>\n",
       "      <td>0.3337</td>\n",
       "      <td>0.3327</td>\n",
       "      <td>0.3330</td>\n",
       "      <td>360699.7</td>\n",
       "      <td>97</td>\n",
       "      <td>2024-04-19 03:01:00</td>\n",
       "      <td>0.3313</td>\n",
       "      <td>0.33320</td>\n",
       "      <td>...</td>\n",
       "      <td>0.32923</td>\n",
       "      <td>NaN</td>\n",
       "      <td>0.33375</td>\n",
       "      <td>-0.164794</td>\n",
       "      <td>NaN</td>\n",
       "      <td>NaN</td>\n",
       "      <td>-1.0</td>\n",
       "      <td>-0.092665</td>\n",
       "      <td>0.0</td>\n",
       "      <td>NaN</td>\n",
       "    </tr>\n",
       "  </tbody>\n",
       "</table>\n",
       "<p>5 rows × 23 columns</p>\n",
       "</div>"
      ],
      "text/plain": [
       "                 Time    Open    High     Low   Close    Volume  \\\n",
       "0 2024-04-19 01:45:00  0.3349  0.3349  0.3348  0.3348   16792.6   \n",
       "1 2024-04-19 01:46:00  0.3349  0.3356  0.3346  0.3350  188066.7   \n",
       "2 2024-04-19 01:47:00  0.3351  0.3353  0.3341  0.3341  269036.0   \n",
       "3 2024-04-19 01:48:00  0.3341  0.3342  0.3333  0.3335  461506.6   \n",
       "4 2024-04-19 01:49:00  0.3334  0.3337  0.3327  0.3330  360699.7   \n",
       "\n",
       "   Number of trades          Time_alert  Price_alert  Av_price  ...  \\\n",
       "0                 3 2024-04-19 03:01:00       0.3313   0.33485  ...   \n",
       "1                89 2024-04-19 03:01:00       0.3313   0.33510  ...   \n",
       "2                95 2024-04-19 03:01:00       0.3313   0.33470  ...   \n",
       "3                89 2024-04-19 03:01:00       0.3313   0.33375  ...   \n",
       "4                97 2024-04-19 03:01:00       0.3313   0.33320  ...   \n",
       "\n",
       "   End_rolling_mean  RSI  Lag_price  Diff_price  VTXP_14  VTXM_14  Up_down  \\\n",
       "0           0.32923  NaN        NaN         NaN      NaN      NaN     -1.0   \n",
       "1           0.32923  NaN    0.33485    0.074660      NaN      NaN     -1.0   \n",
       "2           0.32923  NaN    0.33510   -0.119367      NaN      NaN     -1.0   \n",
       "3           0.32923  NaN    0.33470   -0.283836      NaN      NaN     -1.0   \n",
       "4           0.32923  NaN    0.33375   -0.164794      NaN      NaN     -1.0   \n",
       "\n",
       "   Price_ch  Up_down_vortex  Vortex_ch  \n",
       "0 -0.092665             0.0        NaN  \n",
       "1 -0.092665             0.0        NaN  \n",
       "2 -0.092665             0.0        NaN  \n",
       "3 -0.092665             0.0        NaN  \n",
       "4 -0.092665             0.0        NaN  \n",
       "\n",
       "[5 rows x 23 columns]"
      ]
     },
     "execution_count": 35,
     "metadata": {},
     "output_type": "execute_result"
    }
   ],
   "source": [
    "df.head()"
   ]
  },
  {
   "cell_type": "markdown",
   "metadata": {
    "id": "bPuX3nMIinTU"
   },
   "source": [
    "## Графики 10 минут"
   ]
  },
  {
   "cell_type": "code",
   "execution_count": 36,
   "metadata": {
    "colab": {
     "base_uri": "https://localhost:8080/",
     "height": 497
    },
    "id": "SgEjFapI4_mk",
    "outputId": "8c19e9f0-4135-4ec9-aa2d-6203c08aceef"
   },
   "outputs": [
    {
     "data": {
      "image/png": "[encoded data removed]",
      "text/plain": [
       "<Figure size 432x288 with 1 Axes>"
      ]
     },
     "metadata": {
      "needs_background": "light"
     },
     "output_type": "display_data"
    }
   ],
   "source": [
    "alert_time=df.loc[0,'Time_alert']\n",
    "alert_price=df.loc[0,'Price_alert']\n",
    "plt.plot(df['Time'], df['Close'])\n",
    "plt.figsize=(20, 30)\n",
    "plt.xlabel('Time')\n",
    "plt.xticks(rotation=90)\n",
    "plt.legend('')\n",
    "plt.ylabel('Price')\n",
    "plt.scatter(alert_time, alert_price, color='orange', s=40, marker='o');"
   ]
  },
  {
   "cell_type": "code",
   "execution_count": 37,
   "metadata": {
    "colab": {
     "base_uri": "https://localhost:8080/",
     "height": 525
    },
    "id": "1ACnfN_N8TOc",
    "outputId": "f4e746a1-d1d2-4342-8c9f-4d1f694cf23c"
   },
   "outputs": [
    {
     "data": {
      "image/png": "[encoded data removed]",
      "text/plain": [
       "<Figure size 432x288 with 2 Axes>"
      ]
     },
     "metadata": {
      "needs_background": "light"
     },
     "output_type": "display_data"
    }
   ],
   "source": [
    "alert_time=df.loc[0,'Time_alert']\n",
    "alert_price=df.loc[0,'Price_alert']\n",
    "\n",
    "fig,ax = plt.subplots()\n",
    "\n",
    "ax.plot(df.Time , df.Close)\n",
    "ax.set_xlabel('Time', fontsize= 14 )\n",
    "ax.set_ylabel('Price', fontsize= 16 )\n",
    "plt.xticks(rotation=90)\n",
    "plt.scatter(alert_time, alert_price, color='orange', s=40, marker='o')\n",
    "plt.grid(axis='x')\n",
    "\n",
    "ax2 = ax.twinx ()\n",
    "\n",
    "ax2.scatter(df.Time , df.Up_down, c='red')\n",
    "ax2.set_ylabel('Up_down', fontsize= 16)\n",
    "plt.title('Up down flat 10 минут');"
   ]
  },
  {
   "cell_type": "code",
   "execution_count": 38,
   "metadata": {
    "colab": {
     "base_uri": "https://localhost:8080/",
     "height": 525
    },
    "id": "GNDcBZ_Gg_NV",
    "outputId": "b93a4227-ad00-45c3-ddcb-7ce168ea6e78"
   },
   "outputs": [
    {
     "data": {
      "image/png": "[encoded data removed]",
      "text/plain": [
       "<Figure size 432x288 with 2 Axes>"
      ]
     },
     "metadata": {
      "needs_background": "light"
     },
     "output_type": "display_data"
    }
   ],
   "source": [
    "alert_time=df.loc[0,'Time_alert']\n",
    "alert_price=df.loc[0,'Price_alert']\n",
    "\n",
    "fig,ax = plt.subplots()\n",
    "\n",
    "ax.plot(df.Time , df.Close)\n",
    "ax.set_xlabel('Time', fontsize= 14 )\n",
    "ax.set_ylabel('Price', fontsize= 16 )\n",
    "plt.xticks(rotation=90)\n",
    "plt.scatter(alert_time, alert_price, color='orange', s=40, marker='o')\n",
    "plt.grid(True)\n",
    "\n",
    "ax2 = ax.twinx ()\n",
    "\n",
    "ax2.plot(df.Time , df.VTXP_14)\n",
    "ax2.plot(df.Time , df.VTXM_14)\n",
    "ax2.set_ylabel('Up_down', fontsize= 16)\n",
    "plt.ylim(0.4,5)\n",
    "plt.title('Vortex');"
   ]
  },
  {
   "cell_type": "code",
   "execution_count": 39,
   "metadata": {
    "colab": {
     "base_uri": "https://localhost:8080/",
     "height": 525
    },
    "id": "7gz-QvNg0XoR",
    "outputId": "792d2407-6461-4d83-c80e-fa0ae0ed5d9a"
   },
   "outputs": [
    {
     "data": {
      "image/png": "[encoded data removed]",
      "text/plain": [
       "<Figure size 432x288 with 2 Axes>"
      ]
     },
     "metadata": {
      "needs_background": "light"
     },
     "output_type": "display_data"
    }
   ],
   "source": [
    "alert_time=df.loc[0,'Time_alert']\n",
    "alert_price=df.loc[0,'Price_alert']\n",
    "\n",
    "fig,ax = plt.subplots()\n",
    "\n",
    "ax.plot(df.Time , df.Close)\n",
    "ax.set_xlabel('Time', fontsize= 14 )\n",
    "ax.set_ylabel('Price', fontsize= 16 )\n",
    "plt.xticks(rotation=90)\n",
    "plt.scatter(alert_time, alert_price, color='orange', s=40, marker='o')\n",
    "plt.grid(True)\n",
    "\n",
    "ax2 = ax.twinx ()\n",
    "\n",
    "ax2.scatter(df.Time , df.Up_down_vortex, c='red')\n",
    "ax2.set_ylabel('Up_down', fontsize= 16)\n",
    "plt.title('Up down Vortex 10 минут');"
   ]
  },
  {
   "cell_type": "code",
   "execution_count": 40,
   "metadata": {},
   "outputs": [
    {
     "data": {
      "image/png": "[encoded data removed]",
      "text/plain": [
       "<Figure size 432x288 with 2 Axes>"
      ]
     },
     "metadata": {
      "needs_background": "light"
     },
     "output_type": "display_data"
    }
   ],
   "source": [
    "alert_time=df.loc[0,'Time_alert']\n",
    "alert_price=df.loc[0,'Price_alert']\n",
    "\n",
    "fig,ax = plt.subplots()\n",
    "\n",
    "ax.plot(df.Time , df.Close)\n",
    "ax.set_xlabel('Time', fontsize= 14 )\n",
    "ax.set_ylabel('Price', fontsize= 16 )\n",
    "plt.xticks(rotation=90)\n",
    "plt.scatter(alert_time, alert_price, color='orange', s=40, marker='o')\n",
    "plt.grid(True)\n",
    "\n",
    "ax2 = ax.twinx ()\n",
    "\n",
    "ax2.scatter(df.Time , df.Up_down_vortex, c='red')\n",
    "ax2.scatter(df.Time , df.Up_down, c='pink')\n",
    "ax2.set_ylabel('Up_down', fontsize= 16)\n",
    "plt.title('Разница между индексом и Vortex 10 минут');"
   ]
  },
  {
   "cell_type": "code",
   "execution_count": 41,
   "metadata": {
    "colab": {
     "base_uri": "https://localhost:8080/",
     "height": 525
    },
    "id": "K4vHO6N7w6mQ",
    "outputId": "627de86e-c075-4c4b-a765-be248b4e6319"
   },
   "outputs": [
    {
     "data": {
      "image/png": "[encoded data removed]",
      "text/plain": [
       "<Figure size 432x288 with 2 Axes>"
      ]
     },
     "metadata": {
      "needs_background": "light"
     },
     "output_type": "display_data"
    }
   ],
   "source": [
    "alert_time=df.loc[0,'Time_alert']\n",
    "alert_price=df.loc[0,'Price_alert']\n",
    "\n",
    "fig,ax = plt.subplots()\n",
    "\n",
    "ax.plot(df.Time , df.Close)\n",
    "ax.set_xlabel('Time', fontsize= 14 )\n",
    "ax.set_ylabel('Price', fontsize= 16 )\n",
    "plt.xticks(rotation=90)\n",
    "plt.scatter(alert_time, alert_price, color='orange', s=40, marker='o')\n",
    "plt.grid(True)\n",
    "\n",
    "ax2 = ax.twinx ()\n",
    "\n",
    "ax2.scatter(df.Time , df.Vortex_ch)\n",
    "ax2.set_ylabel('Up_down', fontsize= 16)\n",
    "plt.title('Vortex коэффициент 10 минут');"
   ]
  },
  {
   "cell_type": "markdown",
   "metadata": {
    "id": "BTy81xA6utkg"
   },
   "source": [
    "## Интервалы 15 минут"
   ]
  },
  {
   "cell_type": "code",
   "execution_count": 42,
   "metadata": {
    "colab": {
     "base_uri": "https://localhost:8080/"
    },
    "id": "zXQA12wAutkh",
    "outputId": "5baa3d1b-2dd1-48a8-8391-27593803fae3"
   },
   "outputs": [
    {
     "data": {
      "text/plain": [
       "Timestamp('2024-04-19 03:01:00')"
      ]
     },
     "execution_count": 42,
     "metadata": {},
     "output_type": "execute_result"
    }
   ],
   "source": [
    "#точка алерт\n",
    "time_alert=df.loc[0,'Time_alert']\n",
    "time_alert"
   ]
  },
  {
   "cell_type": "code",
   "execution_count": 43,
   "metadata": {
    "colab": {
     "base_uri": "https://localhost:8080/"
    },
    "id": "XgJGBqXAutki",
    "outputId": "eed5a427-46c6-4b27-80dd-8be49d5bfbb3"
   },
   "outputs": [
    {
     "data": {
      "text/plain": [
       "8"
      ]
     },
     "execution_count": 43,
     "metadata": {},
     "output_type": "execute_result"
    }
   ],
   "source": [
    "x=10 #интервал в минутах\n",
    "c=math.ceil(df.loc[df['Time'].between(time_alert-pd.Timedelta(minutes=300), time_alert-pd.Timedelta(minutes=1))].shape[0]/x)\n",
    "c"
   ]
  },
  {
   "cell_type": "code",
   "execution_count": 44,
   "metadata": {
    "colab": {
     "base_uri": "https://localhost:8080/"
    },
    "id": "peuDVAqsutki",
    "outputId": "11fc8864-eed9-4d8d-faaa-05ec55f622d1"
   },
   "outputs": [
    {
     "name": "stdout",
     "output_type": "stream",
     "text": [
      "0.01522865324176571\n",
      "0.027366720422396053\n",
      "-0.08924373076133485\n",
      "0.01967626556762669\n",
      "-0.008969274253398583\n",
      "-0.04205636493603766\n",
      "-0.014928698610828873\n",
      "-0.09266506627012217\n",
      "nan\n"
     ]
    },
    {
     "name": "stderr",
     "output_type": "stream",
     "text": [
      "/tmp/ipykernel_84/1922886160.py:3: RuntimeWarning: invalid value encountered in double_scalars\n",
      "  price_change = df.loc[df['Time'].between(time_alert-pd.Timedelta(minutes=((i+1)*x)), time_alert-pd.Timedelta(minutes=1)-pd.Timedelta(minutes=(i*x)))]['Diff_price'].sum()/df.loc[df['Time'].between(time_alert-pd.Timedelta(minutes=((i+1)*x)), time_alert-pd.Timedelta(minutes=1)-pd.Timedelta(minutes=(i*x)))]['Diff_price'].count()\n"
     ]
    }
   ],
   "source": [
    "for i in range(0, c+1):\n",
    "\n",
    "  price_change = df.loc[df['Time'].between(time_alert-pd.Timedelta(minutes=((i+1)*x)), time_alert-pd.Timedelta(minutes=1)-pd.Timedelta(minutes=(i*x)))]['Diff_price'].sum()/df.loc[df['Time'].between(time_alert-pd.Timedelta(minutes=((i+1)*x)), time_alert-pd.Timedelta(minutes=1)-pd.Timedelta(minutes=(i*x)))]['Diff_price'].count()\n",
    "\n",
    "  if price_change>0.1:\n",
    "    df.loc[df['Time'].between(time_alert-pd.Timedelta(minutes=((i+1)*x)), time_alert-pd.Timedelta(minutes=1)-pd.Timedelta(minutes=(i*x))), 'Up_down']=2\n",
    "    df.loc[df['Time'].between(time_alert-pd.Timedelta(minutes=((i+1)*x)), time_alert-pd.Timedelta(minutes=1)-pd.Timedelta(minutes=(i*x))), 'Price_ch']=price_change\n",
    "\n",
    "  elif price_change<-0.1:\n",
    "    df.loc[df['Time'].between(time_alert-pd.Timedelta(minutes=((i+1)*x)), time_alert-pd.Timedelta(minutes=1)-pd.Timedelta(minutes=(i*x))), 'Up_down']=-2\n",
    "    df.loc[df['Time'].between(time_alert-pd.Timedelta(minutes=((i+1)*x)), time_alert-pd.Timedelta(minutes=1)-pd.Timedelta(minutes=(i*x))), 'Price_ch']=price_change\n",
    "\n",
    "  elif 0.02 <= price_change<=0.1:\n",
    "    df.loc[df['Time'].between(time_alert-pd.Timedelta(minutes=((i+1)*x)), time_alert-pd.Timedelta(minutes=1)-pd.Timedelta(minutes=(i*x))), 'Up_down']=1\n",
    "    df.loc[df['Time'].between(time_alert-pd.Timedelta(minutes=((i+1)*x)), time_alert-pd.Timedelta(minutes=1)-pd.Timedelta(minutes=(i*x))), 'Price_ch']=price_change\n",
    "\n",
    "  elif -0.1 <= price_change<=-0.02:\n",
    "    df.loc[df['Time'].between(time_alert-pd.Timedelta(minutes=((i+1)*x)), time_alert-pd.Timedelta(minutes=1)-pd.Timedelta(minutes=(i*x))), 'Up_down']=-1\n",
    "    df.loc[df['Time'].between(time_alert-pd.Timedelta(minutes=((i+1)*x)), time_alert-pd.Timedelta(minutes=1)-pd.Timedelta(minutes=(i*x))), 'Price_ch']=price_change\n",
    "\n",
    "  else:\n",
    "    df.loc[df['Time'].between(time_alert-pd.Timedelta(minutes=((i+1)*x)), time_alert-pd.Timedelta(minutes=1)-pd.Timedelta(minutes=(i*x))), 'Up_down']=0\n",
    "    df.loc[df['Time'].between(time_alert-pd.Timedelta(minutes=((i+1)*x)), time_alert-pd.Timedelta(minutes=1)-pd.Timedelta(minutes=(i*x))), 'Price_ch']=price_change\n",
    "\n",
    "  print(price_change)"
   ]
  },
  {
   "cell_type": "markdown",
   "metadata": {
    "id": "2fv0qDzfutki"
   },
   "source": [
    "После точки alert"
   ]
  },
  {
   "cell_type": "code",
   "execution_count": 45,
   "metadata": {
    "colab": {
     "base_uri": "https://localhost:8080/"
    },
    "id": "-ULA-tKNutki",
    "outputId": "6a05971c-9bac-438f-858e-75ade7ffd4ac"
   },
   "outputs": [
    {
     "data": {
      "text/plain": [
       "18"
      ]
     },
     "execution_count": 45,
     "metadata": {},
     "output_type": "execute_result"
    }
   ],
   "source": [
    "c_after=math.ceil(df.loc[df['Time'].between(time_alert, time_alert+pd.Timedelta(minutes=300))].shape[0]/x)\n",
    "c_after"
   ]
  },
  {
   "cell_type": "code",
   "execution_count": 46,
   "metadata": {
    "colab": {
     "base_uri": "https://localhost:8080/"
    },
    "id": "BS2XXFliutkj",
    "outputId": "373814d6-536e-4c99-9440-60b9d6793b96"
   },
   "outputs": [
    {
     "name": "stdout",
     "output_type": "stream",
     "text": [
      "0.43904914763306685\n",
      "0.3129818079987296\n",
      "0.31750235670121796\n",
      "0.07567076846572225\n",
      "-0.020092600462679425\n",
      "0.04351679389320668\n",
      "-0.10857159543597888\n",
      "0.02266244859184581\n",
      "-0.055496969642952365\n",
      "-0.1518716746251406\n",
      "0.029171294956919325\n",
      "-0.12233561952632989\n",
      "-0.3138035679176634\n",
      "-0.09213296074495009\n",
      "0.10067840481728975\n",
      "0.17229986652960017\n",
      "0.10011036675886537\n",
      "0.3187652592328697\n",
      "nan\n"
     ]
    },
    {
     "name": "stderr",
     "output_type": "stream",
     "text": [
      "/tmp/ipykernel_84/542566709.py:3: RuntimeWarning: invalid value encountered in double_scalars\n",
      "  price_change = df.loc[df['Time'].between(time_alert+pd.Timedelta(minutes=(i*x)), time_alert+pd.Timedelta(minutes=((i+1)*x)))]['Diff_price'].sum()/df.loc[df['Time'].between(time_alert+pd.Timedelta(minutes=(i*x)), time_alert+pd.Timedelta(minutes=((i+1)*x)))]['Diff_price'].count()\n"
     ]
    }
   ],
   "source": [
    "for i in range(0, c_after+1):\n",
    "\n",
    "  price_change = df.loc[df['Time'].between(time_alert+pd.Timedelta(minutes=(i*x)), time_alert+pd.Timedelta(minutes=((i+1)*x)))]['Diff_price'].sum()/df.loc[df['Time'].between(time_alert+pd.Timedelta(minutes=(i*x)), time_alert+pd.Timedelta(minutes=((i+1)*x)))]['Diff_price'].count()\n",
    "\n",
    "  if price_change>0.1:\n",
    "    df.loc[df['Time'].between(time_alert+pd.Timedelta(minutes=(i*x)), time_alert+pd.Timedelta(minutes=((i+1)*x))), 'Up_down']=2\n",
    "    df.loc[df['Time'].between(time_alert+pd.Timedelta(minutes=(i*x)), time_alert+pd.Timedelta(minutes=((i+1)*x))), 'Price_ch']=price_change\n",
    "\n",
    "  elif price_change<-0.1:\n",
    "    df.loc[df['Time'].between(time_alert+pd.Timedelta(minutes=(i*x)), time_alert+pd.Timedelta(minutes=((i+1)*x))), 'Up_down']=-2\n",
    "    df.loc[df['Time'].between(time_alert+pd.Timedelta(minutes=(i*x)), time_alert+pd.Timedelta(minutes=((i+1)*x))), 'Price_ch']=price_change\n",
    "\n",
    "  elif 0.02 <= price_change<=0.1:\n",
    "    df.loc[df['Time'].between(time_alert+pd.Timedelta(minutes=(i*x)), time_alert+pd.Timedelta(minutes=((i+1)*x))), 'Up_down']=1\n",
    "    df.loc[df['Time'].between(time_alert+pd.Timedelta(minutes=(i*x)), time_alert+pd.Timedelta(minutes=((i+1)*x))), 'Price_ch']=price_change\n",
    "\n",
    "  elif -0.1 <= price_change<=-0.02:\n",
    "    df.loc[df['Time'].between(time_alert+pd.Timedelta(minutes=(i*x)), time_alert+pd.Timedelta(minutes=((i+1)*x))), 'Up_down']=-1\n",
    "    df.loc[df['Time'].between(time_alert+pd.Timedelta(minutes=(i*x)), time_alert+pd.Timedelta(minutes=((i+1)*x))), 'Price_ch']=price_change\n",
    "\n",
    "  else:\n",
    "    df.loc[df['Time'].between(time_alert+pd.Timedelta(minutes=(i*x)), time_alert+pd.Timedelta(minutes=((i+1)*x))), 'Up_down']=0\n",
    "    df.loc[df['Time'].between(time_alert+pd.Timedelta(minutes=(i*x)), time_alert+pd.Timedelta(minutes=((i+1)*x))), 'Price_ch']=price_change\n",
    "\n",
    "  print(price_change)"
   ]
  },
  {
   "cell_type": "code",
   "execution_count": 47,
   "metadata": {
    "colab": {
     "base_uri": "https://localhost:8080/",
     "height": 499
    },
    "id": "dDnH42XVutkj",
    "outputId": "21bd27c2-9a3f-4bd6-8986-76bd76c6b6a0"
   },
   "outputs": [
    {
     "data": {
      "text/html": [
       "<div>\n",
       "<style scoped>\n",
       "    .dataframe tbody tr th:only-of-type {\n",
       "        vertical-align: middle;\n",
       "    }\n",
       "\n",
       "    .dataframe tbody tr th {\n",
       "        vertical-align: top;\n",
       "    }\n",
       "\n",
       "    .dataframe thead th {\n",
       "        text-align: right;\n",
       "    }\n",
       "</style>\n",
       "<table border=\"1\" class=\"dataframe\">\n",
       "  <thead>\n",
       "    <tr style=\"text-align: right;\">\n",
       "      <th></th>\n",
       "      <th>Time</th>\n",
       "      <th>Open</th>\n",
       "      <th>High</th>\n",
       "      <th>Low</th>\n",
       "      <th>Close</th>\n",
       "      <th>Volume</th>\n",
       "      <th>Number of trades</th>\n",
       "      <th>Time_alert</th>\n",
       "      <th>Price_alert</th>\n",
       "      <th>Av_price</th>\n",
       "      <th>...</th>\n",
       "      <th>End_rolling_mean</th>\n",
       "      <th>RSI</th>\n",
       "      <th>Lag_price</th>\n",
       "      <th>Diff_price</th>\n",
       "      <th>VTXP_14</th>\n",
       "      <th>VTXM_14</th>\n",
       "      <th>Up_down</th>\n",
       "      <th>Price_ch</th>\n",
       "      <th>Up_down_vortex</th>\n",
       "      <th>Vortex_ch</th>\n",
       "    </tr>\n",
       "  </thead>\n",
       "  <tbody>\n",
       "    <tr>\n",
       "      <th>0</th>\n",
       "      <td>2024-04-19 01:45:00</td>\n",
       "      <td>0.3349</td>\n",
       "      <td>0.3349</td>\n",
       "      <td>0.3348</td>\n",
       "      <td>0.3348</td>\n",
       "      <td>16792.6</td>\n",
       "      <td>3</td>\n",
       "      <td>2024-04-19 03:01:00</td>\n",
       "      <td>0.3313</td>\n",
       "      <td>0.33485</td>\n",
       "      <td>...</td>\n",
       "      <td>0.32923</td>\n",
       "      <td>NaN</td>\n",
       "      <td>NaN</td>\n",
       "      <td>NaN</td>\n",
       "      <td>NaN</td>\n",
       "      <td>NaN</td>\n",
       "      <td>-1.0</td>\n",
       "      <td>-0.092665</td>\n",
       "      <td>0.0</td>\n",
       "      <td>NaN</td>\n",
       "    </tr>\n",
       "    <tr>\n",
       "      <th>1</th>\n",
       "      <td>2024-04-19 01:46:00</td>\n",
       "      <td>0.3349</td>\n",
       "      <td>0.3356</td>\n",
       "      <td>0.3346</td>\n",
       "      <td>0.3350</td>\n",
       "      <td>188066.7</td>\n",
       "      <td>89</td>\n",
       "      <td>2024-04-19 03:01:00</td>\n",
       "      <td>0.3313</td>\n",
       "      <td>0.33510</td>\n",
       "      <td>...</td>\n",
       "      <td>0.32923</td>\n",
       "      <td>NaN</td>\n",
       "      <td>0.33485</td>\n",
       "      <td>0.074660</td>\n",
       "      <td>NaN</td>\n",
       "      <td>NaN</td>\n",
       "      <td>-1.0</td>\n",
       "      <td>-0.092665</td>\n",
       "      <td>0.0</td>\n",
       "      <td>NaN</td>\n",
       "    </tr>\n",
       "    <tr>\n",
       "      <th>2</th>\n",
       "      <td>2024-04-19 01:47:00</td>\n",
       "      <td>0.3351</td>\n",
       "      <td>0.3353</td>\n",
       "      <td>0.3341</td>\n",
       "      <td>0.3341</td>\n",
       "      <td>269036.0</td>\n",
       "      <td>95</td>\n",
       "      <td>2024-04-19 03:01:00</td>\n",
       "      <td>0.3313</td>\n",
       "      <td>0.33470</td>\n",
       "      <td>...</td>\n",
       "      <td>0.32923</td>\n",
       "      <td>NaN</td>\n",
       "      <td>0.33510</td>\n",
       "      <td>-0.119367</td>\n",
       "      <td>NaN</td>\n",
       "      <td>NaN</td>\n",
       "      <td>-1.0</td>\n",
       "      <td>-0.092665</td>\n",
       "      <td>0.0</td>\n",
       "      <td>NaN</td>\n",
       "    </tr>\n",
       "    <tr>\n",
       "      <th>3</th>\n",
       "      <td>2024-04-19 01:48:00</td>\n",
       "      <td>0.3341</td>\n",
       "      <td>0.3342</td>\n",
       "      <td>0.3333</td>\n",
       "      <td>0.3335</td>\n",
       "      <td>461506.6</td>\n",
       "      <td>89</td>\n",
       "      <td>2024-04-19 03:01:00</td>\n",
       "      <td>0.3313</td>\n",
       "      <td>0.33375</td>\n",
       "      <td>...</td>\n",
       "      <td>0.32923</td>\n",
       "      <td>NaN</td>\n",
       "      <td>0.33470</td>\n",
       "      <td>-0.283836</td>\n",
       "      <td>NaN</td>\n",
       "      <td>NaN</td>\n",
       "      <td>-1.0</td>\n",
       "      <td>-0.092665</td>\n",
       "      <td>0.0</td>\n",
       "      <td>NaN</td>\n",
       "    </tr>\n",
       "    <tr>\n",
       "      <th>4</th>\n",
       "      <td>2024-04-19 01:49:00</td>\n",
       "      <td>0.3334</td>\n",
       "      <td>0.3337</td>\n",
       "      <td>0.3327</td>\n",
       "      <td>0.3330</td>\n",
       "      <td>360699.7</td>\n",
       "      <td>97</td>\n",
       "      <td>2024-04-19 03:01:00</td>\n",
       "      <td>0.3313</td>\n",
       "      <td>0.33320</td>\n",
       "      <td>...</td>\n",
       "      <td>0.32923</td>\n",
       "      <td>NaN</td>\n",
       "      <td>0.33375</td>\n",
       "      <td>-0.164794</td>\n",
       "      <td>NaN</td>\n",
       "      <td>NaN</td>\n",
       "      <td>-1.0</td>\n",
       "      <td>-0.092665</td>\n",
       "      <td>0.0</td>\n",
       "      <td>NaN</td>\n",
       "    </tr>\n",
       "  </tbody>\n",
       "</table>\n",
       "<p>5 rows × 23 columns</p>\n",
       "</div>"
      ],
      "text/plain": [
       "                 Time    Open    High     Low   Close    Volume  \\\n",
       "0 2024-04-19 01:45:00  0.3349  0.3349  0.3348  0.3348   16792.6   \n",
       "1 2024-04-19 01:46:00  0.3349  0.3356  0.3346  0.3350  188066.7   \n",
       "2 2024-04-19 01:47:00  0.3351  0.3353  0.3341  0.3341  269036.0   \n",
       "3 2024-04-19 01:48:00  0.3341  0.3342  0.3333  0.3335  461506.6   \n",
       "4 2024-04-19 01:49:00  0.3334  0.3337  0.3327  0.3330  360699.7   \n",
       "\n",
       "   Number of trades          Time_alert  Price_alert  Av_price  ...  \\\n",
       "0                 3 2024-04-19 03:01:00       0.3313   0.33485  ...   \n",
       "1                89 2024-04-19 03:01:00       0.3313   0.33510  ...   \n",
       "2                95 2024-04-19 03:01:00       0.3313   0.33470  ...   \n",
       "3                89 2024-04-19 03:01:00       0.3313   0.33375  ...   \n",
       "4                97 2024-04-19 03:01:00       0.3313   0.33320  ...   \n",
       "\n",
       "   End_rolling_mean  RSI  Lag_price  Diff_price  VTXP_14  VTXM_14  Up_down  \\\n",
       "0           0.32923  NaN        NaN         NaN      NaN      NaN     -1.0   \n",
       "1           0.32923  NaN    0.33485    0.074660      NaN      NaN     -1.0   \n",
       "2           0.32923  NaN    0.33510   -0.119367      NaN      NaN     -1.0   \n",
       "3           0.32923  NaN    0.33470   -0.283836      NaN      NaN     -1.0   \n",
       "4           0.32923  NaN    0.33375   -0.164794      NaN      NaN     -1.0   \n",
       "\n",
       "   Price_ch  Up_down_vortex  Vortex_ch  \n",
       "0 -0.092665             0.0        NaN  \n",
       "1 -0.092665             0.0        NaN  \n",
       "2 -0.092665             0.0        NaN  \n",
       "3 -0.092665             0.0        NaN  \n",
       "4 -0.092665             0.0        NaN  \n",
       "\n",
       "[5 rows x 23 columns]"
      ]
     },
     "execution_count": 47,
     "metadata": {},
     "output_type": "execute_result"
    }
   ],
   "source": [
    "df.head()"
   ]
  },
  {
   "cell_type": "markdown",
   "metadata": {
    "id": "TvZ0QhJ8utkj"
   },
   "source": [
    "## Графики 15 минут"
   ]
  },
  {
   "cell_type": "code",
   "execution_count": 48,
   "metadata": {
    "colab": {
     "base_uri": "https://localhost:8080/",
     "height": 497
    },
    "id": "_6rGnLDqutkj",
    "outputId": "3a596c48-9a7a-446f-ef6c-16d4f52d86b6"
   },
   "outputs": [
    {
     "data": {
      "image/png": "[encoded data removed]",
      "text/plain": [
       "<Figure size 432x288 with 1 Axes>"
      ]
     },
     "metadata": {
      "needs_background": "light"
     },
     "output_type": "display_data"
    }
   ],
   "source": [
    "alert_time=df.loc[0,'Time_alert']\n",
    "alert_price=df.loc[0,'Price_alert']\n",
    "plt.plot(df['Time'], df['Close'])\n",
    "plt.figsize=(20, 30)\n",
    "plt.xlabel('Time')\n",
    "plt.xticks(rotation=90)\n",
    "plt.legend('')\n",
    "plt.ylabel('Price')\n",
    "plt.scatter(alert_time, alert_price, color='orange', s=40, marker='o');"
   ]
  },
  {
   "cell_type": "code",
   "execution_count": 49,
   "metadata": {
    "colab": {
     "base_uri": "https://localhost:8080/",
     "height": 525
    },
    "id": "szMayA9butkj",
    "outputId": "348e560a-9a8f-4261-cd05-8b1985ca9e79"
   },
   "outputs": [
    {
     "data": {
      "image/png": "[encoded data removed]",
      "text/plain": [
       "<Figure size 432x288 with 2 Axes>"
      ]
     },
     "metadata": {
      "needs_background": "light"
     },
     "output_type": "display_data"
    }
   ],
   "source": [
    "alert_time=df.loc[0,'Time_alert']\n",
    "alert_price=df.loc[0,'Price_alert']\n",
    "\n",
    "fig,ax = plt.subplots()\n",
    "\n",
    "ax.plot(df.Time , df.Close)\n",
    "ax.set_xlabel('Time', fontsize= 14 )\n",
    "ax.set_ylabel('Price', fontsize= 16 )\n",
    "plt.xticks(rotation=90)\n",
    "plt.scatter(alert_time, alert_price, color='orange', s=40, marker='o')\n",
    "plt.grid(axis='x')\n",
    "\n",
    "ax2 = ax.twinx ()\n",
    "\n",
    "ax2.scatter(df.Time , df.Up_down, c='red')\n",
    "ax2.set_ylabel('Up_down', fontsize= 16)\n",
    "plt.title('Up down flat 15 минут');"
   ]
  },
  {
   "cell_type": "code",
   "execution_count": 50,
   "metadata": {
    "colab": {
     "base_uri": "https://localhost:8080/",
     "height": 525
    },
    "id": "YnQR282butkk",
    "outputId": "1ce055e0-fb3e-415f-adbb-50d39e664f63"
   },
   "outputs": [
    {
     "data": {
      "image/png": "[encoded data removed]",
      "text/plain": [
       "<Figure size 432x288 with 2 Axes>"
      ]
     },
     "metadata": {
      "needs_background": "light"
     },
     "output_type": "display_data"
    }
   ],
   "source": [
    "alert_time=df.loc[0,'Time_alert']\n",
    "alert_price=df.loc[0,'Price_alert']\n",
    "\n",
    "fig,ax = plt.subplots()\n",
    "\n",
    "ax.plot(df.Time , df.Close)\n",
    "ax.set_xlabel('Time', fontsize= 14 )\n",
    "ax.set_ylabel('Price', fontsize= 16 )\n",
    "plt.xticks(rotation=90)\n",
    "plt.scatter(alert_time, alert_price, color='orange', s=40, marker='o')\n",
    "plt.grid(True)\n",
    "\n",
    "ax2 = ax.twinx ()\n",
    "\n",
    "ax2.plot(df.Time , df.VTXP_14)\n",
    "ax2.plot(df.Time , df.VTXM_14)\n",
    "ax2.set_ylabel('Up_down', fontsize= 16)\n",
    "plt.ylim(0.4,5)\n",
    "plt.title('Vortex');"
   ]
  },
  {
   "cell_type": "markdown",
   "metadata": {
    "id": "YxYwHeOjtoTe"
   },
   "source": [
    "## Интервалы и графики 30 минут"
   ]
  },
  {
   "cell_type": "code",
   "execution_count": 51,
   "metadata": {
    "colab": {
     "base_uri": "https://localhost:8080/"
    },
    "id": "JVRwA-CCt2Hy",
    "outputId": "e34ff977-c350-4fa4-d828-1ece5c829d49"
   },
   "outputs": [
    {
     "data": {
      "text/plain": [
       "Timestamp('2024-04-19 03:01:00')"
      ]
     },
     "execution_count": 51,
     "metadata": {},
     "output_type": "execute_result"
    }
   ],
   "source": [
    "#точка алерт\n",
    "time_alert=df.loc[0,'Time_alert']\n",
    "time_alert"
   ]
  },
  {
   "cell_type": "code",
   "execution_count": 52,
   "metadata": {
    "colab": {
     "base_uri": "https://localhost:8080/"
    },
    "id": "i5Fi-Y9Qt2Hz",
    "outputId": "6cabaa38-1576-47cb-b77e-39443321c1c9"
   },
   "outputs": [
    {
     "data": {
      "text/plain": [
       "3"
      ]
     },
     "execution_count": 52,
     "metadata": {},
     "output_type": "execute_result"
    }
   ],
   "source": [
    "x=30 #интервал в минутах\n",
    "c=math.ceil(df.loc[df['Time'].between(time_alert-pd.Timedelta(minutes=300), time_alert-pd.Timedelta(minutes=1))].shape[0]/x)\n",
    "c"
   ]
  },
  {
   "cell_type": "code",
   "execution_count": 53,
   "metadata": {
    "colab": {
     "base_uri": "https://localhost:8080/"
    },
    "id": "ocCjHlRGt2Hz",
    "outputId": "5291bef5-1f44-4b47-b483-ac3b7c832ad5"
   },
   "outputs": [
    {
     "name": "stdout",
     "output_type": "stream",
     "text": [
      "-0.015549452365724359\n",
      "-0.010449791207269849\n",
      "-0.04084082116392664\n",
      "nan\n"
     ]
    },
    {
     "name": "stderr",
     "output_type": "stream",
     "text": [
      "/tmp/ipykernel_84/1922886160.py:3: RuntimeWarning: invalid value encountered in double_scalars\n",
      "  price_change = df.loc[df['Time'].between(time_alert-pd.Timedelta(minutes=((i+1)*x)), time_alert-pd.Timedelta(minutes=1)-pd.Timedelta(minutes=(i*x)))]['Diff_price'].sum()/df.loc[df['Time'].between(time_alert-pd.Timedelta(minutes=((i+1)*x)), time_alert-pd.Timedelta(minutes=1)-pd.Timedelta(minutes=(i*x)))]['Diff_price'].count()\n"
     ]
    }
   ],
   "source": [
    "for i in range(0, c+1):\n",
    "\n",
    "  price_change = df.loc[df['Time'].between(time_alert-pd.Timedelta(minutes=((i+1)*x)), time_alert-pd.Timedelta(minutes=1)-pd.Timedelta(minutes=(i*x)))]['Diff_price'].sum()/df.loc[df['Time'].between(time_alert-pd.Timedelta(minutes=((i+1)*x)), time_alert-pd.Timedelta(minutes=1)-pd.Timedelta(minutes=(i*x)))]['Diff_price'].count()\n",
    "\n",
    "  if price_change>0.1:\n",
    "    df.loc[df['Time'].between(time_alert-pd.Timedelta(minutes=((i+1)*x)), time_alert-pd.Timedelta(minutes=1)-pd.Timedelta(minutes=(i*x))), 'Up_down']=2\n",
    "    df.loc[df['Time'].between(time_alert-pd.Timedelta(minutes=((i+1)*x)), time_alert-pd.Timedelta(minutes=1)-pd.Timedelta(minutes=(i*x))), 'Price_ch']=price_change\n",
    "\n",
    "  elif price_change<-0.1:\n",
    "    df.loc[df['Time'].between(time_alert-pd.Timedelta(minutes=((i+1)*x)), time_alert-pd.Timedelta(minutes=1)-pd.Timedelta(minutes=(i*x))), 'Up_down']=-2\n",
    "    df.loc[df['Time'].between(time_alert-pd.Timedelta(minutes=((i+1)*x)), time_alert-pd.Timedelta(minutes=1)-pd.Timedelta(minutes=(i*x))), 'Price_ch']=price_change\n",
    "\n",
    "  elif 0.02 <= price_change<=0.1:\n",
    "    df.loc[df['Time'].between(time_alert-pd.Timedelta(minutes=((i+1)*x)), time_alert-pd.Timedelta(minutes=1)-pd.Timedelta(minutes=(i*x))), 'Up_down']=1\n",
    "    df.loc[df['Time'].between(time_alert-pd.Timedelta(minutes=((i+1)*x)), time_alert-pd.Timedelta(minutes=1)-pd.Timedelta(minutes=(i*x))), 'Price_ch']=price_change\n",
    "\n",
    "  elif -0.1 <= price_change<=-0.02:\n",
    "    df.loc[df['Time'].between(time_alert-pd.Timedelta(minutes=((i+1)*x)), time_alert-pd.Timedelta(minutes=1)-pd.Timedelta(minutes=(i*x))), 'Up_down']=-1\n",
    "    df.loc[df['Time'].between(time_alert-pd.Timedelta(minutes=((i+1)*x)), time_alert-pd.Timedelta(minutes=1)-pd.Timedelta(minutes=(i*x))), 'Price_ch']=price_change\n",
    "\n",
    "  else:\n",
    "    df.loc[df['Time'].between(time_alert-pd.Timedelta(minutes=((i+1)*x)), time_alert-pd.Timedelta(minutes=1)-pd.Timedelta(minutes=(i*x))), 'Up_down']=0\n",
    "    df.loc[df['Time'].between(time_alert-pd.Timedelta(minutes=((i+1)*x)), time_alert-pd.Timedelta(minutes=1)-pd.Timedelta(minutes=(i*x))), 'Price_ch']=price_change\n",
    "\n",
    "  print(price_change)"
   ]
  },
  {
   "cell_type": "markdown",
   "metadata": {
    "id": "xLPT1gbwt2Hz"
   },
   "source": [
    "После точки alert"
   ]
  },
  {
   "cell_type": "code",
   "execution_count": 54,
   "metadata": {
    "colab": {
     "base_uri": "https://localhost:8080/"
    },
    "id": "61m3SfJDt2H0",
    "outputId": "d753cbc9-12e6-4c67-aa0f-827ed91d13f1"
   },
   "outputs": [
    {
     "data": {
      "text/plain": [
       "6"
      ]
     },
     "execution_count": 54,
     "metadata": {},
     "output_type": "execute_result"
    }
   ],
   "source": [
    "c_after=math.ceil(df.loc[df['Time'].between(time_alert, time_alert+pd.Timedelta(minutes=300))].shape[0]/x)\n",
    "c_after"
   ]
  },
  {
   "cell_type": "code",
   "execution_count": 55,
   "metadata": {
    "colab": {
     "base_uri": "https://localhost:8080/"
    },
    "id": "FMnxIY1vt2H0",
    "outputId": "0f7780bb-a926-4f2a-cb3b-a1d63004ac02"
   },
   "outputs": [
    {
     "name": "stdout",
     "output_type": "stream",
     "text": [
      "0.39028912532637067\n",
      "0.024751893501382415\n",
      "-0.06777578231642858\n",
      "-0.10770815095981319\n",
      "-0.0992044394926672\n",
      "0.18207006737426032\n",
      "nan\n"
     ]
    },
    {
     "name": "stderr",
     "output_type": "stream",
     "text": [
      "/tmp/ipykernel_84/542566709.py:3: RuntimeWarning: invalid value encountered in double_scalars\n",
      "  price_change = df.loc[df['Time'].between(time_alert+pd.Timedelta(minutes=(i*x)), time_alert+pd.Timedelta(minutes=((i+1)*x)))]['Diff_price'].sum()/df.loc[df['Time'].between(time_alert+pd.Timedelta(minutes=(i*x)), time_alert+pd.Timedelta(minutes=((i+1)*x)))]['Diff_price'].count()\n"
     ]
    }
   ],
   "source": [
    "for i in range(0, c_after+1):\n",
    "\n",
    "  price_change = df.loc[df['Time'].between(time_alert+pd.Timedelta(minutes=(i*x)), time_alert+pd.Timedelta(minutes=((i+1)*x)))]['Diff_price'].sum()/df.loc[df['Time'].between(time_alert+pd.Timedelta(minutes=(i*x)), time_alert+pd.Timedelta(minutes=((i+1)*x)))]['Diff_price'].count()\n",
    "\n",
    "  if price_change>0.1:\n",
    "    df.loc[df['Time'].between(time_alert+pd.Timedelta(minutes=(i*x)), time_alert+pd.Timedelta(minutes=((i+1)*x))), 'Up_down']=2\n",
    "    df.loc[df['Time'].between(time_alert+pd.Timedelta(minutes=(i*x)), time_alert+pd.Timedelta(minutes=((i+1)*x))), 'Price_ch']=price_change\n",
    "\n",
    "  elif price_change<-0.1:\n",
    "    df.loc[df['Time'].between(time_alert+pd.Timedelta(minutes=(i*x)), time_alert+pd.Timedelta(minutes=((i+1)*x))), 'Up_down']=-2\n",
    "    df.loc[df['Time'].between(time_alert+pd.Timedelta(minutes=(i*x)), time_alert+pd.Timedelta(minutes=((i+1)*x))), 'Price_ch']=price_change\n",
    "\n",
    "  elif 0.02 <= price_change<=0.1:\n",
    "    df.loc[df['Time'].between(time_alert+pd.Timedelta(minutes=(i*x)), time_alert+pd.Timedelta(minutes=((i+1)*x))), 'Up_down']=1\n",
    "    df.loc[df['Time'].between(time_alert+pd.Timedelta(minutes=(i*x)), time_alert+pd.Timedelta(minutes=((i+1)*x))), 'Price_ch']=price_change\n",
    "\n",
    "  elif -0.1 <= price_change<=-0.02:\n",
    "    df.loc[df['Time'].between(time_alert+pd.Timedelta(minutes=(i*x)), time_alert+pd.Timedelta(minutes=((i+1)*x))), 'Up_down']=-1\n",
    "    df.loc[df['Time'].between(time_alert+pd.Timedelta(minutes=(i*x)), time_alert+pd.Timedelta(minutes=((i+1)*x))), 'Price_ch']=price_change\n",
    "\n",
    "  else:\n",
    "    df.loc[df['Time'].between(time_alert+pd.Timedelta(minutes=(i*x)), time_alert+pd.Timedelta(minutes=((i+1)*x))), 'Up_down']=0\n",
    "    df.loc[df['Time'].between(time_alert+pd.Timedelta(minutes=(i*x)), time_alert+pd.Timedelta(minutes=((i+1)*x))), 'Price_ch']=price_change\n",
    "\n",
    "  print(price_change)"
   ]
  },
  {
   "cell_type": "code",
   "execution_count": 56,
   "metadata": {
    "colab": {
     "base_uri": "https://localhost:8080/",
     "height": 499
    },
    "id": "jfj_0tngt2H0",
    "outputId": "2ad22162-83e1-474c-ddc9-ec173519fd63"
   },
   "outputs": [
    {
     "data": {
      "text/html": [
       "<div>\n",
       "<style scoped>\n",
       "    .dataframe tbody tr th:only-of-type {\n",
       "        vertical-align: middle;\n",
       "    }\n",
       "\n",
       "    .dataframe tbody tr th {\n",
       "        vertical-align: top;\n",
       "    }\n",
       "\n",
       "    .dataframe thead th {\n",
       "        text-align: right;\n",
       "    }\n",
       "</style>\n",
       "<table border=\"1\" class=\"dataframe\">\n",
       "  <thead>\n",
       "    <tr style=\"text-align: right;\">\n",
       "      <th></th>\n",
       "      <th>Time</th>\n",
       "      <th>Open</th>\n",
       "      <th>High</th>\n",
       "      <th>Low</th>\n",
       "      <th>Close</th>\n",
       "      <th>Volume</th>\n",
       "      <th>Number of trades</th>\n",
       "      <th>Time_alert</th>\n",
       "      <th>Price_alert</th>\n",
       "      <th>Av_price</th>\n",
       "      <th>...</th>\n",
       "      <th>End_rolling_mean</th>\n",
       "      <th>RSI</th>\n",
       "      <th>Lag_price</th>\n",
       "      <th>Diff_price</th>\n",
       "      <th>VTXP_14</th>\n",
       "      <th>VTXM_14</th>\n",
       "      <th>Up_down</th>\n",
       "      <th>Price_ch</th>\n",
       "      <th>Up_down_vortex</th>\n",
       "      <th>Vortex_ch</th>\n",
       "    </tr>\n",
       "  </thead>\n",
       "  <tbody>\n",
       "    <tr>\n",
       "      <th>0</th>\n",
       "      <td>2024-04-19 01:45:00</td>\n",
       "      <td>0.3349</td>\n",
       "      <td>0.3349</td>\n",
       "      <td>0.3348</td>\n",
       "      <td>0.3348</td>\n",
       "      <td>16792.6</td>\n",
       "      <td>3</td>\n",
       "      <td>2024-04-19 03:01:00</td>\n",
       "      <td>0.3313</td>\n",
       "      <td>0.33485</td>\n",
       "      <td>...</td>\n",
       "      <td>0.32923</td>\n",
       "      <td>NaN</td>\n",
       "      <td>NaN</td>\n",
       "      <td>NaN</td>\n",
       "      <td>NaN</td>\n",
       "      <td>NaN</td>\n",
       "      <td>-1.0</td>\n",
       "      <td>-0.040841</td>\n",
       "      <td>0.0</td>\n",
       "      <td>NaN</td>\n",
       "    </tr>\n",
       "    <tr>\n",
       "      <th>1</th>\n",
       "      <td>2024-04-19 01:46:00</td>\n",
       "      <td>0.3349</td>\n",
       "      <td>0.3356</td>\n",
       "      <td>0.3346</td>\n",
       "      <td>0.3350</td>\n",
       "      <td>188066.7</td>\n",
       "      <td>89</td>\n",
       "      <td>2024-04-19 03:01:00</td>\n",
       "      <td>0.3313</td>\n",
       "      <td>0.33510</td>\n",
       "      <td>...</td>\n",
       "      <td>0.32923</td>\n",
       "      <td>NaN</td>\n",
       "      <td>0.33485</td>\n",
       "      <td>0.074660</td>\n",
       "      <td>NaN</td>\n",
       "      <td>NaN</td>\n",
       "      <td>-1.0</td>\n",
       "      <td>-0.040841</td>\n",
       "      <td>0.0</td>\n",
       "      <td>NaN</td>\n",
       "    </tr>\n",
       "    <tr>\n",
       "      <th>2</th>\n",
       "      <td>2024-04-19 01:47:00</td>\n",
       "      <td>0.3351</td>\n",
       "      <td>0.3353</td>\n",
       "      <td>0.3341</td>\n",
       "      <td>0.3341</td>\n",
       "      <td>269036.0</td>\n",
       "      <td>95</td>\n",
       "      <td>2024-04-19 03:01:00</td>\n",
       "      <td>0.3313</td>\n",
       "      <td>0.33470</td>\n",
       "      <td>...</td>\n",
       "      <td>0.32923</td>\n",
       "      <td>NaN</td>\n",
       "      <td>0.33510</td>\n",
       "      <td>-0.119367</td>\n",
       "      <td>NaN</td>\n",
       "      <td>NaN</td>\n",
       "      <td>-1.0</td>\n",
       "      <td>-0.040841</td>\n",
       "      <td>0.0</td>\n",
       "      <td>NaN</td>\n",
       "    </tr>\n",
       "    <tr>\n",
       "      <th>3</th>\n",
       "      <td>2024-04-19 01:48:00</td>\n",
       "      <td>0.3341</td>\n",
       "      <td>0.3342</td>\n",
       "      <td>0.3333</td>\n",
       "      <td>0.3335</td>\n",
       "      <td>461506.6</td>\n",
       "      <td>89</td>\n",
       "      <td>2024-04-19 03:01:00</td>\n",
       "      <td>0.3313</td>\n",
       "      <td>0.33375</td>\n",
       "      <td>...</td>\n",
       "      <td>0.32923</td>\n",
       "      <td>NaN</td>\n",
       "      <td>0.33470</td>\n",
       "      <td>-0.283836</td>\n",
       "      <td>NaN</td>\n",
       "      <td>NaN</td>\n",
       "      <td>-1.0</td>\n",
       "      <td>-0.040841</td>\n",
       "      <td>0.0</td>\n",
       "      <td>NaN</td>\n",
       "    </tr>\n",
       "    <tr>\n",
       "      <th>4</th>\n",
       "      <td>2024-04-19 01:49:00</td>\n",
       "      <td>0.3334</td>\n",
       "      <td>0.3337</td>\n",
       "      <td>0.3327</td>\n",
       "      <td>0.3330</td>\n",
       "      <td>360699.7</td>\n",
       "      <td>97</td>\n",
       "      <td>2024-04-19 03:01:00</td>\n",
       "      <td>0.3313</td>\n",
       "      <td>0.33320</td>\n",
       "      <td>...</td>\n",
       "      <td>0.32923</td>\n",
       "      <td>NaN</td>\n",
       "      <td>0.33375</td>\n",
       "      <td>-0.164794</td>\n",
       "      <td>NaN</td>\n",
       "      <td>NaN</td>\n",
       "      <td>-1.0</td>\n",
       "      <td>-0.040841</td>\n",
       "      <td>0.0</td>\n",
       "      <td>NaN</td>\n",
       "    </tr>\n",
       "  </tbody>\n",
       "</table>\n",
       "<p>5 rows × 23 columns</p>\n",
       "</div>"
      ],
      "text/plain": [
       "                 Time    Open    High     Low   Close    Volume  \\\n",
       "0 2024-04-19 01:45:00  0.3349  0.3349  0.3348  0.3348   16792.6   \n",
       "1 2024-04-19 01:46:00  0.3349  0.3356  0.3346  0.3350  188066.7   \n",
       "2 2024-04-19 01:47:00  0.3351  0.3353  0.3341  0.3341  269036.0   \n",
       "3 2024-04-19 01:48:00  0.3341  0.3342  0.3333  0.3335  461506.6   \n",
       "4 2024-04-19 01:49:00  0.3334  0.3337  0.3327  0.3330  360699.7   \n",
       "\n",
       "   Number of trades          Time_alert  Price_alert  Av_price  ...  \\\n",
       "0                 3 2024-04-19 03:01:00       0.3313   0.33485  ...   \n",
       "1                89 2024-04-19 03:01:00       0.3313   0.33510  ...   \n",
       "2                95 2024-04-19 03:01:00       0.3313   0.33470  ...   \n",
       "3                89 2024-04-19 03:01:00       0.3313   0.33375  ...   \n",
       "4                97 2024-04-19 03:01:00       0.3313   0.33320  ...   \n",
       "\n",
       "   End_rolling_mean  RSI  Lag_price  Diff_price  VTXP_14  VTXM_14  Up_down  \\\n",
       "0           0.32923  NaN        NaN         NaN      NaN      NaN     -1.0   \n",
       "1           0.32923  NaN    0.33485    0.074660      NaN      NaN     -1.0   \n",
       "2           0.32923  NaN    0.33510   -0.119367      NaN      NaN     -1.0   \n",
       "3           0.32923  NaN    0.33470   -0.283836      NaN      NaN     -1.0   \n",
       "4           0.32923  NaN    0.33375   -0.164794      NaN      NaN     -1.0   \n",
       "\n",
       "   Price_ch  Up_down_vortex  Vortex_ch  \n",
       "0 -0.040841             0.0        NaN  \n",
       "1 -0.040841             0.0        NaN  \n",
       "2 -0.040841             0.0        NaN  \n",
       "3 -0.040841             0.0        NaN  \n",
       "4 -0.040841             0.0        NaN  \n",
       "\n",
       "[5 rows x 23 columns]"
      ]
     },
     "execution_count": 56,
     "metadata": {},
     "output_type": "execute_result"
    }
   ],
   "source": [
    "df.head()"
   ]
  },
  {
   "cell_type": "markdown",
   "metadata": {
    "id": "rnZligV_t2H0"
   },
   "source": [
    "## Графики 30 минут"
   ]
  },
  {
   "cell_type": "code",
   "execution_count": 57,
   "metadata": {
    "colab": {
     "base_uri": "https://localhost:8080/",
     "height": 497
    },
    "id": "p6aH12jLt2H1",
    "outputId": "029a1aee-dbed-4bc7-e325-bad8eadfdbd2"
   },
   "outputs": [
    {
     "data": {
      "image/png": "[encoded data removed]",
      "text/plain": [
       "<Figure size 432x288 with 1 Axes>"
      ]
     },
     "metadata": {
      "needs_background": "light"
     },
     "output_type": "display_data"
    }
   ],
   "source": [
    "alert_time=df.loc[0,'Time_alert']\n",
    "alert_price=df.loc[0,'Price_alert']\n",
    "plt.plot(df['Time'], df['Close'])\n",
    "plt.figsize=(20, 30)\n",
    "plt.xlabel('Time')\n",
    "plt.xticks(rotation=90)\n",
    "plt.legend('')\n",
    "plt.ylabel('Price')\n",
    "plt.scatter(alert_time, alert_price, color='orange', s=40, marker='o');"
   ]
  },
  {
   "cell_type": "code",
   "execution_count": 58,
   "metadata": {
    "colab": {
     "base_uri": "https://localhost:8080/",
     "height": 525
    },
    "id": "4QuUCWcSt2H1",
    "outputId": "3b70ac26-97c9-44c9-f85f-acf02f6f1460"
   },
   "outputs": [
    {
     "data": {
      "image/png": "[encoded data removed]",
      "text/plain": [
       "<Figure size 432x288 with 2 Axes>"
      ]
     },
     "metadata": {
      "needs_background": "light"
     },
     "output_type": "display_data"
    }
   ],
   "source": [
    "alert_time=df.loc[0,'Time_alert']\n",
    "alert_price=df.loc[0,'Price_alert']\n",
    "\n",
    "\n",
    "fig,ax = plt.subplots()\n",
    "\n",
    "ax.plot(df.Time , df.Close)\n",
    "ax.set_xlabel('Time', fontsize= 14 )\n",
    "ax.set_ylabel('Price', fontsize= 16 )\n",
    "plt.xticks(rotation=90)\n",
    "plt.scatter(alert_time, alert_price, color='orange', s=40, marker='o')\n",
    "plt.grid(axis='x')\n",
    "\n",
    "ax2 = ax.twinx ()\n",
    "\n",
    "ax2.scatter(df.Time , df.Up_down, c='red')\n",
    "ax2.set_ylabel('Up_down', fontsize= 16)\n",
    "plt.title('Up down flat 30 минут');"
   ]
  },
  {
   "cell_type": "code",
   "execution_count": 59,
   "metadata": {
    "colab": {
     "base_uri": "https://localhost:8080/",
     "height": 525
    },
    "id": "_dtVGrFat2H1",
    "outputId": "344ea7dc-bf31-4ba3-d3be-529d31aff1a8"
   },
   "outputs": [
    {
     "data": {
      "image/png": "[encoded data removed]",
      "text/plain": [
       "<Figure size 432x288 with 2 Axes>"
      ]
     },
     "metadata": {
      "needs_background": "light"
     },
     "output_type": "display_data"
    }
   ],
   "source": [
    "alert_time=df.loc[0,'Time_alert']\n",
    "alert_price=df.loc[0,'Price_alert']\n",
    "\n",
    "fig,ax = plt.subplots()\n",
    "\n",
    "ax.plot(df.Time , df.Close)\n",
    "ax.set_xlabel('Time', fontsize= 14 )\n",
    "ax.set_ylabel('Price', fontsize= 16 )\n",
    "plt.xticks(rotation=90)\n",
    "plt.scatter(alert_time, alert_price, color='orange', s=40, marker='o')\n",
    "plt.grid(True)\n",
    "\n",
    "ax2 = ax.twinx ()\n",
    "\n",
    "ax2.scatter(df.Time , df.Price_ch)\n",
    "ax2.set_ylabel('Up_down', fontsize= 16)\n",
    "plt.title('Up down flat коэффициент 30 минут');\n"
   ]
  },
  {
   "cell_type": "code",
   "execution_count": 60,
   "metadata": {
    "colab": {
     "base_uri": "https://localhost:8080/",
     "height": 525
    },
    "id": "QSNiiE0Lt2H1",
    "outputId": "28b8b485-e866-4703-f14a-8554b2383b3b"
   },
   "outputs": [
    {
     "data": {
      "image/png": "[encoded data removed]",
      "text/plain": [
       "<Figure size 432x288 with 2 Axes>"
      ]
     },
     "metadata": {
      "needs_background": "light"
     },
     "output_type": "display_data"
    }
   ],
   "source": [
    "alert_time=df.loc[0,'Time_alert']\n",
    "alert_price=df.loc[0,'Price_alert']\n",
    "\n",
    "fig,ax = plt.subplots()\n",
    "\n",
    "ax.plot(df.Time , df.Close)\n",
    "ax.set_xlabel('Time', fontsize= 14 )\n",
    "ax.set_ylabel('Price', fontsize= 16 )\n",
    "plt.xticks(rotation=90)\n",
    "plt.scatter(alert_time, alert_price, color='orange', s=40, marker='o')\n",
    "plt.grid(True)\n",
    "\n",
    "ax2 = ax.twinx ()\n",
    "\n",
    "ax2.plot(df.Time , df.VTXP_14)\n",
    "ax2.plot(df.Time , df.VTXM_14)\n",
    "ax2.set_ylabel('Up_down', fontsize= 16)\n",
    "plt.ylim(0.4,5)\n",
    "plt.title('Vortex');"
   ]
  }
 ],
 "metadata": {
  "ExecuteTimeLog": [
   {
    "duration": 5762,
    "start_time": "2024-04-23T12:05:31.865Z"
   },
   {
    "duration": 836,
    "start_time": "2024-04-23T12:05:37.630Z"
   },
   {
    "duration": 0,
    "start_time": "2024-04-23T12:05:38.469Z"
   },
   {
    "duration": 0,
    "start_time": "2024-04-23T12:05:38.470Z"
   },
   {
    "duration": 0,
    "start_time": "2024-04-23T12:05:38.471Z"
   },
   {
    "duration": 0,
    "start_time": "2024-04-23T12:05:38.472Z"
   },
   {
    "duration": 0,
    "start_time": "2024-04-23T12:05:38.473Z"
   },
   {
    "duration": 0,
    "start_time": "2024-04-23T12:05:38.474Z"
   },
   {
    "duration": 0,
    "start_time": "2024-04-23T12:05:38.475Z"
   },
   {
    "duration": 0,
    "start_time": "2024-04-23T12:05:38.476Z"
   },
   {
    "duration": 0,
    "start_time": "2024-04-23T12:05:38.477Z"
   },
   {
    "duration": 0,
    "start_time": "2024-04-23T12:05:38.478Z"
   },
   {
    "duration": 0,
    "start_time": "2024-04-23T12:05:38.479Z"
   },
   {
    "duration": 0,
    "start_time": "2024-04-23T12:05:38.480Z"
   },
   {
    "duration": 0,
    "start_time": "2024-04-23T12:05:38.480Z"
   },
   {
    "duration": 0,
    "start_time": "2024-04-23T12:05:38.481Z"
   },
   {
    "duration": 0,
    "start_time": "2024-04-23T12:05:38.482Z"
   },
   {
    "duration": 0,
    "start_time": "2024-04-23T12:05:38.483Z"
   },
   {
    "duration": 0,
    "start_time": "2024-04-23T12:05:38.484Z"
   },
   {
    "duration": 0,
    "start_time": "2024-04-23T12:05:38.485Z"
   },
   {
    "duration": 0,
    "start_time": "2024-04-23T12:05:38.486Z"
   },
   {
    "duration": 0,
    "start_time": "2024-04-23T12:05:38.515Z"
   },
   {
    "duration": 0,
    "start_time": "2024-04-23T12:05:38.516Z"
   },
   {
    "duration": 0,
    "start_time": "2024-04-23T12:05:38.517Z"
   },
   {
    "duration": 0,
    "start_time": "2024-04-23T12:05:38.518Z"
   },
   {
    "duration": 0,
    "start_time": "2024-04-23T12:05:38.519Z"
   },
   {
    "duration": 0,
    "start_time": "2024-04-23T12:05:38.520Z"
   },
   {
    "duration": 0,
    "start_time": "2024-04-23T12:05:38.521Z"
   },
   {
    "duration": 0,
    "start_time": "2024-04-23T12:05:38.522Z"
   },
   {
    "duration": 0,
    "start_time": "2024-04-23T12:05:38.523Z"
   },
   {
    "duration": 0,
    "start_time": "2024-04-23T12:05:38.524Z"
   },
   {
    "duration": 0,
    "start_time": "2024-04-23T12:05:38.525Z"
   },
   {
    "duration": 0,
    "start_time": "2024-04-23T12:05:38.526Z"
   },
   {
    "duration": 0,
    "start_time": "2024-04-23T12:05:38.527Z"
   },
   {
    "duration": 0,
    "start_time": "2024-04-23T12:05:38.528Z"
   },
   {
    "duration": 0,
    "start_time": "2024-04-23T12:05:38.529Z"
   },
   {
    "duration": 0,
    "start_time": "2024-04-23T12:05:38.530Z"
   },
   {
    "duration": 0,
    "start_time": "2024-04-23T12:05:38.531Z"
   },
   {
    "duration": 0,
    "start_time": "2024-04-23T12:05:38.532Z"
   },
   {
    "duration": 0,
    "start_time": "2024-04-23T12:05:38.533Z"
   },
   {
    "duration": 0,
    "start_time": "2024-04-23T12:05:38.533Z"
   },
   {
    "duration": 0,
    "start_time": "2024-04-23T12:05:38.535Z"
   },
   {
    "duration": 0,
    "start_time": "2024-04-23T12:05:38.536Z"
   },
   {
    "duration": 0,
    "start_time": "2024-04-23T12:05:38.536Z"
   },
   {
    "duration": 0,
    "start_time": "2024-04-23T12:05:38.537Z"
   },
   {
    "duration": 0,
    "start_time": "2024-04-23T12:05:38.539Z"
   },
   {
    "duration": 0,
    "start_time": "2024-04-23T12:05:38.540Z"
   },
   {
    "duration": 0,
    "start_time": "2024-04-23T12:05:38.540Z"
   },
   {
    "duration": 0,
    "start_time": "2024-04-23T12:05:38.541Z"
   },
   {
    "duration": 0,
    "start_time": "2024-04-23T12:05:38.542Z"
   },
   {
    "duration": 0,
    "start_time": "2024-04-23T12:05:38.543Z"
   },
   {
    "duration": 0,
    "start_time": "2024-04-23T12:05:38.544Z"
   },
   {
    "duration": 0,
    "start_time": "2024-04-23T12:05:38.545Z"
   },
   {
    "duration": 0,
    "start_time": "2024-04-23T12:05:38.546Z"
   },
   {
    "duration": 0,
    "start_time": "2024-04-23T12:05:38.547Z"
   },
   {
    "duration": 0,
    "start_time": "2024-04-23T12:05:38.548Z"
   },
   {
    "duration": 0,
    "start_time": "2024-04-23T12:05:38.549Z"
   },
   {
    "duration": 0,
    "start_time": "2024-04-23T12:05:38.550Z"
   },
   {
    "duration": 0,
    "start_time": "2024-04-23T12:05:38.551Z"
   },
   {
    "duration": 0,
    "start_time": "2024-04-23T12:05:38.552Z"
   },
   {
    "duration": 0,
    "start_time": "2024-04-23T12:05:38.615Z"
   },
   {
    "duration": 0,
    "start_time": "2024-04-23T12:05:38.616Z"
   },
   {
    "duration": 0,
    "start_time": "2024-04-23T12:05:38.617Z"
   },
   {
    "duration": 0,
    "start_time": "2024-04-23T12:05:38.618Z"
   },
   {
    "duration": 822,
    "start_time": "2024-04-23T12:05:52.888Z"
   },
   {
    "duration": 2413,
    "start_time": "2024-04-23T12:05:56.368Z"
   },
   {
    "duration": 4,
    "start_time": "2024-04-23T12:05:58.783Z"
   },
   {
    "duration": 72,
    "start_time": "2024-04-23T12:05:58.788Z"
   },
   {
    "duration": 24,
    "start_time": "2024-04-23T12:05:58.863Z"
   },
   {
    "duration": 11,
    "start_time": "2024-04-23T12:05:58.889Z"
   },
   {
    "duration": 11,
    "start_time": "2024-04-23T12:05:58.902Z"
   },
   {
    "duration": 1940,
    "start_time": "2024-04-23T12:05:58.914Z"
   },
   {
    "duration": 0,
    "start_time": "2024-04-23T12:06:00.857Z"
   },
   {
    "duration": 0,
    "start_time": "2024-04-23T12:06:00.859Z"
   },
   {
    "duration": 0,
    "start_time": "2024-04-23T12:06:00.861Z"
   },
   {
    "duration": 0,
    "start_time": "2024-04-23T12:06:00.862Z"
   },
   {
    "duration": 0,
    "start_time": "2024-04-23T12:06:00.864Z"
   },
   {
    "duration": 0,
    "start_time": "2024-04-23T12:06:00.865Z"
   },
   {
    "duration": 0,
    "start_time": "2024-04-23T12:06:00.866Z"
   },
   {
    "duration": 0,
    "start_time": "2024-04-23T12:06:00.868Z"
   },
   {
    "duration": 0,
    "start_time": "2024-04-23T12:06:00.869Z"
   },
   {
    "duration": 0,
    "start_time": "2024-04-23T12:06:00.871Z"
   },
   {
    "duration": 0,
    "start_time": "2024-04-23T12:06:00.872Z"
   },
   {
    "duration": 0,
    "start_time": "2024-04-23T12:06:00.873Z"
   },
   {
    "duration": 0,
    "start_time": "2024-04-23T12:06:00.875Z"
   },
   {
    "duration": 0,
    "start_time": "2024-04-23T12:06:00.876Z"
   },
   {
    "duration": 0,
    "start_time": "2024-04-23T12:06:00.877Z"
   },
   {
    "duration": 0,
    "start_time": "2024-04-23T12:06:00.879Z"
   },
   {
    "duration": 0,
    "start_time": "2024-04-23T12:06:00.880Z"
   },
   {
    "duration": 0,
    "start_time": "2024-04-23T12:06:00.881Z"
   },
   {
    "duration": 0,
    "start_time": "2024-04-23T12:06:00.882Z"
   },
   {
    "duration": 0,
    "start_time": "2024-04-23T12:06:00.884Z"
   },
   {
    "duration": 0,
    "start_time": "2024-04-23T12:06:00.885Z"
   },
   {
    "duration": 0,
    "start_time": "2024-04-23T12:06:00.887Z"
   },
   {
    "duration": 0,
    "start_time": "2024-04-23T12:06:00.888Z"
   },
   {
    "duration": 0,
    "start_time": "2024-04-23T12:06:00.889Z"
   },
   {
    "duration": 0,
    "start_time": "2024-04-23T12:06:00.890Z"
   },
   {
    "duration": 0,
    "start_time": "2024-04-23T12:06:00.891Z"
   },
   {
    "duration": 0,
    "start_time": "2024-04-23T12:06:00.892Z"
   },
   {
    "duration": 0,
    "start_time": "2024-04-23T12:06:00.893Z"
   },
   {
    "duration": 0,
    "start_time": "2024-04-23T12:06:00.894Z"
   },
   {
    "duration": 0,
    "start_time": "2024-04-23T12:06:00.895Z"
   },
   {
    "duration": 0,
    "start_time": "2024-04-23T12:06:00.896Z"
   },
   {
    "duration": 0,
    "start_time": "2024-04-23T12:06:00.897Z"
   },
   {
    "duration": 0,
    "start_time": "2024-04-23T12:06:00.898Z"
   },
   {
    "duration": 0,
    "start_time": "2024-04-23T12:06:00.915Z"
   },
   {
    "duration": 0,
    "start_time": "2024-04-23T12:06:00.916Z"
   },
   {
    "duration": 0,
    "start_time": "2024-04-23T12:06:00.917Z"
   },
   {
    "duration": 0,
    "start_time": "2024-04-23T12:06:00.918Z"
   },
   {
    "duration": 0,
    "start_time": "2024-04-23T12:06:00.919Z"
   },
   {
    "duration": 0,
    "start_time": "2024-04-23T12:06:00.920Z"
   },
   {
    "duration": 0,
    "start_time": "2024-04-23T12:06:00.921Z"
   },
   {
    "duration": 0,
    "start_time": "2024-04-23T12:06:00.922Z"
   },
   {
    "duration": 0,
    "start_time": "2024-04-23T12:06:00.923Z"
   },
   {
    "duration": 0,
    "start_time": "2024-04-23T12:06:00.923Z"
   },
   {
    "duration": 0,
    "start_time": "2024-04-23T12:06:00.924Z"
   },
   {
    "duration": 0,
    "start_time": "2024-04-23T12:06:00.925Z"
   },
   {
    "duration": 0,
    "start_time": "2024-04-23T12:06:00.926Z"
   },
   {
    "duration": 0,
    "start_time": "2024-04-23T12:06:00.927Z"
   },
   {
    "duration": 0,
    "start_time": "2024-04-23T12:06:00.928Z"
   },
   {
    "duration": 0,
    "start_time": "2024-04-23T12:06:00.929Z"
   },
   {
    "duration": 0,
    "start_time": "2024-04-23T12:06:00.930Z"
   },
   {
    "duration": 0,
    "start_time": "2024-04-23T12:06:00.931Z"
   },
   {
    "duration": 0,
    "start_time": "2024-04-23T12:06:00.932Z"
   },
   {
    "duration": 0,
    "start_time": "2024-04-23T12:06:00.933Z"
   },
   {
    "duration": 0,
    "start_time": "2024-04-23T12:06:00.934Z"
   },
   {
    "duration": 0,
    "start_time": "2024-04-23T12:06:00.937Z"
   },
   {
    "duration": 0,
    "start_time": "2024-04-23T12:06:00.938Z"
   },
   {
    "duration": 0,
    "start_time": "2024-04-23T12:06:00.939Z"
   },
   {
    "duration": 368,
    "start_time": "2024-04-23T12:06:28.685Z"
   },
   {
    "duration": 28,
    "start_time": "2024-04-23T12:07:42.202Z"
   },
   {
    "duration": 12,
    "start_time": "2024-04-23T12:07:42.812Z"
   },
   {
    "duration": 11,
    "start_time": "2024-04-23T12:07:43.918Z"
   },
   {
    "duration": 4,
    "start_time": "2024-04-23T12:07:44.532Z"
   },
   {
    "duration": 6,
    "start_time": "2024-04-23T12:07:45.402Z"
   },
   {
    "duration": 11,
    "start_time": "2024-04-23T12:07:46.852Z"
   },
   {
    "duration": 9,
    "start_time": "2024-04-23T12:07:47.285Z"
   },
   {
    "duration": 1898,
    "start_time": "2024-04-23T12:07:47.870Z"
   },
   {
    "duration": 0,
    "start_time": "2024-04-23T12:07:49.770Z"
   },
   {
    "duration": 0,
    "start_time": "2024-04-23T12:07:49.771Z"
   },
   {
    "duration": 5,
    "start_time": "2024-04-23T12:07:56.601Z"
   },
   {
    "duration": 10,
    "start_time": "2024-04-23T12:07:57.281Z"
   },
   {
    "duration": 11,
    "start_time": "2024-04-23T12:07:57.702Z"
   },
   {
    "duration": 7,
    "start_time": "2024-04-23T12:07:59.377Z"
   },
   {
    "duration": 13,
    "start_time": "2024-04-23T12:08:00.072Z"
   },
   {
    "duration": 266,
    "start_time": "2024-04-23T12:08:00.904Z"
   },
   {
    "duration": 153,
    "start_time": "2024-04-23T12:08:02.049Z"
   },
   {
    "duration": 3,
    "start_time": "2024-04-23T12:08:03.972Z"
   },
   {
    "duration": 22,
    "start_time": "2024-04-23T12:08:04.643Z"
   },
   {
    "duration": 4,
    "start_time": "2024-04-23T12:08:05.031Z"
   },
   {
    "duration": 2087,
    "start_time": "2024-04-23T12:08:05.486Z"
   },
   {
    "duration": 0,
    "start_time": "2024-04-23T12:08:07.575Z"
   },
   {
    "duration": 8,
    "start_time": "2024-04-23T12:08:17.500Z"
   },
   {
    "duration": 16,
    "start_time": "2024-04-23T12:08:18.064Z"
   },
   {
    "duration": 1700,
    "start_time": "2024-04-23T12:08:18.581Z"
   },
   {
    "duration": 0,
    "start_time": "2024-04-23T12:08:20.283Z"
   },
   {
    "duration": 5,
    "start_time": "2024-04-23T12:08:28.014Z"
   },
   {
    "duration": 16,
    "start_time": "2024-04-23T12:08:28.452Z"
   },
   {
    "duration": 9,
    "start_time": "2024-04-23T12:08:30.389Z"
   },
   {
    "duration": 26,
    "start_time": "2024-04-23T12:08:35.247Z"
   },
   {
    "duration": 2,
    "start_time": "2024-04-23T12:08:46.379Z"
   },
   {
    "duration": 4,
    "start_time": "2024-04-23T12:08:46.905Z"
   },
   {
    "duration": 7,
    "start_time": "2024-04-23T12:08:49.467Z"
   },
   {
    "duration": 49,
    "start_time": "2024-04-23T12:08:50.277Z"
   },
   {
    "duration": 50,
    "start_time": "2024-04-23T12:08:51.332Z"
   },
   {
    "duration": 5,
    "start_time": "2024-04-23T12:08:58.486Z"
   },
   {
    "duration": 76,
    "start_time": "2024-04-23T12:08:59.325Z"
   },
   {
    "duration": 83,
    "start_time": "2024-04-23T12:09:00.144Z"
   },
   {
    "duration": 23,
    "start_time": "2024-04-23T12:09:01.051Z"
   },
   {
    "duration": 176,
    "start_time": "2024-04-23T12:09:02.566Z"
   },
   {
    "duration": 349,
    "start_time": "2024-04-23T12:09:03.728Z"
   },
   {
    "duration": 6,
    "start_time": "2024-04-23T12:09:16.880Z"
   },
   {
    "duration": 244,
    "start_time": "2024-04-23T12:09:17.690Z"
   },
   {
    "duration": 258,
    "start_time": "2024-04-23T12:09:19.467Z"
   },
   {
    "duration": 258,
    "start_time": "2024-04-23T12:09:24.013Z"
   },
   {
    "duration": 4084,
    "start_time": "2024-04-23T12:14:07.703Z"
   },
   {
    "duration": 4,
    "start_time": "2024-04-23T12:14:11.789Z"
   },
   {
    "duration": 53,
    "start_time": "2024-04-23T12:14:11.794Z"
   },
   {
    "duration": 15,
    "start_time": "2024-04-23T12:14:11.849Z"
   },
   {
    "duration": 11,
    "start_time": "2024-04-23T12:14:11.866Z"
   },
   {
    "duration": 5,
    "start_time": "2024-04-23T12:14:11.878Z"
   },
   {
    "duration": 10,
    "start_time": "2024-04-23T12:14:11.885Z"
   },
   {
    "duration": 15,
    "start_time": "2024-04-23T12:14:11.897Z"
   },
   {
    "duration": 11,
    "start_time": "2024-04-23T12:14:11.914Z"
   },
   {
    "duration": 8,
    "start_time": "2024-04-23T12:14:11.927Z"
   },
   {
    "duration": 13,
    "start_time": "2024-04-23T12:14:11.936Z"
   },
   {
    "duration": 13,
    "start_time": "2024-04-23T12:14:11.950Z"
   },
   {
    "duration": 11,
    "start_time": "2024-04-23T12:14:11.964Z"
   },
   {
    "duration": 16,
    "start_time": "2024-04-23T12:14:11.977Z"
   },
   {
    "duration": 199,
    "start_time": "2024-04-23T12:14:11.994Z"
   },
   {
    "duration": 170,
    "start_time": "2024-04-23T12:14:12.194Z"
   },
   {
    "duration": 4,
    "start_time": "2024-04-23T12:14:12.365Z"
   },
   {
    "duration": 30,
    "start_time": "2024-04-23T12:14:12.370Z"
   },
   {
    "duration": 3,
    "start_time": "2024-04-23T12:14:12.401Z"
   },
   {
    "duration": 2984,
    "start_time": "2024-04-23T12:14:12.406Z"
   },
   {
    "duration": 0,
    "start_time": "2024-04-23T12:14:15.393Z"
   },
   {
    "duration": 0,
    "start_time": "2024-04-23T12:14:15.394Z"
   },
   {
    "duration": 0,
    "start_time": "2024-04-23T12:14:15.395Z"
   },
   {
    "duration": 0,
    "start_time": "2024-04-23T12:14:15.396Z"
   },
   {
    "duration": 0,
    "start_time": "2024-04-23T12:14:15.396Z"
   },
   {
    "duration": 0,
    "start_time": "2024-04-23T12:14:15.397Z"
   },
   {
    "duration": 0,
    "start_time": "2024-04-23T12:14:15.398Z"
   },
   {
    "duration": 1,
    "start_time": "2024-04-23T12:14:15.399Z"
   },
   {
    "duration": 0,
    "start_time": "2024-04-23T12:14:15.400Z"
   },
   {
    "duration": 0,
    "start_time": "2024-04-23T12:14:15.401Z"
   },
   {
    "duration": 0,
    "start_time": "2024-04-23T12:14:15.402Z"
   },
   {
    "duration": 0,
    "start_time": "2024-04-23T12:14:15.404Z"
   },
   {
    "duration": 0,
    "start_time": "2024-04-23T12:14:15.405Z"
   },
   {
    "duration": 0,
    "start_time": "2024-04-23T12:14:15.406Z"
   },
   {
    "duration": 0,
    "start_time": "2024-04-23T12:14:15.407Z"
   },
   {
    "duration": 0,
    "start_time": "2024-04-23T12:14:15.408Z"
   },
   {
    "duration": 0,
    "start_time": "2024-04-23T12:14:15.409Z"
   },
   {
    "duration": 0,
    "start_time": "2024-04-23T12:14:15.410Z"
   },
   {
    "duration": 0,
    "start_time": "2024-04-23T12:14:15.411Z"
   },
   {
    "duration": 0,
    "start_time": "2024-04-23T12:14:15.412Z"
   },
   {
    "duration": 0,
    "start_time": "2024-04-23T12:14:15.413Z"
   },
   {
    "duration": 0,
    "start_time": "2024-04-23T12:14:15.414Z"
   },
   {
    "duration": 0,
    "start_time": "2024-04-23T12:14:15.414Z"
   },
   {
    "duration": 0,
    "start_time": "2024-04-23T12:14:15.415Z"
   },
   {
    "duration": 0,
    "start_time": "2024-04-23T12:14:15.416Z"
   },
   {
    "duration": 0,
    "start_time": "2024-04-23T12:14:15.417Z"
   },
   {
    "duration": 0,
    "start_time": "2024-04-23T12:14:15.418Z"
   },
   {
    "duration": 0,
    "start_time": "2024-04-23T12:14:15.419Z"
   },
   {
    "duration": 0,
    "start_time": "2024-04-23T12:14:15.420Z"
   },
   {
    "duration": 0,
    "start_time": "2024-04-23T12:14:15.421Z"
   },
   {
    "duration": 0,
    "start_time": "2024-04-23T12:14:15.422Z"
   },
   {
    "duration": 0,
    "start_time": "2024-04-23T12:14:15.423Z"
   },
   {
    "duration": 0,
    "start_time": "2024-04-23T12:14:15.423Z"
   },
   {
    "duration": 0,
    "start_time": "2024-04-23T12:14:15.424Z"
   },
   {
    "duration": 0,
    "start_time": "2024-04-23T12:14:15.425Z"
   },
   {
    "duration": 0,
    "start_time": "2024-04-23T12:14:15.426Z"
   },
   {
    "duration": 0,
    "start_time": "2024-04-23T12:14:15.427Z"
   },
   {
    "duration": 0,
    "start_time": "2024-04-23T12:14:15.428Z"
   },
   {
    "duration": 0,
    "start_time": "2024-04-23T12:14:15.429Z"
   },
   {
    "duration": 0,
    "start_time": "2024-04-23T12:14:15.430Z"
   },
   {
    "duration": 0,
    "start_time": "2024-04-23T12:14:15.431Z"
   },
   {
    "duration": 0,
    "start_time": "2024-04-23T12:14:15.432Z"
   },
   {
    "duration": 0,
    "start_time": "2024-04-23T12:14:15.433Z"
   },
   {
    "duration": 0,
    "start_time": "2024-04-23T12:14:15.434Z"
   },
   {
    "duration": 8,
    "start_time": "2024-04-23T12:14:46.437Z"
   },
   {
    "duration": 15,
    "start_time": "2024-04-23T12:14:47.161Z"
   },
   {
    "duration": 3176,
    "start_time": "2024-04-23T12:14:47.671Z"
   },
   {
    "duration": 0,
    "start_time": "2024-04-23T12:14:50.849Z"
   },
   {
    "duration": 0,
    "start_time": "2024-04-23T12:14:50.850Z"
   },
   {
    "duration": 0,
    "start_time": "2024-04-23T12:14:50.850Z"
   },
   {
    "duration": 26,
    "start_time": "2024-04-23T12:14:51.785Z"
   },
   {
    "duration": 6,
    "start_time": "2024-04-23T12:15:02.052Z"
   },
   {
    "duration": 17,
    "start_time": "2024-04-23T12:15:02.979Z"
   },
   {
    "duration": 9,
    "start_time": "2024-04-23T12:15:06.153Z"
   },
   {
    "duration": 26,
    "start_time": "2024-04-23T12:15:07.322Z"
   },
   {
    "duration": 2,
    "start_time": "2024-04-23T12:15:13.086Z"
   },
   {
    "duration": 5,
    "start_time": "2024-04-23T12:15:13.501Z"
   },
   {
    "duration": 7,
    "start_time": "2024-04-23T12:15:13.957Z"
   },
   {
    "duration": 78,
    "start_time": "2024-04-23T12:15:14.926Z"
   },
   {
    "duration": 26,
    "start_time": "2024-04-23T12:15:15.863Z"
   },
   {
    "duration": 6,
    "start_time": "2024-04-23T12:15:59.341Z"
   },
   {
    "duration": 120,
    "start_time": "2024-04-23T12:15:59.963Z"
   },
   {
    "duration": 23,
    "start_time": "2024-04-23T12:16:02.503Z"
   },
   {
    "duration": 23,
    "start_time": "2024-04-23T12:16:05.093Z"
   },
   {
    "duration": 178,
    "start_time": "2024-04-23T12:16:09.687Z"
   },
   {
    "duration": 301,
    "start_time": "2024-04-23T12:16:10.689Z"
   },
   {
    "duration": 247,
    "start_time": "2024-04-23T12:16:19.126Z"
   },
   {
    "duration": 355,
    "start_time": "2024-04-23T12:16:22.715Z"
   },
   {
    "duration": 252,
    "start_time": "2024-04-23T12:16:51.513Z"
   },
   {
    "duration": 2455,
    "start_time": "2024-04-23T12:19:03.773Z"
   },
   {
    "duration": 4,
    "start_time": "2024-04-23T12:19:06.230Z"
   },
   {
    "duration": 76,
    "start_time": "2024-04-23T12:19:06.236Z"
   },
   {
    "duration": 15,
    "start_time": "2024-04-23T12:19:06.315Z"
   },
   {
    "duration": 23,
    "start_time": "2024-04-23T12:19:06.332Z"
   },
   {
    "duration": 5,
    "start_time": "2024-04-23T12:19:06.357Z"
   },
   {
    "duration": 11,
    "start_time": "2024-04-23T12:19:06.364Z"
   },
   {
    "duration": 15,
    "start_time": "2024-04-23T12:19:06.376Z"
   },
   {
    "duration": 18,
    "start_time": "2024-04-23T12:19:06.392Z"
   },
   {
    "duration": 10,
    "start_time": "2024-04-23T12:19:06.412Z"
   },
   {
    "duration": 18,
    "start_time": "2024-04-23T12:19:06.424Z"
   },
   {
    "duration": 30,
    "start_time": "2024-04-23T12:19:06.443Z"
   },
   {
    "duration": 14,
    "start_time": "2024-04-23T12:19:06.474Z"
   },
   {
    "duration": 28,
    "start_time": "2024-04-23T12:19:06.491Z"
   },
   {
    "duration": 200,
    "start_time": "2024-04-23T12:19:06.521Z"
   },
   {
    "duration": 224,
    "start_time": "2024-04-23T12:19:06.722Z"
   },
   {
    "duration": 3,
    "start_time": "2024-04-23T12:19:06.948Z"
   },
   {
    "duration": 29,
    "start_time": "2024-04-23T12:19:06.952Z"
   },
   {
    "duration": 33,
    "start_time": "2024-04-23T12:19:06.982Z"
   },
   {
    "duration": 2525,
    "start_time": "2024-04-23T12:19:07.016Z"
   },
   {
    "duration": 0,
    "start_time": "2024-04-23T12:19:09.543Z"
   },
   {
    "duration": 0,
    "start_time": "2024-04-23T12:19:09.544Z"
   },
   {
    "duration": 0,
    "start_time": "2024-04-23T12:19:09.545Z"
   },
   {
    "duration": 0,
    "start_time": "2024-04-23T12:19:09.546Z"
   },
   {
    "duration": 0,
    "start_time": "2024-04-23T12:19:09.547Z"
   },
   {
    "duration": 0,
    "start_time": "2024-04-23T12:19:09.548Z"
   },
   {
    "duration": 0,
    "start_time": "2024-04-23T12:19:09.549Z"
   },
   {
    "duration": 0,
    "start_time": "2024-04-23T12:19:09.551Z"
   },
   {
    "duration": 0,
    "start_time": "2024-04-23T12:19:09.552Z"
   },
   {
    "duration": 0,
    "start_time": "2024-04-23T12:19:09.553Z"
   },
   {
    "duration": 0,
    "start_time": "2024-04-23T12:19:09.554Z"
   },
   {
    "duration": 0,
    "start_time": "2024-04-23T12:19:09.555Z"
   },
   {
    "duration": 0,
    "start_time": "2024-04-23T12:19:09.556Z"
   },
   {
    "duration": 0,
    "start_time": "2024-04-23T12:19:09.557Z"
   },
   {
    "duration": 0,
    "start_time": "2024-04-23T12:19:09.558Z"
   },
   {
    "duration": 0,
    "start_time": "2024-04-23T12:19:09.559Z"
   },
   {
    "duration": 0,
    "start_time": "2024-04-23T12:19:09.560Z"
   },
   {
    "duration": 0,
    "start_time": "2024-04-23T12:19:09.561Z"
   },
   {
    "duration": 0,
    "start_time": "2024-04-23T12:19:09.562Z"
   },
   {
    "duration": 0,
    "start_time": "2024-04-23T12:19:09.563Z"
   },
   {
    "duration": 0,
    "start_time": "2024-04-23T12:19:09.564Z"
   },
   {
    "duration": 0,
    "start_time": "2024-04-23T12:19:09.564Z"
   },
   {
    "duration": 0,
    "start_time": "2024-04-23T12:19:09.565Z"
   },
   {
    "duration": 0,
    "start_time": "2024-04-23T12:19:09.566Z"
   },
   {
    "duration": 0,
    "start_time": "2024-04-23T12:19:09.567Z"
   },
   {
    "duration": 0,
    "start_time": "2024-04-23T12:19:09.568Z"
   },
   {
    "duration": 0,
    "start_time": "2024-04-23T12:19:09.569Z"
   },
   {
    "duration": 0,
    "start_time": "2024-04-23T12:19:09.570Z"
   },
   {
    "duration": 0,
    "start_time": "2024-04-23T12:19:09.571Z"
   },
   {
    "duration": 1,
    "start_time": "2024-04-23T12:19:09.571Z"
   },
   {
    "duration": 0,
    "start_time": "2024-04-23T12:19:09.573Z"
   },
   {
    "duration": 0,
    "start_time": "2024-04-23T12:19:09.574Z"
   },
   {
    "duration": 0,
    "start_time": "2024-04-23T12:19:09.574Z"
   },
   {
    "duration": 1,
    "start_time": "2024-04-23T12:19:09.575Z"
   },
   {
    "duration": 0,
    "start_time": "2024-04-23T12:19:09.576Z"
   },
   {
    "duration": 0,
    "start_time": "2024-04-23T12:19:09.577Z"
   },
   {
    "duration": 0,
    "start_time": "2024-04-23T12:19:09.578Z"
   },
   {
    "duration": 0,
    "start_time": "2024-04-23T12:19:09.615Z"
   },
   {
    "duration": 0,
    "start_time": "2024-04-23T12:19:09.616Z"
   },
   {
    "duration": 0,
    "start_time": "2024-04-23T12:19:09.617Z"
   },
   {
    "duration": 1,
    "start_time": "2024-04-23T12:19:09.618Z"
   },
   {
    "duration": 0,
    "start_time": "2024-04-23T12:19:09.620Z"
   },
   {
    "duration": 0,
    "start_time": "2024-04-23T12:19:09.620Z"
   },
   {
    "duration": 0,
    "start_time": "2024-04-23T12:19:09.621Z"
   },
   {
    "duration": 8,
    "start_time": "2024-04-23T12:19:19.210Z"
   },
   {
    "duration": 15,
    "start_time": "2024-04-23T12:19:19.625Z"
   },
   {
    "duration": 5071,
    "start_time": "2024-04-23T12:19:19.931Z"
   },
   {
    "duration": 0,
    "start_time": "2024-04-23T12:19:25.004Z"
   },
   {
    "duration": 0,
    "start_time": "2024-04-23T12:19:25.006Z"
   },
   {
    "duration": 9,
    "start_time": "2024-04-23T12:19:25.165Z"
   },
   {
    "duration": 28,
    "start_time": "2024-04-23T12:19:28.598Z"
   },
   {
    "duration": 5,
    "start_time": "2024-04-23T12:19:33.351Z"
   },
   {
    "duration": 7,
    "start_time": "2024-04-23T12:19:33.962Z"
   },
   {
    "duration": 1817,
    "start_time": "2024-04-23T12:19:35.118Z"
   },
   {
    "duration": 0,
    "start_time": "2024-04-23T12:19:36.936Z"
   },
   {
    "duration": 50,
    "start_time": "2024-04-23T12:20:47.753Z"
   },
   {
    "duration": 6,
    "start_time": "2024-04-23T12:20:57.422Z"
   },
   {
    "duration": 19,
    "start_time": "2024-04-23T12:20:58.017Z"
   },
   {
    "duration": 8,
    "start_time": "2024-04-23T12:20:59.400Z"
   },
   {
    "duration": 35,
    "start_time": "2024-04-23T12:21:00.032Z"
   },
   {
    "duration": 2,
    "start_time": "2024-04-23T12:21:01.511Z"
   },
   {
    "duration": 6,
    "start_time": "2024-04-23T12:21:02.020Z"
   },
   {
    "duration": 6,
    "start_time": "2024-04-23T12:21:02.657Z"
   },
   {
    "duration": 73,
    "start_time": "2024-04-23T12:21:04.864Z"
   },
   {
    "duration": 26,
    "start_time": "2024-04-23T12:21:04.939Z"
   },
   {
    "duration": 6,
    "start_time": "2024-04-23T12:21:05.473Z"
   },
   {
    "duration": 122,
    "start_time": "2024-04-23T12:21:06.930Z"
   },
   {
    "duration": 25,
    "start_time": "2024-04-23T12:21:12.129Z"
   },
   {
    "duration": 0,
    "start_time": "2024-04-23T12:21:12.156Z"
   },
   {
    "duration": 0,
    "start_time": "2024-04-23T12:21:12.157Z"
   },
   {
    "duration": 0,
    "start_time": "2024-04-23T12:21:12.159Z"
   },
   {
    "duration": 0,
    "start_time": "2024-04-23T12:21:12.160Z"
   },
   {
    "duration": 0,
    "start_time": "2024-04-23T12:21:12.162Z"
   },
   {
    "duration": 268,
    "start_time": "2024-04-23T12:21:12.761Z"
   },
   {
    "duration": 267,
    "start_time": "2024-04-23T12:21:14.682Z"
   },
   {
    "duration": 179,
    "start_time": "2024-04-23T12:21:31.300Z"
   },
   {
    "duration": 268,
    "start_time": "2024-04-23T12:21:32.524Z"
   },
   {
    "duration": 5941,
    "start_time": "2024-04-26T06:05:04.108Z"
   },
   {
    "duration": 1641,
    "start_time": "2024-04-26T06:05:10.052Z"
   },
   {
    "duration": 68,
    "start_time": "2024-04-26T06:05:11.695Z"
   },
   {
    "duration": 23,
    "start_time": "2024-04-26T06:05:11.766Z"
   },
   {
    "duration": 12,
    "start_time": "2024-04-26T06:05:11.790Z"
   },
   {
    "duration": 9,
    "start_time": "2024-04-26T06:05:11.803Z"
   },
   {
    "duration": 15,
    "start_time": "2024-04-26T06:05:11.814Z"
   },
   {
    "duration": 22,
    "start_time": "2024-04-26T06:05:11.831Z"
   },
   {
    "duration": 24,
    "start_time": "2024-04-26T06:05:11.854Z"
   },
   {
    "duration": 38,
    "start_time": "2024-04-26T06:05:11.881Z"
   },
   {
    "duration": 25,
    "start_time": "2024-04-26T06:05:11.921Z"
   },
   {
    "duration": 32,
    "start_time": "2024-04-26T06:05:11.947Z"
   },
   {
    "duration": 34,
    "start_time": "2024-04-26T06:05:11.981Z"
   },
   {
    "duration": 15,
    "start_time": "2024-04-26T06:05:12.017Z"
   },
   {
    "duration": 288,
    "start_time": "2024-04-26T06:05:12.033Z"
   },
   {
    "duration": 177,
    "start_time": "2024-04-26T06:05:12.323Z"
   },
   {
    "duration": 4,
    "start_time": "2024-04-26T06:05:12.502Z"
   },
   {
    "duration": 13,
    "start_time": "2024-04-26T06:05:12.507Z"
   },
   {
    "duration": 29,
    "start_time": "2024-04-26T06:05:12.522Z"
   },
   {
    "duration": 3,
    "start_time": "2024-04-26T06:05:12.553Z"
   },
   {
    "duration": 1312,
    "start_time": "2024-04-26T06:05:12.558Z"
   },
   {
    "duration": 0,
    "start_time": "2024-04-26T06:05:13.874Z"
   },
   {
    "duration": 0,
    "start_time": "2024-04-26T06:05:13.875Z"
   },
   {
    "duration": 0,
    "start_time": "2024-04-26T06:05:13.876Z"
   },
   {
    "duration": 0,
    "start_time": "2024-04-26T06:05:13.877Z"
   },
   {
    "duration": 1,
    "start_time": "2024-04-26T06:05:13.878Z"
   },
   {
    "duration": 0,
    "start_time": "2024-04-26T06:05:13.881Z"
   },
   {
    "duration": 0,
    "start_time": "2024-04-26T06:05:13.882Z"
   },
   {
    "duration": 0,
    "start_time": "2024-04-26T06:05:13.883Z"
   },
   {
    "duration": 0,
    "start_time": "2024-04-26T06:05:13.884Z"
   },
   {
    "duration": 0,
    "start_time": "2024-04-26T06:05:13.885Z"
   },
   {
    "duration": 0,
    "start_time": "2024-04-26T06:05:13.886Z"
   },
   {
    "duration": 0,
    "start_time": "2024-04-26T06:05:13.888Z"
   },
   {
    "duration": 0,
    "start_time": "2024-04-26T06:05:13.889Z"
   },
   {
    "duration": 0,
    "start_time": "2024-04-26T06:05:13.891Z"
   },
   {
    "duration": 0,
    "start_time": "2024-04-26T06:05:13.892Z"
   },
   {
    "duration": 0,
    "start_time": "2024-04-26T06:05:13.894Z"
   },
   {
    "duration": 0,
    "start_time": "2024-04-26T06:05:13.895Z"
   },
   {
    "duration": 0,
    "start_time": "2024-04-26T06:05:13.897Z"
   },
   {
    "duration": 0,
    "start_time": "2024-04-26T06:05:13.898Z"
   },
   {
    "duration": 0,
    "start_time": "2024-04-26T06:05:13.900Z"
   },
   {
    "duration": 0,
    "start_time": "2024-04-26T06:05:13.901Z"
   },
   {
    "duration": 1,
    "start_time": "2024-04-26T06:05:13.902Z"
   },
   {
    "duration": 0,
    "start_time": "2024-04-26T06:05:13.904Z"
   },
   {
    "duration": 0,
    "start_time": "2024-04-26T06:05:13.906Z"
   },
   {
    "duration": 0,
    "start_time": "2024-04-26T06:05:13.907Z"
   },
   {
    "duration": 0,
    "start_time": "2024-04-26T06:05:13.908Z"
   },
   {
    "duration": 0,
    "start_time": "2024-04-26T06:05:13.910Z"
   },
   {
    "duration": 0,
    "start_time": "2024-04-26T06:05:13.913Z"
   },
   {
    "duration": 0,
    "start_time": "2024-04-26T06:05:13.914Z"
   },
   {
    "duration": 0,
    "start_time": "2024-04-26T06:05:13.916Z"
   },
   {
    "duration": 0,
    "start_time": "2024-04-26T06:05:13.973Z"
   },
   {
    "duration": 0,
    "start_time": "2024-04-26T06:05:13.975Z"
   },
   {
    "duration": 0,
    "start_time": "2024-04-26T06:05:13.976Z"
   },
   {
    "duration": 0,
    "start_time": "2024-04-26T06:05:13.978Z"
   },
   {
    "duration": 0,
    "start_time": "2024-04-26T06:05:13.979Z"
   },
   {
    "duration": 0,
    "start_time": "2024-04-26T06:05:13.981Z"
   },
   {
    "duration": 0,
    "start_time": "2024-04-26T06:05:13.982Z"
   },
   {
    "duration": 0,
    "start_time": "2024-04-26T06:05:13.983Z"
   },
   {
    "duration": 0,
    "start_time": "2024-04-26T06:05:13.985Z"
   },
   {
    "duration": 0,
    "start_time": "2024-04-26T06:05:13.986Z"
   },
   {
    "duration": 0,
    "start_time": "2024-04-26T06:05:13.988Z"
   },
   {
    "duration": 0,
    "start_time": "2024-04-26T06:05:13.989Z"
   },
   {
    "duration": 0,
    "start_time": "2024-04-26T06:05:13.991Z"
   },
   {
    "duration": 0,
    "start_time": "2024-04-26T06:05:13.993Z"
   },
   {
    "duration": 4,
    "start_time": "2024-04-26T06:16:12.747Z"
   },
   {
    "duration": 35,
    "start_time": "2024-04-26T06:16:13.404Z"
   },
   {
    "duration": 12,
    "start_time": "2024-04-26T06:17:47.378Z"
   },
   {
    "duration": 17,
    "start_time": "2024-04-26T06:17:48.029Z"
   },
   {
    "duration": 1441,
    "start_time": "2024-04-26T06:17:48.792Z"
   },
   {
    "duration": 5,
    "start_time": "2024-04-26T06:17:50.363Z"
   },
   {
    "duration": 18,
    "start_time": "2024-04-26T06:17:57.582Z"
   },
   {
    "duration": 9,
    "start_time": "2024-04-26T06:18:00.401Z"
   },
   {
    "duration": 31,
    "start_time": "2024-04-26T06:18:01.025Z"
   },
   {
    "duration": 2,
    "start_time": "2024-04-26T06:18:02.509Z"
   },
   {
    "duration": 5,
    "start_time": "2024-04-26T06:18:03.105Z"
   },
   {
    "duration": 7,
    "start_time": "2024-04-26T06:18:03.863Z"
   },
   {
    "duration": 54,
    "start_time": "2024-04-26T06:18:04.838Z"
   },
   {
    "duration": 55,
    "start_time": "2024-04-26T06:18:07.921Z"
   },
   {
    "duration": 7,
    "start_time": "2024-04-26T06:18:09.192Z"
   },
   {
    "duration": 85,
    "start_time": "2024-04-26T06:18:09.856Z"
   },
   {
    "duration": 164,
    "start_time": "2024-04-26T06:18:10.801Z"
   },
   {
    "duration": 23,
    "start_time": "2024-04-26T06:18:11.711Z"
   },
   {
    "duration": 183,
    "start_time": "2024-04-26T06:18:16.504Z"
   },
   {
    "duration": 287,
    "start_time": "2024-04-26T06:18:20.358Z"
   },
   {
    "duration": 291,
    "start_time": "2024-04-26T06:18:27.701Z"
   },
   {
    "duration": 282,
    "start_time": "2024-04-26T06:18:29.532Z"
   },
   {
    "duration": 279,
    "start_time": "2024-04-26T06:18:34.123Z"
   },
   {
    "duration": 6,
    "start_time": "2024-04-26T06:18:49.853Z"
   },
   {
    "duration": 7,
    "start_time": "2024-04-26T06:18:50.244Z"
   },
   {
    "duration": 55,
    "start_time": "2024-04-26T06:18:50.752Z"
   },
   {
    "duration": 6,
    "start_time": "2024-04-26T06:18:51.649Z"
   },
   {
    "duration": 112,
    "start_time": "2024-04-26T06:18:52.089Z"
   },
   {
    "duration": 25,
    "start_time": "2024-04-26T06:18:52.560Z"
   },
   {
    "duration": 184,
    "start_time": "2024-04-26T06:18:54.141Z"
   },
   {
    "duration": 276,
    "start_time": "2024-04-26T06:18:54.699Z"
   },
   {
    "duration": 5,
    "start_time": "2024-04-26T06:18:55.282Z"
   },
   {
    "duration": 268,
    "start_time": "2024-04-26T06:18:56.082Z"
   },
   {
    "duration": 2,
    "start_time": "2024-04-26T06:18:58.878Z"
   },
   {
    "duration": 5,
    "start_time": "2024-04-26T06:18:59.209Z"
   },
   {
    "duration": 9,
    "start_time": "2024-04-26T06:18:59.491Z"
   },
   {
    "duration": 35,
    "start_time": "2024-04-26T06:19:00.020Z"
   },
   {
    "duration": 7,
    "start_time": "2024-04-26T06:19:01.011Z"
   },
   {
    "duration": 39,
    "start_time": "2024-04-26T06:19:01.472Z"
   },
   {
    "duration": 25,
    "start_time": "2024-04-26T06:19:09.742Z"
   },
   {
    "duration": 186,
    "start_time": "2024-04-26T06:19:15.768Z"
   },
   {
    "duration": 307,
    "start_time": "2024-04-26T06:19:16.284Z"
   },
   {
    "duration": 357,
    "start_time": "2024-04-26T06:19:17.103Z"
   },
   {
    "duration": 279,
    "start_time": "2024-04-26T06:19:17.880Z"
   },
   {
    "duration": 312,
    "start_time": "2024-04-26T06:22:25.647Z"
   },
   {
    "duration": 7,
    "start_time": "2024-04-26T07:00:55.254Z"
   },
   {
    "duration": 20,
    "start_time": "2024-04-26T07:01:30.812Z"
   },
   {
    "duration": 15,
    "start_time": "2024-04-26T07:01:50.535Z"
   },
   {
    "duration": 9,
    "start_time": "2024-04-26T07:04:43.991Z"
   },
   {
    "duration": 5,
    "start_time": "2024-04-26T07:14:09.663Z"
   },
   {
    "duration": 5,
    "start_time": "2024-04-26T07:14:24.936Z"
   },
   {
    "duration": 5,
    "start_time": "2024-04-26T07:14:43.986Z"
   },
   {
    "duration": 5,
    "start_time": "2024-04-26T07:14:46.170Z"
   },
   {
    "duration": 5,
    "start_time": "2024-04-26T07:15:14.428Z"
   },
   {
    "duration": 4,
    "start_time": "2024-04-26T07:15:15.497Z"
   },
   {
    "duration": 4,
    "start_time": "2024-04-26T07:15:20.465Z"
   },
   {
    "duration": 5,
    "start_time": "2024-04-26T07:15:51.024Z"
   },
   {
    "duration": 34,
    "start_time": "2024-04-26T07:18:00.466Z"
   },
   {
    "duration": 23,
    "start_time": "2024-04-26T07:18:34.643Z"
   },
   {
    "duration": 2600,
    "start_time": "2024-04-26T07:31:47.301Z"
   },
   {
    "duration": 4,
    "start_time": "2024-04-26T07:31:49.903Z"
   },
   {
    "duration": 88,
    "start_time": "2024-04-26T07:31:49.909Z"
   },
   {
    "duration": 15,
    "start_time": "2024-04-26T07:31:49.999Z"
   },
   {
    "duration": 34,
    "start_time": "2024-04-26T07:31:50.016Z"
   },
   {
    "duration": 14,
    "start_time": "2024-04-26T07:31:50.051Z"
   },
   {
    "duration": 23,
    "start_time": "2024-04-26T07:31:50.067Z"
   },
   {
    "duration": 22,
    "start_time": "2024-04-26T07:31:50.091Z"
   },
   {
    "duration": 13,
    "start_time": "2024-04-26T07:31:50.115Z"
   },
   {
    "duration": 12,
    "start_time": "2024-04-26T07:31:50.129Z"
   },
   {
    "duration": 13,
    "start_time": "2024-04-26T07:31:50.143Z"
   },
   {
    "duration": 23,
    "start_time": "2024-04-26T07:31:50.158Z"
   },
   {
    "duration": 38,
    "start_time": "2024-04-26T07:31:50.182Z"
   },
   {
    "duration": 40,
    "start_time": "2024-04-26T07:31:50.223Z"
   },
   {
    "duration": 223,
    "start_time": "2024-04-26T07:31:50.265Z"
   },
   {
    "duration": 181,
    "start_time": "2024-04-26T07:31:50.489Z"
   },
   {
    "duration": 3,
    "start_time": "2024-04-26T07:31:50.673Z"
   },
   {
    "duration": 30,
    "start_time": "2024-04-26T07:31:50.678Z"
   },
   {
    "duration": 5,
    "start_time": "2024-04-26T07:31:50.709Z"
   },
   {
    "duration": 24,
    "start_time": "2024-04-26T07:31:50.715Z"
   },
   {
    "duration": 37,
    "start_time": "2024-04-26T07:31:50.741Z"
   },
   {
    "duration": 0,
    "start_time": "2024-04-26T07:31:50.781Z"
   },
   {
    "duration": 0,
    "start_time": "2024-04-26T07:31:50.782Z"
   },
   {
    "duration": 0,
    "start_time": "2024-04-26T07:31:50.783Z"
   },
   {
    "duration": 0,
    "start_time": "2024-04-26T07:31:50.784Z"
   },
   {
    "duration": 1,
    "start_time": "2024-04-26T07:31:50.785Z"
   },
   {
    "duration": 0,
    "start_time": "2024-04-26T07:31:50.787Z"
   },
   {
    "duration": 0,
    "start_time": "2024-04-26T07:31:50.788Z"
   },
   {
    "duration": 0,
    "start_time": "2024-04-26T07:31:50.789Z"
   },
   {
    "duration": 0,
    "start_time": "2024-04-26T07:31:50.790Z"
   },
   {
    "duration": 0,
    "start_time": "2024-04-26T07:31:50.791Z"
   },
   {
    "duration": 0,
    "start_time": "2024-04-26T07:31:50.792Z"
   },
   {
    "duration": 0,
    "start_time": "2024-04-26T07:31:50.793Z"
   },
   {
    "duration": 0,
    "start_time": "2024-04-26T07:31:50.794Z"
   },
   {
    "duration": 0,
    "start_time": "2024-04-26T07:31:50.795Z"
   },
   {
    "duration": 0,
    "start_time": "2024-04-26T07:31:50.797Z"
   },
   {
    "duration": 0,
    "start_time": "2024-04-26T07:31:50.798Z"
   },
   {
    "duration": 0,
    "start_time": "2024-04-26T07:31:50.799Z"
   },
   {
    "duration": 0,
    "start_time": "2024-04-26T07:31:50.801Z"
   },
   {
    "duration": 0,
    "start_time": "2024-04-26T07:31:50.802Z"
   },
   {
    "duration": 0,
    "start_time": "2024-04-26T07:31:50.803Z"
   },
   {
    "duration": 0,
    "start_time": "2024-04-26T07:31:50.804Z"
   },
   {
    "duration": 0,
    "start_time": "2024-04-26T07:31:50.805Z"
   },
   {
    "duration": 0,
    "start_time": "2024-04-26T07:31:50.806Z"
   },
   {
    "duration": 0,
    "start_time": "2024-04-26T07:31:50.807Z"
   },
   {
    "duration": 0,
    "start_time": "2024-04-26T07:31:50.808Z"
   },
   {
    "duration": 0,
    "start_time": "2024-04-26T07:31:50.809Z"
   },
   {
    "duration": 0,
    "start_time": "2024-04-26T07:31:50.810Z"
   },
   {
    "duration": 0,
    "start_time": "2024-04-26T07:31:50.811Z"
   },
   {
    "duration": 0,
    "start_time": "2024-04-26T07:31:50.812Z"
   },
   {
    "duration": 0,
    "start_time": "2024-04-26T07:31:50.813Z"
   },
   {
    "duration": 0,
    "start_time": "2024-04-26T07:31:50.872Z"
   },
   {
    "duration": 0,
    "start_time": "2024-04-26T07:31:50.874Z"
   },
   {
    "duration": 0,
    "start_time": "2024-04-26T07:31:50.875Z"
   },
   {
    "duration": 0,
    "start_time": "2024-04-26T07:31:50.876Z"
   },
   {
    "duration": 0,
    "start_time": "2024-04-26T07:31:50.877Z"
   },
   {
    "duration": 0,
    "start_time": "2024-04-26T07:31:50.878Z"
   },
   {
    "duration": 0,
    "start_time": "2024-04-26T07:31:50.879Z"
   },
   {
    "duration": 0,
    "start_time": "2024-04-26T07:31:50.880Z"
   },
   {
    "duration": 0,
    "start_time": "2024-04-26T07:31:50.881Z"
   },
   {
    "duration": 0,
    "start_time": "2024-04-26T07:31:50.882Z"
   },
   {
    "duration": 0,
    "start_time": "2024-04-26T07:31:50.883Z"
   },
   {
    "duration": 0,
    "start_time": "2024-04-26T07:31:50.884Z"
   },
   {
    "duration": 0,
    "start_time": "2024-04-26T07:31:50.886Z"
   },
   {
    "duration": 0,
    "start_time": "2024-04-26T07:31:50.887Z"
   },
   {
    "duration": 4,
    "start_time": "2024-04-26T07:51:15.861Z"
   },
   {
    "duration": 81,
    "start_time": "2024-04-26T07:51:16.544Z"
   },
   {
    "duration": 9,
    "start_time": "2024-04-26T07:51:27.579Z"
   },
   {
    "duration": 18,
    "start_time": "2024-04-26T07:51:27.986Z"
   },
   {
    "duration": 2777,
    "start_time": "2024-04-26T07:51:41.938Z"
   },
   {
    "duration": 1387,
    "start_time": "2024-04-26T07:51:44.718Z"
   },
   {
    "duration": 31,
    "start_time": "2024-04-26T07:51:46.107Z"
   },
   {
    "duration": 28,
    "start_time": "2024-04-26T07:51:46.141Z"
   },
   {
    "duration": 12,
    "start_time": "2024-04-26T07:51:46.171Z"
   },
   {
    "duration": 7,
    "start_time": "2024-04-26T07:51:46.185Z"
   },
   {
    "duration": 13,
    "start_time": "2024-04-26T07:51:46.194Z"
   },
   {
    "duration": 51,
    "start_time": "2024-04-26T07:51:46.208Z"
   },
   {
    "duration": 36,
    "start_time": "2024-04-26T07:51:46.260Z"
   },
   {
    "duration": 13,
    "start_time": "2024-04-26T07:51:46.299Z"
   },
   {
    "duration": 18,
    "start_time": "2024-04-26T07:51:46.314Z"
   },
   {
    "duration": 63,
    "start_time": "2024-04-26T07:51:46.334Z"
   },
   {
    "duration": 20,
    "start_time": "2024-04-26T07:51:46.399Z"
   },
   {
    "duration": 27,
    "start_time": "2024-04-26T07:51:46.420Z"
   },
   {
    "duration": 308,
    "start_time": "2024-04-26T07:51:46.449Z"
   },
   {
    "duration": 183,
    "start_time": "2024-04-26T07:51:46.759Z"
   },
   {
    "duration": 4,
    "start_time": "2024-04-26T07:51:46.944Z"
   },
   {
    "duration": 43,
    "start_time": "2024-04-26T07:51:46.950Z"
   },
   {
    "duration": 7,
    "start_time": "2024-04-26T07:51:46.995Z"
   },
   {
    "duration": 10,
    "start_time": "2024-04-26T07:51:47.004Z"
   },
   {
    "duration": 118,
    "start_time": "2024-04-26T07:51:47.016Z"
   },
   {
    "duration": 11,
    "start_time": "2024-04-26T07:51:47.136Z"
   },
   {
    "duration": 21,
    "start_time": "2024-04-26T07:51:47.148Z"
   },
   {
    "duration": 200,
    "start_time": "2024-04-26T07:51:47.173Z"
   },
   {
    "duration": 6,
    "start_time": "2024-04-26T07:51:47.375Z"
   },
   {
    "duration": 19,
    "start_time": "2024-04-26T07:51:47.384Z"
   },
   {
    "duration": 26,
    "start_time": "2024-04-26T07:51:47.405Z"
   },
   {
    "duration": 49,
    "start_time": "2024-04-26T07:51:47.437Z"
   },
   {
    "duration": 2,
    "start_time": "2024-04-26T07:51:47.488Z"
   },
   {
    "duration": 8,
    "start_time": "2024-04-26T07:51:47.492Z"
   },
   {
    "duration": 8,
    "start_time": "2024-04-26T07:51:47.501Z"
   },
   {
    "duration": 78,
    "start_time": "2024-04-26T07:51:47.511Z"
   },
   {
    "duration": 54,
    "start_time": "2024-04-26T07:51:47.591Z"
   },
   {
    "duration": 26,
    "start_time": "2024-04-26T07:51:47.647Z"
   },
   {
    "duration": 108,
    "start_time": "2024-04-26T07:51:47.675Z"
   },
   {
    "duration": 109,
    "start_time": "2024-04-26T07:51:47.785Z"
   },
   {
    "duration": 23,
    "start_time": "2024-04-26T07:51:47.896Z"
   },
   {
    "duration": 248,
    "start_time": "2024-04-26T07:51:47.921Z"
   },
   {
    "duration": 300,
    "start_time": "2024-04-26T07:51:48.171Z"
   },
   {
    "duration": 343,
    "start_time": "2024-04-26T07:51:48.472Z"
   },
   {
    "duration": 308,
    "start_time": "2024-04-26T07:51:48.817Z"
   },
   {
    "duration": 311,
    "start_time": "2024-04-26T07:51:49.126Z"
   },
   {
    "duration": 296,
    "start_time": "2024-04-26T07:51:49.439Z"
   },
   {
    "duration": 2,
    "start_time": "2024-04-26T07:51:49.737Z"
   },
   {
    "duration": 15,
    "start_time": "2024-04-26T07:51:49.741Z"
   },
   {
    "duration": 22,
    "start_time": "2024-04-26T07:51:49.758Z"
   },
   {
    "duration": 63,
    "start_time": "2024-04-26T07:51:49.782Z"
   },
   {
    "duration": 6,
    "start_time": "2024-04-26T07:51:49.847Z"
   },
   {
    "duration": 93,
    "start_time": "2024-04-26T07:51:49.855Z"
   },
   {
    "duration": 40,
    "start_time": "2024-04-26T07:51:49.950Z"
   },
   {
    "duration": 212,
    "start_time": "2024-04-26T07:51:49.991Z"
   },
   {
    "duration": 313,
    "start_time": "2024-04-26T07:51:50.204Z"
   },
   {
    "duration": 4,
    "start_time": "2024-04-26T07:51:50.519Z"
   },
   {
    "duration": 271,
    "start_time": "2024-04-26T07:51:50.525Z"
   },
   {
    "duration": 2,
    "start_time": "2024-04-26T07:51:50.798Z"
   },
   {
    "duration": 11,
    "start_time": "2024-04-26T07:51:50.802Z"
   },
   {
    "duration": 16,
    "start_time": "2024-04-26T07:51:50.814Z"
   },
   {
    "duration": 51,
    "start_time": "2024-04-26T07:51:50.832Z"
   },
   {
    "duration": 5,
    "start_time": "2024-04-26T07:51:50.885Z"
   },
   {
    "duration": 78,
    "start_time": "2024-04-26T07:51:50.892Z"
   },
   {
    "duration": 25,
    "start_time": "2024-04-26T07:51:50.972Z"
   },
   {
    "duration": 198,
    "start_time": "2024-04-26T07:51:50.999Z"
   },
   {
    "duration": 296,
    "start_time": "2024-04-26T07:51:51.199Z"
   },
   {
    "duration": 296,
    "start_time": "2024-04-26T07:51:51.497Z"
   },
   {
    "duration": 370,
    "start_time": "2024-04-26T07:51:51.794Z"
   },
   {
    "duration": 286,
    "start_time": "2024-04-26T07:53:41.261Z"
   },
   {
    "duration": 5173,
    "start_time": "2024-06-10T08:44:22.339Z"
   },
   {
    "duration": 1800,
    "start_time": "2024-06-10T08:44:27.515Z"
   },
   {
    "duration": 75,
    "start_time": "2024-06-10T08:44:29.317Z"
   },
   {
    "duration": 19,
    "start_time": "2024-06-10T08:44:29.394Z"
   },
   {
    "duration": 13,
    "start_time": "2024-06-10T08:44:29.415Z"
   },
   {
    "duration": 5,
    "start_time": "2024-06-10T08:44:29.430Z"
   },
   {
    "duration": 21,
    "start_time": "2024-06-10T08:44:29.438Z"
   },
   {
    "duration": 28,
    "start_time": "2024-06-10T08:44:29.461Z"
   },
   {
    "duration": 16,
    "start_time": "2024-06-10T08:44:29.491Z"
   },
   {
    "duration": 25,
    "start_time": "2024-06-10T08:44:29.509Z"
   },
   {
    "duration": 22,
    "start_time": "2024-06-10T08:44:29.537Z"
   },
   {
    "duration": 23,
    "start_time": "2024-06-10T08:44:29.561Z"
   },
   {
    "duration": 10,
    "start_time": "2024-06-10T08:44:29.586Z"
   },
   {
    "duration": 24,
    "start_time": "2024-06-10T08:44:29.599Z"
   },
   {
    "duration": 330,
    "start_time": "2024-06-10T08:44:29.624Z"
   },
   {
    "duration": 199,
    "start_time": "2024-06-10T08:44:29.957Z"
   },
   {
    "duration": 4,
    "start_time": "2024-06-10T08:44:30.158Z"
   },
   {
    "duration": 64,
    "start_time": "2024-06-10T08:44:30.164Z"
   },
   {
    "duration": 23,
    "start_time": "2024-06-10T08:44:30.230Z"
   },
   {
    "duration": 153,
    "start_time": "2024-06-10T08:44:30.255Z"
   },
   {
    "duration": 55,
    "start_time": "2024-06-10T08:44:30.410Z"
   },
   {
    "duration": 60,
    "start_time": "2024-06-10T08:44:30.467Z"
   },
   {
    "duration": 253,
    "start_time": "2024-06-10T08:44:30.529Z"
   },
   {
    "duration": 5,
    "start_time": "2024-06-10T08:44:30.784Z"
   },
   {
    "duration": 95,
    "start_time": "2024-06-10T08:44:30.791Z"
   },
   {
    "duration": 138,
    "start_time": "2024-06-10T08:44:30.888Z"
   },
   {
    "duration": 84,
    "start_time": "2024-06-10T08:44:31.028Z"
   },
   {
    "duration": 85,
    "start_time": "2024-06-10T08:44:31.114Z"
   },
   {
    "duration": 80,
    "start_time": "2024-06-10T08:44:31.201Z"
   },
   {
    "duration": 112,
    "start_time": "2024-06-10T08:44:31.283Z"
   },
   {
    "duration": 85,
    "start_time": "2024-06-10T08:44:31.397Z"
   },
   {
    "duration": 60,
    "start_time": "2024-06-10T08:44:31.484Z"
   },
   {
    "duration": 192,
    "start_time": "2024-06-10T08:44:31.546Z"
   },
   {
    "duration": 102,
    "start_time": "2024-06-10T08:44:31.741Z"
   },
   {
    "duration": 126,
    "start_time": "2024-06-10T08:44:31.845Z"
   },
   {
    "duration": 209,
    "start_time": "2024-06-10T08:44:31.972Z"
   },
   {
    "duration": 299,
    "start_time": "2024-06-10T08:44:32.183Z"
   },
   {
    "duration": 384,
    "start_time": "2024-06-10T08:44:32.484Z"
   },
   {
    "duration": 336,
    "start_time": "2024-06-10T08:44:32.870Z"
   },
   {
    "duration": 339,
    "start_time": "2024-06-10T08:44:33.208Z"
   },
   {
    "duration": 331,
    "start_time": "2024-06-10T08:44:33.551Z"
   },
   {
    "duration": 5,
    "start_time": "2024-06-10T08:44:33.884Z"
   },
   {
    "duration": 10,
    "start_time": "2024-06-10T08:44:33.891Z"
   },
   {
    "duration": 93,
    "start_time": "2024-06-10T08:44:33.903Z"
   },
   {
    "duration": 6,
    "start_time": "2024-06-10T08:44:33.998Z"
   },
   {
    "duration": 120,
    "start_time": "2024-06-10T08:44:34.006Z"
   },
   {
    "duration": 25,
    "start_time": "2024-06-10T08:44:34.128Z"
   },
   {
    "duration": 218,
    "start_time": "2024-06-10T08:44:34.155Z"
   },
   {
    "duration": 308,
    "start_time": "2024-06-10T08:44:34.375Z"
   },
   {
    "duration": 277,
    "start_time": "2024-06-10T08:44:34.684Z"
   },
   {
    "duration": 4,
    "start_time": "2024-06-10T08:44:34.963Z"
   },
   {
    "duration": 65,
    "start_time": "2024-06-10T08:44:34.968Z"
   },
   {
    "duration": 46,
    "start_time": "2024-06-10T08:44:35.035Z"
   },
   {
    "duration": 7,
    "start_time": "2024-06-10T08:44:35.083Z"
   },
   {
    "duration": 53,
    "start_time": "2024-06-10T08:44:35.092Z"
   },
   {
    "duration": 62,
    "start_time": "2024-06-10T08:44:35.147Z"
   },
   {
    "duration": 207,
    "start_time": "2024-06-10T08:44:35.210Z"
   },
   {
    "duration": 299,
    "start_time": "2024-06-10T08:44:35.419Z"
   },
   {
    "duration": 302,
    "start_time": "2024-06-10T08:44:35.719Z"
   },
   {
    "duration": 380,
    "start_time": "2024-06-10T08:44:36.023Z"
   },
   {
    "duration": 210,
    "start_time": "2024-06-10T08:51:35.494Z"
   },
   {
    "duration": 2804,
    "start_time": "2024-06-10T08:51:52.933Z"
   },
   {
    "duration": 1431,
    "start_time": "2024-06-10T08:51:55.740Z"
   },
   {
    "duration": 52,
    "start_time": "2024-06-10T08:51:57.173Z"
   },
   {
    "duration": 18,
    "start_time": "2024-06-10T08:51:57.227Z"
   },
   {
    "duration": 33,
    "start_time": "2024-06-10T08:51:57.248Z"
   },
   {
    "duration": 15,
    "start_time": "2024-06-10T08:51:57.283Z"
   },
   {
    "duration": 23,
    "start_time": "2024-06-10T08:51:57.300Z"
   },
   {
    "duration": 47,
    "start_time": "2024-06-10T08:51:57.325Z"
   },
   {
    "duration": 20,
    "start_time": "2024-06-10T08:51:57.374Z"
   },
   {
    "duration": 28,
    "start_time": "2024-06-10T08:51:57.396Z"
   },
   {
    "duration": 82,
    "start_time": "2024-06-10T08:51:57.426Z"
   },
   {
    "duration": 61,
    "start_time": "2024-06-10T08:51:57.510Z"
   },
   {
    "duration": 23,
    "start_time": "2024-06-10T08:51:57.573Z"
   },
   {
    "duration": 48,
    "start_time": "2024-06-10T08:51:57.601Z"
   },
   {
    "duration": 328,
    "start_time": "2024-06-10T08:51:57.651Z"
   },
   {
    "duration": 184,
    "start_time": "2024-06-10T08:51:57.982Z"
   },
   {
    "duration": 4,
    "start_time": "2024-06-10T08:51:58.167Z"
   },
   {
    "duration": 61,
    "start_time": "2024-06-10T08:51:58.173Z"
   },
   {
    "duration": 5,
    "start_time": "2024-06-10T08:51:58.236Z"
   },
   {
    "duration": 105,
    "start_time": "2024-06-10T08:51:58.243Z"
   },
   {
    "duration": 22,
    "start_time": "2024-06-10T08:51:58.350Z"
   },
   {
    "duration": 24,
    "start_time": "2024-06-10T08:51:58.373Z"
   },
   {
    "duration": 196,
    "start_time": "2024-06-10T08:51:58.399Z"
   },
   {
    "duration": 6,
    "start_time": "2024-06-10T08:51:58.597Z"
   },
   {
    "duration": 51,
    "start_time": "2024-06-10T08:51:58.604Z"
   },
   {
    "duration": 24,
    "start_time": "2024-06-10T08:51:58.657Z"
   },
   {
    "duration": 46,
    "start_time": "2024-06-10T08:51:58.684Z"
   },
   {
    "duration": 5,
    "start_time": "2024-06-10T08:51:58.732Z"
   },
   {
    "duration": 30,
    "start_time": "2024-06-10T08:51:58.739Z"
   },
   {
    "duration": 78,
    "start_time": "2024-06-10T08:51:58.771Z"
   },
   {
    "duration": 55,
    "start_time": "2024-06-10T08:51:58.851Z"
   },
   {
    "duration": 6,
    "start_time": "2024-06-10T08:51:58.908Z"
   },
   {
    "duration": 144,
    "start_time": "2024-06-10T08:51:58.916Z"
   },
   {
    "duration": 123,
    "start_time": "2024-06-10T08:51:59.062Z"
   },
   {
    "duration": 35,
    "start_time": "2024-06-10T08:51:59.188Z"
   },
   {
    "duration": 226,
    "start_time": "2024-06-10T08:51:59.225Z"
   },
   {
    "duration": 329,
    "start_time": "2024-06-10T08:51:59.453Z"
   },
   {
    "duration": 351,
    "start_time": "2024-06-10T08:51:59.784Z"
   },
   {
    "duration": 290,
    "start_time": "2024-06-10T08:52:00.137Z"
   },
   {
    "duration": 316,
    "start_time": "2024-06-10T08:52:00.428Z"
   },
   {
    "duration": 287,
    "start_time": "2024-06-10T08:52:00.748Z"
   },
   {
    "duration": 5,
    "start_time": "2024-06-10T08:52:01.037Z"
   },
   {
    "duration": 125,
    "start_time": "2024-06-10T08:52:01.044Z"
   },
   {
    "duration": 121,
    "start_time": "2024-06-10T08:52:01.171Z"
   },
   {
    "duration": 20,
    "start_time": "2024-06-10T08:52:01.294Z"
   },
   {
    "duration": 175,
    "start_time": "2024-06-10T08:52:01.315Z"
   },
   {
    "duration": 121,
    "start_time": "2024-06-10T08:52:01.491Z"
   },
   {
    "duration": 249,
    "start_time": "2024-06-10T08:52:01.613Z"
   },
   {
    "duration": 312,
    "start_time": "2024-06-10T08:52:01.865Z"
   },
   {
    "duration": 273,
    "start_time": "2024-06-10T08:52:02.179Z"
   },
   {
    "duration": 6,
    "start_time": "2024-06-10T08:52:02.454Z"
   },
   {
    "duration": 25,
    "start_time": "2024-06-10T08:52:02.461Z"
   },
   {
    "duration": 49,
    "start_time": "2024-06-10T08:52:02.489Z"
   },
   {
    "duration": 11,
    "start_time": "2024-06-10T08:52:02.540Z"
   },
   {
    "duration": 85,
    "start_time": "2024-06-10T08:52:02.553Z"
   },
   {
    "duration": 45,
    "start_time": "2024-06-10T08:52:02.640Z"
   },
   {
    "duration": 228,
    "start_time": "2024-06-10T08:52:02.687Z"
   },
   {
    "duration": 335,
    "start_time": "2024-06-10T08:52:02.917Z"
   },
   {
    "duration": 378,
    "start_time": "2024-06-10T08:52:03.253Z"
   },
   {
    "duration": 259,
    "start_time": "2024-06-10T08:52:03.633Z"
   }
  ],
  "colab": {
   "provenance": [],
   "toc_visible": true
  },
  "kernelspec": {
   "display_name": "Python 3 (ipykernel)",
   "language": "python",
   "name": "python3"
  },
  "language_info": {
   "codemirror_mode": {
    "name": "ipython",
    "version": 3
   },
   "file_extension": ".py",
   "mimetype": "text/x-python",
   "name": "python",
   "nbconvert_exporter": "python",
   "pygments_lexer": "ipython3",
   "version": "3.9.5"
  },
  "toc": {
   "base_numbering": 1,
   "nav_menu": {},
   "number_sections": true,
   "sideBar": true,
   "skip_h1_title": true,
   "title_cell": "Table of Contents",
   "title_sidebar": "Contents",
   "toc_cell": false,
   "toc_position": {
    "height": "calc(100% - 180px)",
    "left": "10px",
    "top": "150px",
    "width": "256px"
   },
   "toc_section_display": true,
   "toc_window_display": true
  }
 },
 "nbformat": 4,
 "nbformat_minor": 1
}
